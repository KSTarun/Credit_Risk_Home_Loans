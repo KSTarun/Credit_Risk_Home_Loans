{
 "cells": [
  {
   "cell_type": "markdown",
   "id": "3640a61e",
   "metadata": {
    "papermill": {
     "duration": 0.014849,
     "end_time": "2024-03-01T12:50:12.223153",
     "exception": false,
     "start_time": "2024-03-01T12:50:12.208304",
     "status": "completed"
    },
    "tags": []
   },
   "source": [
    "### Importing Packages"
   ]
  },
  {
   "cell_type": "code",
   "execution_count": 1,
   "id": "3ad91e13",
   "metadata": {
    "execution": {
     "iopub.execute_input": "2024-03-01T12:50:12.254983Z",
     "iopub.status.busy": "2024-03-01T12:50:12.254099Z",
     "iopub.status.idle": "2024-03-01T12:50:15.004391Z",
     "shell.execute_reply": "2024-03-01T12:50:15.001354Z"
    },
    "papermill": {
     "duration": 2.769887,
     "end_time": "2024-03-01T12:50:15.007695",
     "exception": false,
     "start_time": "2024-03-01T12:50:12.237808",
     "status": "completed"
    },
    "tags": []
   },
   "outputs": [],
   "source": [
    "import pandas as pd \n",
    "import numpy as np \n",
    "import seaborn as sns \n",
    "\n",
    "import os\n",
    "from loguru import logger\n",
    "\n",
    "import warnings\n",
    "warnings.filterwarnings('ignore')\n",
    "import gc"
   ]
  },
  {
   "cell_type": "markdown",
   "id": "6683691b",
   "metadata": {
    "papermill": {
     "duration": 0.013434,
     "end_time": "2024-03-01T12:50:15.035306",
     "exception": false,
     "start_time": "2024-03-01T12:50:15.021872",
     "status": "completed"
    },
    "tags": []
   },
   "source": [
    "### Common functions"
   ]
  },
  {
   "cell_type": "code",
   "execution_count": 2,
   "id": "a0000192",
   "metadata": {
    "execution": {
     "iopub.execute_input": "2024-03-01T12:50:15.066847Z",
     "iopub.status.busy": "2024-03-01T12:50:15.066133Z",
     "iopub.status.idle": "2024-03-01T12:50:15.084145Z",
     "shell.execute_reply": "2024-03-01T12:50:15.082802Z"
    },
    "papermill": {
     "duration": 0.037588,
     "end_time": "2024-03-01T12:50:15.086648",
     "exception": false,
     "start_time": "2024-03-01T12:50:15.049060",
     "status": "completed"
    },
    "tags": []
   },
   "outputs": [],
   "source": [
    "def reduce_mem_usage(df):\n",
    "    \"\"\" iterate through all the columns of a dataframe and modify the data type\n",
    "        to reduce memory usage.        \n",
    "    \"\"\"\n",
    "    start_mem = df.memory_usage().sum() / 1024**2\n",
    "    print('Memory usage of dataframe is {:.2f} MB'.format(start_mem))\n",
    "    \n",
    "    for col in df.columns:\n",
    "        col_type = df[col].dtype\n",
    "#         print(f'{col}:{col_type}')\n",
    "        \n",
    "        if col_type not in [object,'category']:\n",
    "            c_min = df[col].min()\n",
    "            c_max = df[col].max()\n",
    "            if str(col_type)[:3] == 'int':\n",
    "                if c_min > np.iinfo(np.int8).min and c_max < np.iinfo(np.int8).max:\n",
    "                    df[col] = df[col].astype(np.int8)\n",
    "                elif c_min > np.iinfo(np.int16).min and c_max < np.iinfo(np.int16).max:\n",
    "                    df[col] = df[col].astype(np.int16)\n",
    "                elif c_min > np.iinfo(np.int32).min and c_max < np.iinfo(np.int32).max:\n",
    "                    df[col] = df[col].astype(np.int32)\n",
    "                elif c_min > np.iinfo(np.int64).min and c_max < np.iinfo(np.int64).max:\n",
    "                    df[col] = df[col].astype(np.int64)  \n",
    "            else:\n",
    "                if c_min > np.finfo(np.float16).min and c_max < np.finfo(np.float16).max:\n",
    "                    df[col] = df[col].astype(np.float16)\n",
    "                elif c_min > np.finfo(np.float32).min and c_max < np.finfo(np.float32).max:\n",
    "                    df[col] = df[col].astype(np.float32)\n",
    "                else:\n",
    "                    df[col] = df[col].astype(np.float64)\n",
    "        else:\n",
    "            df[col] = df[col].astype('category')\n",
    "\n",
    "    end_mem = df.memory_usage().sum() / 1024**2\n",
    "    print('Memory usage after optimization is: {:.2f} MB'.format(end_mem))\n",
    "    print('Decreased by {:.1f}%'.format(100 * (start_mem - end_mem) / start_mem))\n",
    "    \n",
    "    return df"
   ]
  },
  {
   "cell_type": "markdown",
   "id": "db4ec6ea",
   "metadata": {
    "papermill": {
     "duration": 0.014848,
     "end_time": "2024-03-01T12:50:15.116406",
     "exception": false,
     "start_time": "2024-03-01T12:50:15.101558",
     "status": "completed"
    },
    "tags": []
   },
   "source": [
    "### Importing Data"
   ]
  },
  {
   "cell_type": "markdown",
   "id": "f8de2956",
   "metadata": {
    "papermill": {
     "duration": 0.013702,
     "end_time": "2024-03-01T12:50:15.144546",
     "exception": false,
     "start_time": "2024-03-01T12:50:15.130844",
     "status": "completed"
    },
    "tags": []
   },
   "source": [
    "##### Importing train base data"
   ]
  },
  {
   "cell_type": "code",
   "execution_count": 3,
   "id": "847bb374",
   "metadata": {
    "execution": {
     "iopub.execute_input": "2024-03-01T12:50:15.174694Z",
     "iopub.status.busy": "2024-03-01T12:50:15.174194Z",
     "iopub.status.idle": "2024-03-01T12:50:15.180629Z",
     "shell.execute_reply": "2024-03-01T12:50:15.179132Z"
    },
    "papermill": {
     "duration": 0.024724,
     "end_time": "2024-03-01T12:50:15.183364",
     "exception": false,
     "start_time": "2024-03-01T12:50:15.158640",
     "status": "completed"
    },
    "tags": []
   },
   "outputs": [],
   "source": [
    "input_path = \"/kaggle/input/home-credit-credit-risk-model-stability/csv_files/train/\"\n",
    "output_path = \"/kaggle/working/train/\""
   ]
  },
  {
   "cell_type": "code",
   "execution_count": 4,
   "id": "6870d997",
   "metadata": {
    "execution": {
     "iopub.execute_input": "2024-03-01T12:50:15.213826Z",
     "iopub.status.busy": "2024-03-01T12:50:15.213362Z",
     "iopub.status.idle": "2024-03-01T12:50:15.267896Z",
     "shell.execute_reply": "2024-03-01T12:50:15.266246Z"
    },
    "papermill": {
     "duration": 0.07317,
     "end_time": "2024-03-01T12:50:15.270361",
     "exception": false,
     "start_time": "2024-03-01T12:50:15.197191",
     "status": "completed"
    },
    "tags": []
   },
   "outputs": [
    {
     "name": "stderr",
     "output_type": "stream",
     "text": [
      "\u001b[32m2024-03-01 12:50:15.221\u001b[0m | \u001b[1mINFO    \u001b[0m | \u001b[36m__main__\u001b[0m:\u001b[36m<module>\u001b[0m:\u001b[36m3\u001b[0m - \u001b[1mFilename is:train_credit_bureau_a_1_3.csv\u001b[0m\n",
      "\u001b[32m2024-03-01 12:50:15.222\u001b[0m | \u001b[1mINFO    \u001b[0m | \u001b[36m__main__\u001b[0m:\u001b[36m<module>\u001b[0m:\u001b[36m3\u001b[0m - \u001b[1mFilename is:train_static_cb_0.csv\u001b[0m\n",
      "\u001b[32m2024-03-01 12:50:15.223\u001b[0m | \u001b[1mINFO    \u001b[0m | \u001b[36m__main__\u001b[0m:\u001b[36m<module>\u001b[0m:\u001b[36m3\u001b[0m - \u001b[1mFilename is:train_applprev_1_0.csv\u001b[0m\n",
      "\u001b[32m2024-03-01 12:50:15.225\u001b[0m | \u001b[1mINFO    \u001b[0m | \u001b[36m__main__\u001b[0m:\u001b[36m<module>\u001b[0m:\u001b[36m3\u001b[0m - \u001b[1mFilename is:train_person_2.csv\u001b[0m\n",
      "\u001b[32m2024-03-01 12:50:15.226\u001b[0m | \u001b[1mINFO    \u001b[0m | \u001b[36m__main__\u001b[0m:\u001b[36m<module>\u001b[0m:\u001b[36m3\u001b[0m - \u001b[1mFilename is:train_base.csv\u001b[0m\n",
      "\u001b[32m2024-03-01 12:50:15.227\u001b[0m | \u001b[1mINFO    \u001b[0m | \u001b[36m__main__\u001b[0m:\u001b[36m<module>\u001b[0m:\u001b[36m3\u001b[0m - \u001b[1mFilename is:train_tax_registry_a_1.csv\u001b[0m\n",
      "\u001b[32m2024-03-01 12:50:15.229\u001b[0m | \u001b[1mINFO    \u001b[0m | \u001b[36m__main__\u001b[0m:\u001b[36m<module>\u001b[0m:\u001b[36m3\u001b[0m - \u001b[1mFilename is:train_static_0_0.csv\u001b[0m\n",
      "\u001b[32m2024-03-01 12:50:15.230\u001b[0m | \u001b[1mINFO    \u001b[0m | \u001b[36m__main__\u001b[0m:\u001b[36m<module>\u001b[0m:\u001b[36m3\u001b[0m - \u001b[1mFilename is:train_credit_bureau_a_1_0.csv\u001b[0m\n",
      "\u001b[32m2024-03-01 12:50:15.232\u001b[0m | \u001b[1mINFO    \u001b[0m | \u001b[36m__main__\u001b[0m:\u001b[36m<module>\u001b[0m:\u001b[36m3\u001b[0m - \u001b[1mFilename is:train_applprev_2.csv\u001b[0m\n",
      "\u001b[32m2024-03-01 12:50:15.235\u001b[0m | \u001b[1mINFO    \u001b[0m | \u001b[36m__main__\u001b[0m:\u001b[36m<module>\u001b[0m:\u001b[36m3\u001b[0m - \u001b[1mFilename is:train_credit_bureau_a_2_6.csv\u001b[0m\n",
      "\u001b[32m2024-03-01 12:50:15.236\u001b[0m | \u001b[1mINFO    \u001b[0m | \u001b[36m__main__\u001b[0m:\u001b[36m<module>\u001b[0m:\u001b[36m3\u001b[0m - \u001b[1mFilename is:train_credit_bureau_a_1_2.csv\u001b[0m\n",
      "\u001b[32m2024-03-01 12:50:15.237\u001b[0m | \u001b[1mINFO    \u001b[0m | \u001b[36m__main__\u001b[0m:\u001b[36m<module>\u001b[0m:\u001b[36m3\u001b[0m - \u001b[1mFilename is:train_person_1.csv\u001b[0m\n",
      "\u001b[32m2024-03-01 12:50:15.238\u001b[0m | \u001b[1mINFO    \u001b[0m | \u001b[36m__main__\u001b[0m:\u001b[36m<module>\u001b[0m:\u001b[36m3\u001b[0m - \u001b[1mFilename is:train_credit_bureau_a_1_1.csv\u001b[0m\n",
      "\u001b[32m2024-03-01 12:50:15.240\u001b[0m | \u001b[1mINFO    \u001b[0m | \u001b[36m__main__\u001b[0m:\u001b[36m<module>\u001b[0m:\u001b[36m3\u001b[0m - \u001b[1mFilename is:train_tax_registry_c_1.csv\u001b[0m\n",
      "\u001b[32m2024-03-01 12:50:15.241\u001b[0m | \u001b[1mINFO    \u001b[0m | \u001b[36m__main__\u001b[0m:\u001b[36m<module>\u001b[0m:\u001b[36m3\u001b[0m - \u001b[1mFilename is:train_credit_bureau_a_2_4.csv\u001b[0m\n",
      "\u001b[32m2024-03-01 12:50:15.242\u001b[0m | \u001b[1mINFO    \u001b[0m | \u001b[36m__main__\u001b[0m:\u001b[36m<module>\u001b[0m:\u001b[36m3\u001b[0m - \u001b[1mFilename is:train_credit_bureau_a_2_9.csv\u001b[0m\n",
      "\u001b[32m2024-03-01 12:50:15.243\u001b[0m | \u001b[1mINFO    \u001b[0m | \u001b[36m__main__\u001b[0m:\u001b[36m<module>\u001b[0m:\u001b[36m3\u001b[0m - \u001b[1mFilename is:train_credit_bureau_a_2_3.csv\u001b[0m\n",
      "\u001b[32m2024-03-01 12:50:15.244\u001b[0m | \u001b[1mINFO    \u001b[0m | \u001b[36m__main__\u001b[0m:\u001b[36m<module>\u001b[0m:\u001b[36m3\u001b[0m - \u001b[1mFilename is:train_credit_bureau_a_2_7.csv\u001b[0m\n",
      "\u001b[32m2024-03-01 12:50:15.245\u001b[0m | \u001b[1mINFO    \u001b[0m | \u001b[36m__main__\u001b[0m:\u001b[36m<module>\u001b[0m:\u001b[36m3\u001b[0m - \u001b[1mFilename is:train_credit_bureau_b_2.csv\u001b[0m\n",
      "\u001b[32m2024-03-01 12:50:15.246\u001b[0m | \u001b[1mINFO    \u001b[0m | \u001b[36m__main__\u001b[0m:\u001b[36m<module>\u001b[0m:\u001b[36m3\u001b[0m - \u001b[1mFilename is:train_credit_bureau_a_2_2.csv\u001b[0m\n",
      "\u001b[32m2024-03-01 12:50:15.247\u001b[0m | \u001b[1mINFO    \u001b[0m | \u001b[36m__main__\u001b[0m:\u001b[36m<module>\u001b[0m:\u001b[36m3\u001b[0m - \u001b[1mFilename is:train_static_0_1.csv\u001b[0m\n",
      "\u001b[32m2024-03-01 12:50:15.248\u001b[0m | \u001b[1mINFO    \u001b[0m | \u001b[36m__main__\u001b[0m:\u001b[36m<module>\u001b[0m:\u001b[36m3\u001b[0m - \u001b[1mFilename is:train_deposit_1.csv\u001b[0m\n",
      "\u001b[32m2024-03-01 12:50:15.249\u001b[0m | \u001b[1mINFO    \u001b[0m | \u001b[36m__main__\u001b[0m:\u001b[36m<module>\u001b[0m:\u001b[36m3\u001b[0m - \u001b[1mFilename is:train_credit_bureau_a_2_10.csv\u001b[0m\n",
      "\u001b[32m2024-03-01 12:50:15.250\u001b[0m | \u001b[1mINFO    \u001b[0m | \u001b[36m__main__\u001b[0m:\u001b[36m<module>\u001b[0m:\u001b[36m3\u001b[0m - \u001b[1mFilename is:train_tax_registry_b_1.csv\u001b[0m\n",
      "\u001b[32m2024-03-01 12:50:15.251\u001b[0m | \u001b[1mINFO    \u001b[0m | \u001b[36m__main__\u001b[0m:\u001b[36m<module>\u001b[0m:\u001b[36m3\u001b[0m - \u001b[1mFilename is:train_applprev_1_1.csv\u001b[0m\n",
      "\u001b[32m2024-03-01 12:50:15.252\u001b[0m | \u001b[1mINFO    \u001b[0m | \u001b[36m__main__\u001b[0m:\u001b[36m<module>\u001b[0m:\u001b[36m3\u001b[0m - \u001b[1mFilename is:train_credit_bureau_a_2_1.csv\u001b[0m\n",
      "\u001b[32m2024-03-01 12:50:15.255\u001b[0m | \u001b[1mINFO    \u001b[0m | \u001b[36m__main__\u001b[0m:\u001b[36m<module>\u001b[0m:\u001b[36m3\u001b[0m - \u001b[1mFilename is:train_credit_bureau_a_2_8.csv\u001b[0m\n",
      "\u001b[32m2024-03-01 12:50:15.257\u001b[0m | \u001b[1mINFO    \u001b[0m | \u001b[36m__main__\u001b[0m:\u001b[36m<module>\u001b[0m:\u001b[36m3\u001b[0m - \u001b[1mFilename is:train_credit_bureau_a_2_5.csv\u001b[0m\n",
      "\u001b[32m2024-03-01 12:50:15.258\u001b[0m | \u001b[1mINFO    \u001b[0m | \u001b[36m__main__\u001b[0m:\u001b[36m<module>\u001b[0m:\u001b[36m3\u001b[0m - \u001b[1mFilename is:train_credit_bureau_b_1.csv\u001b[0m\n",
      "\u001b[32m2024-03-01 12:50:15.259\u001b[0m | \u001b[1mINFO    \u001b[0m | \u001b[36m__main__\u001b[0m:\u001b[36m<module>\u001b[0m:\u001b[36m3\u001b[0m - \u001b[1mFilename is:train_credit_bureau_a_2_0.csv\u001b[0m\n",
      "\u001b[32m2024-03-01 12:50:15.261\u001b[0m | \u001b[1mINFO    \u001b[0m | \u001b[36m__main__\u001b[0m:\u001b[36m<module>\u001b[0m:\u001b[36m3\u001b[0m - \u001b[1mFilename is:train_other_1.csv\u001b[0m\n",
      "\u001b[32m2024-03-01 12:50:15.262\u001b[0m | \u001b[1mINFO    \u001b[0m | \u001b[36m__main__\u001b[0m:\u001b[36m<module>\u001b[0m:\u001b[36m3\u001b[0m - \u001b[1mFilename is:train_debitcard_1.csv\u001b[0m\n"
     ]
    }
   ],
   "source": [
    "for dirname, _, filenames in os.walk('/kaggle/input/home-credit-credit-risk-model-stability/csv_files/train/'):\n",
    "    for filename in filenames:\n",
    "        logger.info(f\"Filename is:{filename}\")"
   ]
  },
  {
   "cell_type": "markdown",
   "id": "bbdcd3e0",
   "metadata": {
    "papermill": {
     "duration": 0.016805,
     "end_time": "2024-03-01T12:50:15.304394",
     "exception": false,
     "start_time": "2024-03-01T12:50:15.287589",
     "status": "completed"
    },
    "tags": []
   },
   "source": [
    "## Base data"
   ]
  },
  {
   "cell_type": "code",
   "execution_count": 5,
   "id": "1583c3c7",
   "metadata": {
    "execution": {
     "iopub.execute_input": "2024-03-01T12:50:15.341842Z",
     "iopub.status.busy": "2024-03-01T12:50:15.341397Z",
     "iopub.status.idle": "2024-03-01T12:50:16.892487Z",
     "shell.execute_reply": "2024-03-01T12:50:16.891202Z"
    },
    "papermill": {
     "duration": 1.573095,
     "end_time": "2024-03-01T12:50:16.895571",
     "exception": false,
     "start_time": "2024-03-01T12:50:15.322476",
     "status": "completed"
    },
    "tags": []
   },
   "outputs": [],
   "source": [
    "df_base = pd.read_csv(\"/kaggle/input/home-credit-credit-risk-model-stability/csv_files/train/train_base.csv\")"
   ]
  },
  {
   "cell_type": "code",
   "execution_count": 6,
   "id": "3bfdeaf1",
   "metadata": {
    "execution": {
     "iopub.execute_input": "2024-03-01T12:50:16.932600Z",
     "iopub.status.busy": "2024-03-01T12:50:16.932173Z",
     "iopub.status.idle": "2024-03-01T12:50:17.143656Z",
     "shell.execute_reply": "2024-03-01T12:50:17.141860Z"
    },
    "papermill": {
     "duration": 0.233321,
     "end_time": "2024-03-01T12:50:17.146427",
     "exception": false,
     "start_time": "2024-03-01T12:50:16.913106",
     "status": "completed"
    },
    "tags": []
   },
   "outputs": [
    {
     "name": "stdout",
     "output_type": "stream",
     "text": [
      "<class 'pandas.core.frame.DataFrame'>\n",
      "RangeIndex: 1526659 entries, 0 to 1526658\n",
      "Data columns (total 5 columns):\n",
      " #   Column         Non-Null Count    Dtype \n",
      "---  ------         --------------    ----- \n",
      " 0   case_id        1526659 non-null  int64 \n",
      " 1   date_decision  1526659 non-null  object\n",
      " 2   MONTH          1526659 non-null  int64 \n",
      " 3   WEEK_NUM       1526659 non-null  int64 \n",
      " 4   target         1526659 non-null  int64 \n",
      "dtypes: int64(4), object(1)\n",
      "memory usage: 58.2+ MB\n"
     ]
    }
   ],
   "source": [
    "df_base.info()"
   ]
  },
  {
   "cell_type": "code",
   "execution_count": 7,
   "id": "f64d1ff8",
   "metadata": {
    "execution": {
     "iopub.execute_input": "2024-03-01T12:50:17.183800Z",
     "iopub.status.busy": "2024-03-01T12:50:17.183337Z",
     "iopub.status.idle": "2024-03-01T12:50:17.258624Z",
     "shell.execute_reply": "2024-03-01T12:50:17.257028Z"
    },
    "papermill": {
     "duration": 0.096957,
     "end_time": "2024-03-01T12:50:17.261433",
     "exception": false,
     "start_time": "2024-03-01T12:50:17.164476",
     "status": "completed"
    },
    "tags": []
   },
   "outputs": [
    {
     "name": "stderr",
     "output_type": "stream",
     "text": [
      "\u001b[32m2024-03-01 12:50:17.253\u001b[0m | \u001b[1mINFO    \u001b[0m | \u001b[36m__main__\u001b[0m:\u001b[36m<module>\u001b[0m:\u001b[36m1\u001b[0m - \u001b[1mNumber of unique records: 1526659\u001b[0m\n"
     ]
    }
   ],
   "source": [
    "logger.info(f\"Number of unique records: {df_base['case_id'].nunique()}\")"
   ]
  },
  {
   "cell_type": "code",
   "execution_count": 8,
   "id": "8d07ad9b",
   "metadata": {
    "execution": {
     "iopub.execute_input": "2024-03-01T12:50:17.298876Z",
     "iopub.status.busy": "2024-03-01T12:50:17.298397Z",
     "iopub.status.idle": "2024-03-01T12:50:17.526181Z",
     "shell.execute_reply": "2024-03-01T12:50:17.524688Z"
    },
    "papermill": {
     "duration": 0.249885,
     "end_time": "2024-03-01T12:50:17.528925",
     "exception": false,
     "start_time": "2024-03-01T12:50:17.279040",
     "status": "completed"
    },
    "tags": []
   },
   "outputs": [
    {
     "name": "stdout",
     "output_type": "stream",
     "text": [
      "Memory usage of dataframe is 58.24 MB\n",
      "Memory usage after optimization is: 17.49 MB\n",
      "Decreased by 70.0%\n"
     ]
    }
   ],
   "source": [
    "df_base = reduce_mem_usage(df_base)"
   ]
  },
  {
   "cell_type": "markdown",
   "id": "2b26ff12",
   "metadata": {
    "papermill": {
     "duration": 0.016814,
     "end_time": "2024-03-01T12:50:17.563106",
     "exception": false,
     "start_time": "2024-03-01T12:50:17.546292",
     "status": "completed"
    },
    "tags": []
   },
   "source": [
    "### Datasets with depth 0 "
   ]
  },
  {
   "cell_type": "markdown",
   "id": "47728016",
   "metadata": {
    "papermill": {
     "duration": 0.017377,
     "end_time": "2024-03-01T12:50:17.597615",
     "exception": false,
     "start_time": "2024-03-01T12:50:17.580238",
     "status": "completed"
    },
    "tags": []
   },
   "source": [
    "#### Static data"
   ]
  },
  {
   "cell_type": "code",
   "execution_count": 9,
   "id": "c307d101",
   "metadata": {
    "execution": {
     "iopub.execute_input": "2024-03-01T12:50:17.635055Z",
     "iopub.status.busy": "2024-03-01T12:50:17.633449Z",
     "iopub.status.idle": "2024-03-01T12:51:11.929567Z",
     "shell.execute_reply": "2024-03-01T12:51:11.927893Z"
    },
    "papermill": {
     "duration": 54.318466,
     "end_time": "2024-03-01T12:51:11.933019",
     "exception": false,
     "start_time": "2024-03-01T12:50:17.614553",
     "status": "completed"
    },
    "tags": []
   },
   "outputs": [],
   "source": [
    "df_static_0 = pd.read_csv(\"/kaggle/input/home-credit-credit-risk-model-stability/csv_files/train/train_static_0_0.csv\")\n",
    "df_static_1 = pd.read_csv(\"/kaggle/input/home-credit-credit-risk-model-stability/csv_files/train/train_static_0_1.csv\")"
   ]
  },
  {
   "cell_type": "code",
   "execution_count": 10,
   "id": "25b6e889",
   "metadata": {
    "execution": {
     "iopub.execute_input": "2024-03-01T12:51:11.971022Z",
     "iopub.status.busy": "2024-03-01T12:51:11.970474Z",
     "iopub.status.idle": "2024-03-01T12:51:24.625460Z",
     "shell.execute_reply": "2024-03-01T12:51:24.623670Z"
    },
    "papermill": {
     "duration": 12.677494,
     "end_time": "2024-03-01T12:51:24.628497",
     "exception": false,
     "start_time": "2024-03-01T12:51:11.951003",
     "status": "completed"
    },
    "tags": []
   },
   "outputs": [
    {
     "name": "stdout",
     "output_type": "stream",
     "text": [
      "Memory usage of dataframe is 1279.85 MB\n",
      "Memory usage after optimization is: 361.68 MB\n",
      "Decreased by 71.7%\n",
      "Memory usage of dataframe is 666.73 MB\n",
      "Memory usage after optimization is: 190.29 MB\n",
      "Decreased by 71.5%\n"
     ]
    }
   ],
   "source": [
    "df_static_0 = reduce_mem_usage(df_static_0)\n",
    "df_static_1 = reduce_mem_usage(df_static_1)"
   ]
  },
  {
   "cell_type": "code",
   "execution_count": 11,
   "id": "51dae5e1",
   "metadata": {
    "execution": {
     "iopub.execute_input": "2024-03-01T12:51:24.667615Z",
     "iopub.status.busy": "2024-03-01T12:51:24.667173Z",
     "iopub.status.idle": "2024-03-01T12:51:24.714990Z",
     "shell.execute_reply": "2024-03-01T12:51:24.713636Z"
    },
    "papermill": {
     "duration": 0.070534,
     "end_time": "2024-03-01T12:51:24.717722",
     "exception": false,
     "start_time": "2024-03-01T12:51:24.647188",
     "status": "completed"
    },
    "tags": []
   },
   "outputs": [
    {
     "name": "stderr",
     "output_type": "stream",
     "text": [
      "\u001b[32m2024-03-01 12:51:24.694\u001b[0m | \u001b[1mINFO    \u001b[0m | \u001b[36m__main__\u001b[0m:\u001b[36m<module>\u001b[0m:\u001b[36m1\u001b[0m - \u001b[1mNumber of unique records in 0: 1003757\u001b[0m\n",
      "\u001b[32m2024-03-01 12:51:24.710\u001b[0m | \u001b[1mINFO    \u001b[0m | \u001b[36m__main__\u001b[0m:\u001b[36m<module>\u001b[0m:\u001b[36m2\u001b[0m - \u001b[1mNumber of unique records in 1: 522902\u001b[0m\n"
     ]
    }
   ],
   "source": [
    "logger.info(f\"Number of unique records in 0: {df_static_0['case_id'].nunique()}\")\n",
    "logger.info(f\"Number of unique records in 1: {df_static_1['case_id'].nunique()}\")"
   ]
  },
  {
   "cell_type": "code",
   "execution_count": 12,
   "id": "21f75eb3",
   "metadata": {
    "execution": {
     "iopub.execute_input": "2024-03-01T12:51:24.758185Z",
     "iopub.status.busy": "2024-03-01T12:51:24.757435Z",
     "iopub.status.idle": "2024-03-01T12:51:25.830015Z",
     "shell.execute_reply": "2024-03-01T12:51:25.828555Z"
    },
    "papermill": {
     "duration": 1.096294,
     "end_time": "2024-03-01T12:51:25.833477",
     "exception": false,
     "start_time": "2024-03-01T12:51:24.737183",
     "status": "completed"
    },
    "tags": []
   },
   "outputs": [],
   "source": [
    "## Combining the datasets\n",
    "df_static = pd.concat([df_static_0,df_static_1],ignore_index=True)"
   ]
  },
  {
   "cell_type": "code",
   "execution_count": 13,
   "id": "99cd9a72",
   "metadata": {
    "execution": {
     "iopub.execute_input": "2024-03-01T12:51:25.872435Z",
     "iopub.status.busy": "2024-03-01T12:51:25.871983Z",
     "iopub.status.idle": "2024-03-01T12:51:35.013235Z",
     "shell.execute_reply": "2024-03-01T12:51:35.011227Z"
    },
    "papermill": {
     "duration": 9.164274,
     "end_time": "2024-03-01T12:51:35.016336",
     "exception": false,
     "start_time": "2024-03-01T12:51:25.852062",
     "status": "completed"
    },
    "tags": []
   },
   "outputs": [
    {
     "name": "stdout",
     "output_type": "stream",
     "text": [
      "Memory usage of dataframe is 768.74 MB\n",
      "Memory usage after optimization is: 552.16 MB\n",
      "Decreased by 28.2%\n"
     ]
    }
   ],
   "source": [
    "df_static = reduce_mem_usage(df_static)"
   ]
  },
  {
   "cell_type": "code",
   "execution_count": 14,
   "id": "afb90b6f",
   "metadata": {
    "execution": {
     "iopub.execute_input": "2024-03-01T12:51:35.056026Z",
     "iopub.status.busy": "2024-03-01T12:51:35.055452Z",
     "iopub.status.idle": "2024-03-01T12:51:35.105409Z",
     "shell.execute_reply": "2024-03-01T12:51:35.103876Z"
    },
    "papermill": {
     "duration": 0.07269,
     "end_time": "2024-03-01T12:51:35.108085",
     "exception": false,
     "start_time": "2024-03-01T12:51:35.035395",
     "status": "completed"
    },
    "tags": []
   },
   "outputs": [
    {
     "name": "stderr",
     "output_type": "stream",
     "text": [
      "\u001b[32m2024-03-01 12:51:35.100\u001b[0m | \u001b[1mINFO    \u001b[0m | \u001b[36m__main__\u001b[0m:\u001b[36m<module>\u001b[0m:\u001b[36m1\u001b[0m - \u001b[1mTotal records in static dataset: 1526659\u001b[0m\n"
     ]
    }
   ],
   "source": [
    "logger.info(f\"Total records in static dataset: {df_static['case_id'].nunique()}\")"
   ]
  },
  {
   "cell_type": "markdown",
   "id": "b63c3996",
   "metadata": {
    "papermill": {
     "duration": 0.017793,
     "end_time": "2024-03-01T12:51:35.143893",
     "exception": false,
     "start_time": "2024-03-01T12:51:35.126100",
     "status": "completed"
    },
    "tags": []
   },
   "source": [
    "#### Static CB"
   ]
  },
  {
   "cell_type": "code",
   "execution_count": 15,
   "id": "e6ccca33",
   "metadata": {
    "execution": {
     "iopub.execute_input": "2024-03-01T12:51:35.183001Z",
     "iopub.status.busy": "2024-03-01T12:51:35.182505Z",
     "iopub.status.idle": "2024-03-01T12:51:47.660725Z",
     "shell.execute_reply": "2024-03-01T12:51:47.659400Z"
    },
    "papermill": {
     "duration": 12.501878,
     "end_time": "2024-03-01T12:51:47.663807",
     "exception": false,
     "start_time": "2024-03-01T12:51:35.161929",
     "status": "completed"
    },
    "tags": []
   },
   "outputs": [],
   "source": [
    "df_static_cb = pd.read_csv(\"/kaggle/input/home-credit-credit-risk-model-stability/csv_files/train/train_static_cb_0.csv\")"
   ]
  },
  {
   "cell_type": "code",
   "execution_count": 16,
   "id": "1b5b393c",
   "metadata": {
    "execution": {
     "iopub.execute_input": "2024-03-01T12:51:47.780144Z",
     "iopub.status.busy": "2024-03-01T12:51:47.779695Z",
     "iopub.status.idle": "2024-03-01T12:51:47.839331Z",
     "shell.execute_reply": "2024-03-01T12:51:47.837597Z"
    },
    "papermill": {
     "duration": 0.082887,
     "end_time": "2024-03-01T12:51:47.841984",
     "exception": false,
     "start_time": "2024-03-01T12:51:47.759097",
     "status": "completed"
    },
    "tags": []
   },
   "outputs": [
    {
     "name": "stderr",
     "output_type": "stream",
     "text": [
      "\u001b[32m2024-03-01 12:51:47.834\u001b[0m | \u001b[1mINFO    \u001b[0m | \u001b[36m__main__\u001b[0m:\u001b[36m<module>\u001b[0m:\u001b[36m1\u001b[0m - \u001b[1mNumber of unique records in 0: 1500476\u001b[0m\n"
     ]
    }
   ],
   "source": [
    "logger.info(f\"Number of unique records in 0: {df_static_cb['case_id'].nunique()}\")"
   ]
  },
  {
   "cell_type": "code",
   "execution_count": 17,
   "id": "4610411d",
   "metadata": {
    "execution": {
     "iopub.execute_input": "2024-03-01T12:51:47.882338Z",
     "iopub.status.busy": "2024-03-01T12:51:47.881335Z",
     "iopub.status.idle": "2024-03-01T12:51:52.476703Z",
     "shell.execute_reply": "2024-03-01T12:51:52.475155Z"
    },
    "papermill": {
     "duration": 4.619224,
     "end_time": "2024-03-01T12:51:52.479901",
     "exception": false,
     "start_time": "2024-03-01T12:51:47.860677",
     "status": "completed"
    },
    "tags": []
   },
   "outputs": [
    {
     "name": "stdout",
     "output_type": "stream",
     "text": [
      "Memory usage of dataframe is 606.73 MB\n",
      "Memory usage after optimization is: 159.58 MB\n",
      "Decreased by 73.7%\n",
      "<class 'pandas.core.frame.DataFrame'>\n",
      "RangeIndex: 1500476 entries, 0 to 1500475\n",
      "Data columns (total 53 columns):\n",
      " #   Column                   Non-Null Count    Dtype   \n",
      "---  ------                   --------------    -----   \n",
      " 0   case_id                  1500476 non-null  int32   \n",
      " 1   assignmentdate_238D      136996 non-null   category\n",
      " 2   assignmentdate_4527235D  114978 non-null   category\n",
      " 3   assignmentdate_4955616D  71633 non-null    category\n",
      " 4   birthdate_574D           607871 non-null   category\n",
      " 5   contractssum_5085716L    157329 non-null   float32 \n",
      " 6   dateofbirth_337D         1385691 non-null  category\n",
      " 7   dateofbirth_342D         36500 non-null    category\n",
      " 8   days120_123L             1385691 non-null  float16 \n",
      " 9   days180_256L             1385691 non-null  float16 \n",
      " 10  days30_165L              1385691 non-null  float16 \n",
      " 11  days360_512L             1385691 non-null  float16 \n",
      " 12  days90_310L              1385691 non-null  float16 \n",
      " 13  description_5085714M     1500476 non-null  category\n",
      " 14  education_1103M          1500476 non-null  category\n",
      " 15  education_88M            1500476 non-null  category\n",
      " 16  firstquarter_103L        1385691 non-null  float16 \n",
      " 17  for3years_128L           36514 non-null    float16 \n",
      " 18  for3years_504L           36514 non-null    float16 \n",
      " 19  for3years_584L           36514 non-null    float16 \n",
      " 20  formonth_118L            36514 non-null    float16 \n",
      " 21  formonth_206L            36514 non-null    float16 \n",
      " 22  formonth_535L            36514 non-null    float16 \n",
      " 23  forquarter_1017L         36514 non-null    float16 \n",
      " 24  forquarter_462L          36514 non-null    float16 \n",
      " 25  forquarter_634L          36514 non-null    float16 \n",
      " 26  fortoday_1092L           36514 non-null    float16 \n",
      " 27  forweek_1077L            36514 non-null    float16 \n",
      " 28  forweek_528L             36514 non-null    float16 \n",
      " 29  forweek_601L             36514 non-null    float16 \n",
      " 30  foryear_618L             36514 non-null    float16 \n",
      " 31  foryear_818L             36514 non-null    float16 \n",
      " 32  foryear_850L             36514 non-null    float16 \n",
      " 33  fourthquarter_440L       1385691 non-null  float16 \n",
      " 34  maritalst_385M           1500476 non-null  category\n",
      " 35  maritalst_893M           1500476 non-null  category\n",
      " 36  numberofqueries_373L     1385691 non-null  float16 \n",
      " 37  pmtaverage_3A            143589 non-null   float32 \n",
      " 38  pmtaverage_4527227A      114978 non-null   float32 \n",
      " 39  pmtaverage_4955615A      71845 non-null    float32 \n",
      " 40  pmtcount_4527229L        114978 non-null   float16 \n",
      " 41  pmtcount_4955617L        71845 non-null    float16 \n",
      " 42  pmtcount_693L            146406 non-null   float16 \n",
      " 43  pmtscount_423L           572638 non-null   float16 \n",
      " 44  pmtssum_45A              572638 non-null   float32 \n",
      " 45  requesttype_4525192L     673264 non-null   category\n",
      " 46  responsedate_1012D       720000 non-null   category\n",
      " 47  responsedate_4527233D    660327 non-null   category\n",
      " 48  responsedate_4917613D    224912 non-null   category\n",
      " 49  riskassesment_302T       53559 non-null    category\n",
      " 50  riskassesment_940T       53560 non-null    float16 \n",
      " 51  secondquarter_766L       1385691 non-null  float16 \n",
      " 52  thirdquarter_1082L       1385691 non-null  float16 \n",
      "dtypes: category(16), float16(31), float32(5), int32(1)\n",
      "memory usage: 159.6 MB\n"
     ]
    }
   ],
   "source": [
    "df_static_cb = reduce_mem_usage(df_static_cb)\n",
    "df_static_cb.info()"
   ]
  },
  {
   "cell_type": "code",
   "execution_count": 18,
   "id": "c9cf8070",
   "metadata": {
    "execution": {
     "iopub.execute_input": "2024-03-01T12:51:52.519843Z",
     "iopub.status.busy": "2024-03-01T12:51:52.519373Z",
     "iopub.status.idle": "2024-03-01T12:51:52.659853Z",
     "shell.execute_reply": "2024-03-01T12:51:52.658474Z"
    },
    "papermill": {
     "duration": 0.163493,
     "end_time": "2024-03-01T12:51:52.662474",
     "exception": false,
     "start_time": "2024-03-01T12:51:52.498981",
     "status": "completed"
    },
    "tags": []
   },
   "outputs": [
    {
     "data": {
      "text/plain": [
       "0"
      ]
     },
     "execution_count": 18,
     "metadata": {},
     "output_type": "execute_result"
    }
   ],
   "source": [
    "gc.collect()"
   ]
  },
  {
   "cell_type": "markdown",
   "id": "680b6c0e",
   "metadata": {
    "execution": {
     "iopub.execute_input": "2024-02-28T16:35:42.588424Z",
     "iopub.status.busy": "2024-02-28T16:35:42.588056Z",
     "iopub.status.idle": "2024-02-28T16:35:42.595557Z",
     "shell.execute_reply": "2024-02-28T16:35:42.594270Z",
     "shell.execute_reply.started": "2024-02-28T16:35:42.588398Z"
    },
    "papermill": {
     "duration": 0.018408,
     "end_time": "2024-03-01T12:51:52.699552",
     "exception": false,
     "start_time": "2024-03-01T12:51:52.681144",
     "status": "completed"
    },
    "tags": []
   },
   "source": [
    "##### Saving the new files "
   ]
  },
  {
   "cell_type": "code",
   "execution_count": 19,
   "id": "ef215e45",
   "metadata": {
    "execution": {
     "iopub.execute_input": "2024-03-01T12:51:52.739299Z",
     "iopub.status.busy": "2024-03-01T12:51:52.738812Z",
     "iopub.status.idle": "2024-03-01T12:51:53.973368Z",
     "shell.execute_reply": "2024-03-01T12:51:53.971498Z"
    },
    "papermill": {
     "duration": 1.258294,
     "end_time": "2024-03-01T12:51:53.976653",
     "exception": false,
     "start_time": "2024-03-01T12:51:52.718359",
     "status": "completed"
    },
    "tags": []
   },
   "outputs": [
    {
     "name": "stdout",
     "output_type": "stream",
     "text": [
      "/kaggle/working\r\n"
     ]
    }
   ],
   "source": [
    "!pwd"
   ]
  },
  {
   "cell_type": "code",
   "execution_count": 20,
   "id": "e67f6148",
   "metadata": {
    "execution": {
     "iopub.execute_input": "2024-03-01T12:51:54.020253Z",
     "iopub.status.busy": "2024-03-01T12:51:54.019813Z",
     "iopub.status.idle": "2024-03-01T12:51:55.151181Z",
     "shell.execute_reply": "2024-03-01T12:51:55.149483Z"
    },
    "papermill": {
     "duration": 1.158494,
     "end_time": "2024-03-01T12:51:55.154457",
     "exception": false,
     "start_time": "2024-03-01T12:51:53.995963",
     "status": "completed"
    },
    "tags": []
   },
   "outputs": [],
   "source": [
    "mkdir train"
   ]
  },
  {
   "cell_type": "code",
   "execution_count": 21,
   "id": "66dda36b",
   "metadata": {
    "execution": {
     "iopub.execute_input": "2024-03-01T12:51:55.196376Z",
     "iopub.status.busy": "2024-03-01T12:51:55.195918Z",
     "iopub.status.idle": "2024-03-01T12:52:13.459587Z",
     "shell.execute_reply": "2024-03-01T12:52:13.457968Z"
    },
    "papermill": {
     "duration": 18.289176,
     "end_time": "2024-03-01T12:52:13.462893",
     "exception": false,
     "start_time": "2024-03-01T12:51:55.173717",
     "status": "completed"
    },
    "tags": []
   },
   "outputs": [],
   "source": [
    "df_base.to_parquet('train/train_base.parquet')\n",
    "df_static.to_parquet('train/train_static.parquet')\n",
    "df_static_cb.to_parquet('train/train_static_cb.parquet')"
   ]
  },
  {
   "cell_type": "code",
   "execution_count": null,
   "id": "795ceeb9",
   "metadata": {
    "papermill": {
     "duration": 0.018604,
     "end_time": "2024-03-01T12:52:13.500696",
     "exception": false,
     "start_time": "2024-03-01T12:52:13.482092",
     "status": "completed"
    },
    "tags": []
   },
   "outputs": [],
   "source": []
  },
  {
   "cell_type": "markdown",
   "id": "71c03ccd",
   "metadata": {
    "papermill": {
     "duration": 0.018611,
     "end_time": "2024-03-01T12:52:13.538930",
     "exception": false,
     "start_time": "2024-03-01T12:52:13.520319",
     "status": "completed"
    },
    "tags": []
   },
   "source": [
    "### Datasets with Depth 1"
   ]
  },
  {
   "cell_type": "code",
   "execution_count": 22,
   "id": "343a19a6",
   "metadata": {
    "execution": {
     "iopub.execute_input": "2024-03-01T12:52:13.579211Z",
     "iopub.status.busy": "2024-03-01T12:52:13.578704Z",
     "iopub.status.idle": "2024-03-01T12:53:20.132309Z",
     "shell.execute_reply": "2024-03-01T12:53:20.130589Z"
    },
    "papermill": {
     "duration": 66.577714,
     "end_time": "2024-03-01T12:53:20.135611",
     "exception": false,
     "start_time": "2024-03-01T12:52:13.557897",
     "status": "completed"
    },
    "tags": []
   },
   "outputs": [],
   "source": [
    "df_applprev_1_0 = pd.read_csv(\"/kaggle/input/home-credit-credit-risk-model-stability/csv_files/train/train_applprev_1_0.csv\")\n",
    "\n",
    "df_applprev_1_1 = pd.read_csv(\"/kaggle/input/home-credit-credit-risk-model-stability/csv_files/train/train_applprev_1_1.csv\")\n",
    "\n",
    "df_applprev = pd.concat([df_applprev_1_0,df_applprev_1_1],ignore_index=True)"
   ]
  },
  {
   "cell_type": "code",
   "execution_count": 23,
   "id": "848629d0",
   "metadata": {
    "execution": {
     "iopub.execute_input": "2024-03-01T12:53:20.176824Z",
     "iopub.status.busy": "2024-03-01T12:53:20.176341Z",
     "iopub.status.idle": "2024-03-01T12:53:49.121563Z",
     "shell.execute_reply": "2024-03-01T12:53:49.119905Z"
    },
    "papermill": {
     "duration": 28.970719,
     "end_time": "2024-03-01T12:53:49.125323",
     "exception": false,
     "start_time": "2024-03-01T12:53:20.154604",
     "status": "completed"
    },
    "tags": []
   },
   "outputs": [
    {
     "name": "stdout",
     "output_type": "stream",
     "text": [
      "Memory usage of dataframe is 2041.36 MB\n",
      "Memory usage after optimization is: 592.79 MB\n",
      "Decreased by 71.0%\n"
     ]
    }
   ],
   "source": [
    "df_applprev = reduce_mem_usage(df_applprev)"
   ]
  },
  {
   "cell_type": "code",
   "execution_count": 24,
   "id": "d12324b0",
   "metadata": {
    "execution": {
     "iopub.execute_input": "2024-03-01T12:53:49.173692Z",
     "iopub.status.busy": "2024-03-01T12:53:49.171756Z",
     "iopub.status.idle": "2024-03-01T12:54:08.443293Z",
     "shell.execute_reply": "2024-03-01T12:54:08.439724Z"
    },
    "papermill": {
     "duration": 19.302407,
     "end_time": "2024-03-01T12:54:08.452343",
     "exception": false,
     "start_time": "2024-03-01T12:53:49.149936",
     "status": "completed"
    },
    "tags": []
   },
   "outputs": [],
   "source": [
    "df_applprev.to_parquet('/kaggle/working/train/train_applprev.parquet')"
   ]
  },
  {
   "cell_type": "code",
   "execution_count": 25,
   "id": "1b23721a",
   "metadata": {
    "execution": {
     "iopub.execute_input": "2024-03-01T12:54:08.502039Z",
     "iopub.status.busy": "2024-03-01T12:54:08.501449Z",
     "iopub.status.idle": "2024-03-01T12:54:08.601775Z",
     "shell.execute_reply": "2024-03-01T12:54:08.600242Z"
    },
    "papermill": {
     "duration": 0.126148,
     "end_time": "2024-03-01T12:54:08.604873",
     "exception": false,
     "start_time": "2024-03-01T12:54:08.478725",
     "status": "completed"
    },
    "tags": []
   },
   "outputs": [],
   "source": [
    "df_other = pd.read_csv(\"/kaggle/input/home-credit-credit-risk-model-stability/csv_files/train/train_other_1.csv\")"
   ]
  },
  {
   "cell_type": "code",
   "execution_count": 26,
   "id": "dc5e5b74",
   "metadata": {
    "execution": {
     "iopub.execute_input": "2024-03-01T12:54:08.645749Z",
     "iopub.status.busy": "2024-03-01T12:54:08.645294Z",
     "iopub.status.idle": "2024-03-01T12:54:08.665271Z",
     "shell.execute_reply": "2024-03-01T12:54:08.663731Z"
    },
    "papermill": {
     "duration": 0.044276,
     "end_time": "2024-03-01T12:54:08.668551",
     "exception": false,
     "start_time": "2024-03-01T12:54:08.624275",
     "status": "completed"
    },
    "tags": []
   },
   "outputs": [
    {
     "name": "stdout",
     "output_type": "stream",
     "text": [
      "Memory usage of dataframe is 2.73 MB\n",
      "Memory usage after optimization is: 1.22 MB\n",
      "Decreased by 55.4%\n"
     ]
    }
   ],
   "source": [
    "df_other = reduce_mem_usage(df_other)"
   ]
  },
  {
   "cell_type": "code",
   "execution_count": 27,
   "id": "29108f5c",
   "metadata": {
    "execution": {
     "iopub.execute_input": "2024-03-01T12:54:08.710178Z",
     "iopub.status.busy": "2024-03-01T12:54:08.709728Z",
     "iopub.status.idle": "2024-03-01T12:54:08.745990Z",
     "shell.execute_reply": "2024-03-01T12:54:08.744452Z"
    },
    "papermill": {
     "duration": 0.06071,
     "end_time": "2024-03-01T12:54:08.749084",
     "exception": false,
     "start_time": "2024-03-01T12:54:08.688374",
     "status": "completed"
    },
    "tags": []
   },
   "outputs": [],
   "source": [
    "df_other.to_parquet('/kaggle/working/train/train_other.parquet')"
   ]
  },
  {
   "cell_type": "code",
   "execution_count": 28,
   "id": "08b17b91",
   "metadata": {
    "execution": {
     "iopub.execute_input": "2024-03-01T12:54:08.790502Z",
     "iopub.status.busy": "2024-03-01T12:54:08.790038Z",
     "iopub.status.idle": "2024-03-01T12:54:13.438181Z",
     "shell.execute_reply": "2024-03-01T12:54:13.436859Z"
    },
    "papermill": {
     "duration": 4.672624,
     "end_time": "2024-03-01T12:54:13.441626",
     "exception": false,
     "start_time": "2024-03-01T12:54:08.769002",
     "status": "completed"
    },
    "tags": []
   },
   "outputs": [],
   "source": [
    "df_tax = pd.read_csv(\"/kaggle/input/home-credit-credit-risk-model-stability/csv_files/train/train_tax_registry_a_1.csv\")"
   ]
  },
  {
   "cell_type": "code",
   "execution_count": 29,
   "id": "6b431901",
   "metadata": {
    "execution": {
     "iopub.execute_input": "2024-03-01T12:54:13.484929Z",
     "iopub.status.busy": "2024-03-01T12:54:13.484451Z",
     "iopub.status.idle": "2024-03-01T12:54:15.064789Z",
     "shell.execute_reply": "2024-03-01T12:54:15.063277Z"
    },
    "papermill": {
     "duration": 1.606154,
     "end_time": "2024-03-01T12:54:15.067747",
     "exception": false,
     "start_time": "2024-03-01T12:54:13.461593",
     "status": "completed"
    },
    "tags": []
   },
   "outputs": [
    {
     "name": "stdout",
     "output_type": "stream",
     "text": [
      "Memory usage of dataframe is 124.96 MB\n",
      "Memory usage after optimization is: 52.03 MB\n",
      "Decreased by 58.4%\n"
     ]
    }
   ],
   "source": [
    "df_tax = reduce_mem_usage(df_tax)"
   ]
  },
  {
   "cell_type": "code",
   "execution_count": 30,
   "id": "2592b0b2",
   "metadata": {
    "execution": {
     "iopub.execute_input": "2024-03-01T12:54:15.110933Z",
     "iopub.status.busy": "2024-03-01T12:54:15.110435Z",
     "iopub.status.idle": "2024-03-01T12:54:15.149018Z",
     "shell.execute_reply": "2024-03-01T12:54:15.147629Z"
    },
    "papermill": {
     "duration": 0.063584,
     "end_time": "2024-03-01T12:54:15.152207",
     "exception": false,
     "start_time": "2024-03-01T12:54:15.088623",
     "status": "completed"
    },
    "tags": []
   },
   "outputs": [
    {
     "data": {
      "text/html": [
       "<div>\n",
       "<style scoped>\n",
       "    .dataframe tbody tr th:only-of-type {\n",
       "        vertical-align: middle;\n",
       "    }\n",
       "\n",
       "    .dataframe tbody tr th {\n",
       "        vertical-align: top;\n",
       "    }\n",
       "\n",
       "    .dataframe thead th {\n",
       "        text-align: right;\n",
       "    }\n",
       "</style>\n",
       "<table border=\"1\" class=\"dataframe\">\n",
       "  <thead>\n",
       "    <tr style=\"text-align: right;\">\n",
       "      <th></th>\n",
       "      <th>case_id</th>\n",
       "      <th>amount_4527230A</th>\n",
       "      <th>name_4527232M</th>\n",
       "      <th>num_group1</th>\n",
       "      <th>recorddate_4527225D</th>\n",
       "    </tr>\n",
       "  </thead>\n",
       "  <tbody>\n",
       "    <tr>\n",
       "      <th>0</th>\n",
       "      <td>28631</td>\n",
       "      <td>1946.000000</td>\n",
       "      <td>f980a1ea</td>\n",
       "      <td>2</td>\n",
       "      <td>2019-09-13</td>\n",
       "    </tr>\n",
       "    <tr>\n",
       "      <th>1</th>\n",
       "      <td>28631</td>\n",
       "      <td>711.000000</td>\n",
       "      <td>f980a1ea</td>\n",
       "      <td>3</td>\n",
       "      <td>2019-09-13</td>\n",
       "    </tr>\n",
       "    <tr>\n",
       "      <th>2</th>\n",
       "      <td>28631</td>\n",
       "      <td>3616.400146</td>\n",
       "      <td>f980a1ea</td>\n",
       "      <td>0</td>\n",
       "      <td>2019-09-13</td>\n",
       "    </tr>\n",
       "    <tr>\n",
       "      <th>3</th>\n",
       "      <td>28631</td>\n",
       "      <td>2600.000000</td>\n",
       "      <td>f980a1ea</td>\n",
       "      <td>1</td>\n",
       "      <td>2019-09-13</td>\n",
       "    </tr>\n",
       "  </tbody>\n",
       "</table>\n",
       "</div>"
      ],
      "text/plain": [
       "   case_id  amount_4527230A name_4527232M  num_group1 recorddate_4527225D\n",
       "0    28631      1946.000000      f980a1ea           2          2019-09-13\n",
       "1    28631       711.000000      f980a1ea           3          2019-09-13\n",
       "2    28631      3616.400146      f980a1ea           0          2019-09-13\n",
       "3    28631      2600.000000      f980a1ea           1          2019-09-13"
      ]
     },
     "execution_count": 30,
     "metadata": {},
     "output_type": "execute_result"
    }
   ],
   "source": [
    "df_tax[df_tax['case_id'] == 28631]"
   ]
  },
  {
   "cell_type": "code",
   "execution_count": 31,
   "id": "89d0eb72",
   "metadata": {
    "execution": {
     "iopub.execute_input": "2024-03-01T12:54:15.195519Z",
     "iopub.status.busy": "2024-03-01T12:54:15.195059Z",
     "iopub.status.idle": "2024-03-01T12:54:16.455495Z",
     "shell.execute_reply": "2024-03-01T12:54:16.454184Z"
    },
    "papermill": {
     "duration": 1.286485,
     "end_time": "2024-03-01T12:54:16.458892",
     "exception": false,
     "start_time": "2024-03-01T12:54:15.172407",
     "status": "completed"
    },
    "tags": []
   },
   "outputs": [],
   "source": [
    "df_tax.to_parquet('/kaggle/working/train/train_tax.parquet')"
   ]
  },
  {
   "cell_type": "code",
   "execution_count": null,
   "id": "afe66c9a",
   "metadata": {
    "papermill": {
     "duration": 0.019346,
     "end_time": "2024-03-01T12:54:16.498212",
     "exception": false,
     "start_time": "2024-03-01T12:54:16.478866",
     "status": "completed"
    },
    "tags": []
   },
   "outputs": [],
   "source": []
  },
  {
   "cell_type": "code",
   "execution_count": 32,
   "id": "e4a14fba",
   "metadata": {
    "execution": {
     "iopub.execute_input": "2024-03-01T12:54:16.540896Z",
     "iopub.status.busy": "2024-03-01T12:54:16.540382Z",
     "iopub.status.idle": "2024-03-01T12:54:19.726258Z",
     "shell.execute_reply": "2024-03-01T12:54:19.724912Z"
    },
    "papermill": {
     "duration": 3.210809,
     "end_time": "2024-03-01T12:54:19.729212",
     "exception": false,
     "start_time": "2024-03-01T12:54:16.518403",
     "status": "completed"
    },
    "tags": []
   },
   "outputs": [],
   "source": [
    "df_tax_registry = pd.read_csv(input_path+'train_tax_registry_a_1.csv')"
   ]
  },
  {
   "cell_type": "code",
   "execution_count": 33,
   "id": "493cc2df",
   "metadata": {
    "execution": {
     "iopub.execute_input": "2024-03-01T12:54:19.771683Z",
     "iopub.status.busy": "2024-03-01T12:54:19.771017Z",
     "iopub.status.idle": "2024-03-01T12:54:21.223609Z",
     "shell.execute_reply": "2024-03-01T12:54:21.222195Z"
    },
    "papermill": {
     "duration": 1.477049,
     "end_time": "2024-03-01T12:54:21.226563",
     "exception": false,
     "start_time": "2024-03-01T12:54:19.749514",
     "status": "completed"
    },
    "tags": []
   },
   "outputs": [
    {
     "name": "stdout",
     "output_type": "stream",
     "text": [
      "Memory usage of dataframe is 124.96 MB\n",
      "Memory usage after optimization is: 52.03 MB\n",
      "Decreased by 58.4%\n"
     ]
    }
   ],
   "source": [
    "df_tax_registry = reduce_mem_usage(df_tax_registry)"
   ]
  },
  {
   "cell_type": "code",
   "execution_count": 34,
   "id": "39f37c69",
   "metadata": {
    "execution": {
     "iopub.execute_input": "2024-03-01T12:54:21.268708Z",
     "iopub.status.busy": "2024-03-01T12:54:21.268194Z",
     "iopub.status.idle": "2024-03-01T12:54:22.434681Z",
     "shell.execute_reply": "2024-03-01T12:54:22.433534Z"
    },
    "papermill": {
     "duration": 1.190417,
     "end_time": "2024-03-01T12:54:22.437352",
     "exception": false,
     "start_time": "2024-03-01T12:54:21.246935",
     "status": "completed"
    },
    "tags": []
   },
   "outputs": [],
   "source": [
    "df_tax_registry.to_parquet(output_path+\"train_tax_registry.parquet\")"
   ]
  },
  {
   "cell_type": "code",
   "execution_count": null,
   "id": "47c09767",
   "metadata": {
    "papermill": {
     "duration": 0.01923,
     "end_time": "2024-03-01T12:54:22.476234",
     "exception": false,
     "start_time": "2024-03-01T12:54:22.457004",
     "status": "completed"
    },
    "tags": []
   },
   "outputs": [],
   "source": []
  }
 ],
 "metadata": {
  "kaggle": {
   "accelerator": "none",
   "dataSources": [
    {
     "databundleVersionId": 7602123,
     "sourceId": 50160,
     "sourceType": "competition"
    },
    {
     "sourceId": 164800459,
     "sourceType": "kernelVersion"
    },
    {
     "sourceId": 164951814,
     "sourceType": "kernelVersion"
    }
   ],
   "dockerImageVersionId": 30646,
   "isGpuEnabled": false,
   "isInternetEnabled": true,
   "language": "python",
   "sourceType": "notebook"
  },
  "kernelspec": {
   "display_name": "Python 3",
   "language": "python",
   "name": "python3"
  },
  "language_info": {
   "codemirror_mode": {
    "name": "ipython",
    "version": 3
   },
   "file_extension": ".py",
   "mimetype": "text/x-python",
   "name": "python",
   "nbconvert_exporter": "python",
   "pygments_lexer": "ipython3",
   "version": "3.10.13"
  },
  "papermill": {
   "default_parameters": {},
   "duration": 256.099241,
   "end_time": "2024-03-01T12:54:24.830169",
   "environment_variables": {},
   "exception": null,
   "input_path": "__notebook__.ipynb",
   "output_path": "__notebook__.ipynb",
   "parameters": {},
   "start_time": "2024-03-01T12:50:08.730928",
   "version": "2.5.0"
  }
 },
 "nbformat": 4,
 "nbformat_minor": 5
}
