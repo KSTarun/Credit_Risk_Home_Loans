{
 "cells": [
  {
   "cell_type": "markdown",
   "id": "659b78f5",
   "metadata": {
    "papermill": {
     "duration": 0.013274,
     "end_time": "2024-02-29T10:25:26.479272",
     "exception": false,
     "start_time": "2024-02-29T10:25:26.465998",
     "status": "completed"
    },
    "tags": []
   },
   "source": [
    "### Importing Packages"
   ]
  },
  {
   "cell_type": "code",
   "execution_count": 1,
   "id": "7acd93c1",
   "metadata": {
    "execution": {
     "iopub.execute_input": "2024-02-29T10:25:26.508556Z",
     "iopub.status.busy": "2024-02-29T10:25:26.507566Z",
     "iopub.status.idle": "2024-02-29T10:25:29.682991Z",
     "shell.execute_reply": "2024-02-29T10:25:29.681642Z"
    },
    "papermill": {
     "duration": 3.19345,
     "end_time": "2024-02-29T10:25:29.686106",
     "exception": false,
     "start_time": "2024-02-29T10:25:26.492656",
     "status": "completed"
    },
    "tags": []
   },
   "outputs": [],
   "source": [
    "import pandas as pd \n",
    "import numpy as np \n",
    "import seaborn as sns \n",
    "\n",
    "import os\n",
    "from loguru import logger\n",
    "\n",
    "import warnings\n",
    "warnings.filterwarnings('ignore')\n",
    "import gc"
   ]
  },
  {
   "cell_type": "markdown",
   "id": "db55b976",
   "metadata": {
    "papermill": {
     "duration": 0.012569,
     "end_time": "2024-02-29T10:25:29.711471",
     "exception": false,
     "start_time": "2024-02-29T10:25:29.698902",
     "status": "completed"
    },
    "tags": []
   },
   "source": [
    "### Common functions"
   ]
  },
  {
   "cell_type": "code",
   "execution_count": 2,
   "id": "95c671b9",
   "metadata": {
    "execution": {
     "iopub.execute_input": "2024-02-29T10:25:29.740705Z",
     "iopub.status.busy": "2024-02-29T10:25:29.739793Z",
     "iopub.status.idle": "2024-02-29T10:25:29.758291Z",
     "shell.execute_reply": "2024-02-29T10:25:29.756407Z"
    },
    "papermill": {
     "duration": 0.037126,
     "end_time": "2024-02-29T10:25:29.761608",
     "exception": false,
     "start_time": "2024-02-29T10:25:29.724482",
     "status": "completed"
    },
    "tags": []
   },
   "outputs": [],
   "source": [
    "def reduce_mem_usage(df):\n",
    "    \"\"\" iterate through all the columns of a dataframe and modify the data type\n",
    "        to reduce memory usage.        \n",
    "    \"\"\"\n",
    "    start_mem = df.memory_usage().sum() / 1024**2\n",
    "    print('Memory usage of dataframe is {:.2f} MB'.format(start_mem))\n",
    "    \n",
    "    for col in df.columns:\n",
    "        col_type = df[col].dtype\n",
    "#         print(f'{col}:{col_type}')\n",
    "        \n",
    "        if col_type not in [object,'category']:\n",
    "            c_min = df[col].min()\n",
    "            c_max = df[col].max()\n",
    "            if str(col_type)[:3] == 'int':\n",
    "                if c_min > np.iinfo(np.int8).min and c_max < np.iinfo(np.int8).max:\n",
    "                    df[col] = df[col].astype(np.int8)\n",
    "                elif c_min > np.iinfo(np.int16).min and c_max < np.iinfo(np.int16).max:\n",
    "                    df[col] = df[col].astype(np.int16)\n",
    "                elif c_min > np.iinfo(np.int32).min and c_max < np.iinfo(np.int32).max:\n",
    "                    df[col] = df[col].astype(np.int32)\n",
    "                elif c_min > np.iinfo(np.int64).min and c_max < np.iinfo(np.int64).max:\n",
    "                    df[col] = df[col].astype(np.int64)  \n",
    "            else:\n",
    "                if c_min > np.finfo(np.float16).min and c_max < np.finfo(np.float16).max:\n",
    "                    df[col] = df[col].astype(np.float16)\n",
    "                elif c_min > np.finfo(np.float32).min and c_max < np.finfo(np.float32).max:\n",
    "                    df[col] = df[col].astype(np.float32)\n",
    "                else:\n",
    "                    df[col] = df[col].astype(np.float64)\n",
    "        else:\n",
    "            df[col] = df[col].astype('category')\n",
    "\n",
    "    end_mem = df.memory_usage().sum() / 1024**2\n",
    "    print('Memory usage after optimization is: {:.2f} MB'.format(end_mem))\n",
    "    print('Decreased by {:.1f}%'.format(100 * (start_mem - end_mem) / start_mem))\n",
    "    \n",
    "    return df"
   ]
  },
  {
   "cell_type": "markdown",
   "id": "619a9e68",
   "metadata": {
    "papermill": {
     "duration": 0.01209,
     "end_time": "2024-02-29T10:25:29.786216",
     "exception": false,
     "start_time": "2024-02-29T10:25:29.774126",
     "status": "completed"
    },
    "tags": []
   },
   "source": [
    "### Importing Data"
   ]
  },
  {
   "cell_type": "markdown",
   "id": "58e5b5ce",
   "metadata": {
    "papermill": {
     "duration": 0.012091,
     "end_time": "2024-02-29T10:25:29.810674",
     "exception": false,
     "start_time": "2024-02-29T10:25:29.798583",
     "status": "completed"
    },
    "tags": []
   },
   "source": [
    "##### Importing train base data"
   ]
  },
  {
   "cell_type": "code",
   "execution_count": 3,
   "id": "524fc16c",
   "metadata": {
    "execution": {
     "iopub.execute_input": "2024-02-29T10:25:29.837665Z",
     "iopub.status.busy": "2024-02-29T10:25:29.837253Z",
     "iopub.status.idle": "2024-02-29T10:25:29.893034Z",
     "shell.execute_reply": "2024-02-29T10:25:29.891901Z"
    },
    "papermill": {
     "duration": 0.078499,
     "end_time": "2024-02-29T10:25:29.901405",
     "exception": false,
     "start_time": "2024-02-29T10:25:29.822906",
     "status": "completed"
    },
    "tags": []
   },
   "outputs": [
    {
     "name": "stderr",
     "output_type": "stream",
     "text": [
      "\u001b[32m2024-02-29 10:25:29.847\u001b[0m | \u001b[1mINFO    \u001b[0m | \u001b[36m__main__\u001b[0m:\u001b[36m<module>\u001b[0m:\u001b[36m3\u001b[0m - \u001b[1mFilename is:train_credit_bureau_a_1_3.csv\u001b[0m\n",
      "\u001b[32m2024-02-29 10:25:29.848\u001b[0m | \u001b[1mINFO    \u001b[0m | \u001b[36m__main__\u001b[0m:\u001b[36m<module>\u001b[0m:\u001b[36m3\u001b[0m - \u001b[1mFilename is:train_static_cb_0.csv\u001b[0m\n",
      "\u001b[32m2024-02-29 10:25:29.849\u001b[0m | \u001b[1mINFO    \u001b[0m | \u001b[36m__main__\u001b[0m:\u001b[36m<module>\u001b[0m:\u001b[36m3\u001b[0m - \u001b[1mFilename is:train_applprev_1_0.csv\u001b[0m\n",
      "\u001b[32m2024-02-29 10:25:29.850\u001b[0m | \u001b[1mINFO    \u001b[0m | \u001b[36m__main__\u001b[0m:\u001b[36m<module>\u001b[0m:\u001b[36m3\u001b[0m - \u001b[1mFilename is:train_person_2.csv\u001b[0m\n",
      "\u001b[32m2024-02-29 10:25:29.852\u001b[0m | \u001b[1mINFO    \u001b[0m | \u001b[36m__main__\u001b[0m:\u001b[36m<module>\u001b[0m:\u001b[36m3\u001b[0m - \u001b[1mFilename is:train_base.csv\u001b[0m\n",
      "\u001b[32m2024-02-29 10:25:29.853\u001b[0m | \u001b[1mINFO    \u001b[0m | \u001b[36m__main__\u001b[0m:\u001b[36m<module>\u001b[0m:\u001b[36m3\u001b[0m - \u001b[1mFilename is:train_tax_registry_a_1.csv\u001b[0m\n",
      "\u001b[32m2024-02-29 10:25:29.855\u001b[0m | \u001b[1mINFO    \u001b[0m | \u001b[36m__main__\u001b[0m:\u001b[36m<module>\u001b[0m:\u001b[36m3\u001b[0m - \u001b[1mFilename is:train_static_0_0.csv\u001b[0m\n",
      "\u001b[32m2024-02-29 10:25:29.857\u001b[0m | \u001b[1mINFO    \u001b[0m | \u001b[36m__main__\u001b[0m:\u001b[36m<module>\u001b[0m:\u001b[36m3\u001b[0m - \u001b[1mFilename is:train_credit_bureau_a_1_0.csv\u001b[0m\n",
      "\u001b[32m2024-02-29 10:25:29.858\u001b[0m | \u001b[1mINFO    \u001b[0m | \u001b[36m__main__\u001b[0m:\u001b[36m<module>\u001b[0m:\u001b[36m3\u001b[0m - \u001b[1mFilename is:train_applprev_2.csv\u001b[0m\n",
      "\u001b[32m2024-02-29 10:25:29.859\u001b[0m | \u001b[1mINFO    \u001b[0m | \u001b[36m__main__\u001b[0m:\u001b[36m<module>\u001b[0m:\u001b[36m3\u001b[0m - \u001b[1mFilename is:train_credit_bureau_a_2_6.csv\u001b[0m\n",
      "\u001b[32m2024-02-29 10:25:29.860\u001b[0m | \u001b[1mINFO    \u001b[0m | \u001b[36m__main__\u001b[0m:\u001b[36m<module>\u001b[0m:\u001b[36m3\u001b[0m - \u001b[1mFilename is:train_credit_bureau_a_1_2.csv\u001b[0m\n",
      "\u001b[32m2024-02-29 10:25:29.861\u001b[0m | \u001b[1mINFO    \u001b[0m | \u001b[36m__main__\u001b[0m:\u001b[36m<module>\u001b[0m:\u001b[36m3\u001b[0m - \u001b[1mFilename is:train_person_1.csv\u001b[0m\n",
      "\u001b[32m2024-02-29 10:25:29.863\u001b[0m | \u001b[1mINFO    \u001b[0m | \u001b[36m__main__\u001b[0m:\u001b[36m<module>\u001b[0m:\u001b[36m3\u001b[0m - \u001b[1mFilename is:train_credit_bureau_a_1_1.csv\u001b[0m\n",
      "\u001b[32m2024-02-29 10:25:29.864\u001b[0m | \u001b[1mINFO    \u001b[0m | \u001b[36m__main__\u001b[0m:\u001b[36m<module>\u001b[0m:\u001b[36m3\u001b[0m - \u001b[1mFilename is:train_tax_registry_c_1.csv\u001b[0m\n",
      "\u001b[32m2024-02-29 10:25:29.865\u001b[0m | \u001b[1mINFO    \u001b[0m | \u001b[36m__main__\u001b[0m:\u001b[36m<module>\u001b[0m:\u001b[36m3\u001b[0m - \u001b[1mFilename is:train_credit_bureau_a_2_4.csv\u001b[0m\n",
      "\u001b[32m2024-02-29 10:25:29.866\u001b[0m | \u001b[1mINFO    \u001b[0m | \u001b[36m__main__\u001b[0m:\u001b[36m<module>\u001b[0m:\u001b[36m3\u001b[0m - \u001b[1mFilename is:train_credit_bureau_a_2_9.csv\u001b[0m\n",
      "\u001b[32m2024-02-29 10:25:29.867\u001b[0m | \u001b[1mINFO    \u001b[0m | \u001b[36m__main__\u001b[0m:\u001b[36m<module>\u001b[0m:\u001b[36m3\u001b[0m - \u001b[1mFilename is:train_credit_bureau_a_2_3.csv\u001b[0m\n",
      "\u001b[32m2024-02-29 10:25:29.871\u001b[0m | \u001b[1mINFO    \u001b[0m | \u001b[36m__main__\u001b[0m:\u001b[36m<module>\u001b[0m:\u001b[36m3\u001b[0m - \u001b[1mFilename is:train_credit_bureau_a_2_7.csv\u001b[0m\n",
      "\u001b[32m2024-02-29 10:25:29.872\u001b[0m | \u001b[1mINFO    \u001b[0m | \u001b[36m__main__\u001b[0m:\u001b[36m<module>\u001b[0m:\u001b[36m3\u001b[0m - \u001b[1mFilename is:train_credit_bureau_b_2.csv\u001b[0m\n",
      "\u001b[32m2024-02-29 10:25:29.873\u001b[0m | \u001b[1mINFO    \u001b[0m | \u001b[36m__main__\u001b[0m:\u001b[36m<module>\u001b[0m:\u001b[36m3\u001b[0m - \u001b[1mFilename is:train_credit_bureau_a_2_2.csv\u001b[0m\n",
      "\u001b[32m2024-02-29 10:25:29.875\u001b[0m | \u001b[1mINFO    \u001b[0m | \u001b[36m__main__\u001b[0m:\u001b[36m<module>\u001b[0m:\u001b[36m3\u001b[0m - \u001b[1mFilename is:train_static_0_1.csv\u001b[0m\n",
      "\u001b[32m2024-02-29 10:25:29.876\u001b[0m | \u001b[1mINFO    \u001b[0m | \u001b[36m__main__\u001b[0m:\u001b[36m<module>\u001b[0m:\u001b[36m3\u001b[0m - \u001b[1mFilename is:train_deposit_1.csv\u001b[0m\n",
      "\u001b[32m2024-02-29 10:25:29.877\u001b[0m | \u001b[1mINFO    \u001b[0m | \u001b[36m__main__\u001b[0m:\u001b[36m<module>\u001b[0m:\u001b[36m3\u001b[0m - \u001b[1mFilename is:train_credit_bureau_a_2_10.csv\u001b[0m\n",
      "\u001b[32m2024-02-29 10:25:29.878\u001b[0m | \u001b[1mINFO    \u001b[0m | \u001b[36m__main__\u001b[0m:\u001b[36m<module>\u001b[0m:\u001b[36m3\u001b[0m - \u001b[1mFilename is:train_tax_registry_b_1.csv\u001b[0m\n",
      "\u001b[32m2024-02-29 10:25:29.879\u001b[0m | \u001b[1mINFO    \u001b[0m | \u001b[36m__main__\u001b[0m:\u001b[36m<module>\u001b[0m:\u001b[36m3\u001b[0m - \u001b[1mFilename is:train_applprev_1_1.csv\u001b[0m\n",
      "\u001b[32m2024-02-29 10:25:29.880\u001b[0m | \u001b[1mINFO    \u001b[0m | \u001b[36m__main__\u001b[0m:\u001b[36m<module>\u001b[0m:\u001b[36m3\u001b[0m - \u001b[1mFilename is:train_credit_bureau_a_2_1.csv\u001b[0m\n",
      "\u001b[32m2024-02-29 10:25:29.881\u001b[0m | \u001b[1mINFO    \u001b[0m | \u001b[36m__main__\u001b[0m:\u001b[36m<module>\u001b[0m:\u001b[36m3\u001b[0m - \u001b[1mFilename is:train_credit_bureau_a_2_8.csv\u001b[0m\n",
      "\u001b[32m2024-02-29 10:25:29.882\u001b[0m | \u001b[1mINFO    \u001b[0m | \u001b[36m__main__\u001b[0m:\u001b[36m<module>\u001b[0m:\u001b[36m3\u001b[0m - \u001b[1mFilename is:train_credit_bureau_a_2_5.csv\u001b[0m\n",
      "\u001b[32m2024-02-29 10:25:29.883\u001b[0m | \u001b[1mINFO    \u001b[0m | \u001b[36m__main__\u001b[0m:\u001b[36m<module>\u001b[0m:\u001b[36m3\u001b[0m - \u001b[1mFilename is:train_credit_bureau_b_1.csv\u001b[0m\n",
      "\u001b[32m2024-02-29 10:25:29.884\u001b[0m | \u001b[1mINFO    \u001b[0m | \u001b[36m__main__\u001b[0m:\u001b[36m<module>\u001b[0m:\u001b[36m3\u001b[0m - \u001b[1mFilename is:train_credit_bureau_a_2_0.csv\u001b[0m\n",
      "\u001b[32m2024-02-29 10:25:29.885\u001b[0m | \u001b[1mINFO    \u001b[0m | \u001b[36m__main__\u001b[0m:\u001b[36m<module>\u001b[0m:\u001b[36m3\u001b[0m - \u001b[1mFilename is:train_other_1.csv\u001b[0m\n",
      "\u001b[32m2024-02-29 10:25:29.888\u001b[0m | \u001b[1mINFO    \u001b[0m | \u001b[36m__main__\u001b[0m:\u001b[36m<module>\u001b[0m:\u001b[36m3\u001b[0m - \u001b[1mFilename is:train_debitcard_1.csv\u001b[0m\n"
     ]
    }
   ],
   "source": [
    "for dirname, _, filenames in os.walk('/kaggle/input/home-credit-credit-risk-model-stability/csv_files/train/'):\n",
    "    for filename in filenames:\n",
    "        logger.info(f\"Filename is:{filename}\")"
   ]
  },
  {
   "cell_type": "markdown",
   "id": "14d68b91",
   "metadata": {
    "papermill": {
     "duration": 0.015095,
     "end_time": "2024-02-29T10:25:29.931838",
     "exception": false,
     "start_time": "2024-02-29T10:25:29.916743",
     "status": "completed"
    },
    "tags": []
   },
   "source": [
    "## Base data"
   ]
  },
  {
   "cell_type": "code",
   "execution_count": 4,
   "id": "12674b5a",
   "metadata": {
    "execution": {
     "iopub.execute_input": "2024-02-29T10:25:29.965301Z",
     "iopub.status.busy": "2024-02-29T10:25:29.964877Z",
     "iopub.status.idle": "2024-02-29T10:25:31.481859Z",
     "shell.execute_reply": "2024-02-29T10:25:31.480583Z"
    },
    "papermill": {
     "duration": 1.537427,
     "end_time": "2024-02-29T10:25:31.484901",
     "exception": false,
     "start_time": "2024-02-29T10:25:29.947474",
     "status": "completed"
    },
    "tags": []
   },
   "outputs": [],
   "source": [
    "df_base = pd.read_csv(\"/kaggle/input/home-credit-credit-risk-model-stability/csv_files/train/train_base.csv\")"
   ]
  },
  {
   "cell_type": "code",
   "execution_count": 5,
   "id": "e2c87f56",
   "metadata": {
    "execution": {
     "iopub.execute_input": "2024-02-29T10:25:31.519864Z",
     "iopub.status.busy": "2024-02-29T10:25:31.519005Z",
     "iopub.status.idle": "2024-02-29T10:25:31.733794Z",
     "shell.execute_reply": "2024-02-29T10:25:31.732379Z"
    },
    "papermill": {
     "duration": 0.235444,
     "end_time": "2024-02-29T10:25:31.736803",
     "exception": false,
     "start_time": "2024-02-29T10:25:31.501359",
     "status": "completed"
    },
    "tags": []
   },
   "outputs": [
    {
     "name": "stdout",
     "output_type": "stream",
     "text": [
      "<class 'pandas.core.frame.DataFrame'>\n",
      "RangeIndex: 1526659 entries, 0 to 1526658\n",
      "Data columns (total 5 columns):\n",
      " #   Column         Non-Null Count    Dtype \n",
      "---  ------         --------------    ----- \n",
      " 0   case_id        1526659 non-null  int64 \n",
      " 1   date_decision  1526659 non-null  object\n",
      " 2   MONTH          1526659 non-null  int64 \n",
      " 3   WEEK_NUM       1526659 non-null  int64 \n",
      " 4   target         1526659 non-null  int64 \n",
      "dtypes: int64(4), object(1)\n",
      "memory usage: 58.2+ MB\n"
     ]
    }
   ],
   "source": [
    "df_base.info()"
   ]
  },
  {
   "cell_type": "code",
   "execution_count": 6,
   "id": "033d254f",
   "metadata": {
    "execution": {
     "iopub.execute_input": "2024-02-29T10:25:31.769860Z",
     "iopub.status.busy": "2024-02-29T10:25:31.769450Z",
     "iopub.status.idle": "2024-02-29T10:25:31.845503Z",
     "shell.execute_reply": "2024-02-29T10:25:31.843158Z"
    },
    "papermill": {
     "duration": 0.096321,
     "end_time": "2024-02-29T10:25:31.848757",
     "exception": false,
     "start_time": "2024-02-29T10:25:31.752436",
     "status": "completed"
    },
    "tags": []
   },
   "outputs": [
    {
     "name": "stderr",
     "output_type": "stream",
     "text": [
      "\u001b[32m2024-02-29 10:25:31.839\u001b[0m | \u001b[1mINFO    \u001b[0m | \u001b[36m__main__\u001b[0m:\u001b[36m<module>\u001b[0m:\u001b[36m1\u001b[0m - \u001b[1mNumber of unique records: 1526659\u001b[0m\n"
     ]
    }
   ],
   "source": [
    "logger.info(f\"Number of unique records: {df_base['case_id'].nunique()}\")"
   ]
  },
  {
   "cell_type": "code",
   "execution_count": 7,
   "id": "bd34488e",
   "metadata": {
    "execution": {
     "iopub.execute_input": "2024-02-29T10:25:31.885300Z",
     "iopub.status.busy": "2024-02-29T10:25:31.884870Z",
     "iopub.status.idle": "2024-02-29T10:25:32.098537Z",
     "shell.execute_reply": "2024-02-29T10:25:32.097115Z"
    },
    "papermill": {
     "duration": 0.234828,
     "end_time": "2024-02-29T10:25:32.101475",
     "exception": false,
     "start_time": "2024-02-29T10:25:31.866647",
     "status": "completed"
    },
    "tags": []
   },
   "outputs": [
    {
     "name": "stdout",
     "output_type": "stream",
     "text": [
      "Memory usage of dataframe is 58.24 MB\n",
      "Memory usage after optimization is: 17.49 MB\n",
      "Decreased by 70.0%\n"
     ]
    }
   ],
   "source": [
    "df_base = reduce_mem_usage(df_base)"
   ]
  },
  {
   "cell_type": "markdown",
   "id": "37045d18",
   "metadata": {
    "papermill": {
     "duration": 0.015606,
     "end_time": "2024-02-29T10:25:32.132895",
     "exception": false,
     "start_time": "2024-02-29T10:25:32.117289",
     "status": "completed"
    },
    "tags": []
   },
   "source": [
    "### Datasets with depth 0 "
   ]
  },
  {
   "cell_type": "markdown",
   "id": "c8a58381",
   "metadata": {
    "papermill": {
     "duration": 0.015776,
     "end_time": "2024-02-29T10:25:32.164765",
     "exception": false,
     "start_time": "2024-02-29T10:25:32.148989",
     "status": "completed"
    },
    "tags": []
   },
   "source": [
    "#### Static data"
   ]
  },
  {
   "cell_type": "code",
   "execution_count": 8,
   "id": "e5f0f394",
   "metadata": {
    "execution": {
     "iopub.execute_input": "2024-02-29T10:25:32.199808Z",
     "iopub.status.busy": "2024-02-29T10:25:32.199380Z",
     "iopub.status.idle": "2024-02-29T10:26:25.949411Z",
     "shell.execute_reply": "2024-02-29T10:26:25.948339Z"
    },
    "papermill": {
     "duration": 53.771768,
     "end_time": "2024-02-29T10:26:25.952389",
     "exception": false,
     "start_time": "2024-02-29T10:25:32.180621",
     "status": "completed"
    },
    "tags": []
   },
   "outputs": [],
   "source": [
    "df_static_0 = pd.read_csv(\"/kaggle/input/home-credit-credit-risk-model-stability/csv_files/train/train_static_0_0.csv\")\n",
    "df_static_1 = pd.read_csv(\"/kaggle/input/home-credit-credit-risk-model-stability/csv_files/train/train_static_0_1.csv\")"
   ]
  },
  {
   "cell_type": "code",
   "execution_count": 9,
   "id": "aa538c8b",
   "metadata": {
    "execution": {
     "iopub.execute_input": "2024-02-29T10:26:25.987678Z",
     "iopub.status.busy": "2024-02-29T10:26:25.987265Z",
     "iopub.status.idle": "2024-02-29T10:26:38.692394Z",
     "shell.execute_reply": "2024-02-29T10:26:38.690986Z"
    },
    "papermill": {
     "duration": 12.72604,
     "end_time": "2024-02-29T10:26:38.695346",
     "exception": false,
     "start_time": "2024-02-29T10:26:25.969306",
     "status": "completed"
    },
    "tags": []
   },
   "outputs": [
    {
     "name": "stdout",
     "output_type": "stream",
     "text": [
      "Memory usage of dataframe is 1279.85 MB\n",
      "Memory usage after optimization is: 361.68 MB\n",
      "Decreased by 71.7%\n",
      "Memory usage of dataframe is 666.73 MB\n",
      "Memory usage after optimization is: 190.29 MB\n",
      "Decreased by 71.5%\n"
     ]
    }
   ],
   "source": [
    "df_static_0 = reduce_mem_usage(df_static_0)\n",
    "df_static_1 = reduce_mem_usage(df_static_1)"
   ]
  },
  {
   "cell_type": "code",
   "execution_count": 10,
   "id": "60f7d1e1",
   "metadata": {
    "execution": {
     "iopub.execute_input": "2024-02-29T10:26:38.732119Z",
     "iopub.status.busy": "2024-02-29T10:26:38.731028Z",
     "iopub.status.idle": "2024-02-29T10:26:38.777790Z",
     "shell.execute_reply": "2024-02-29T10:26:38.775877Z"
    },
    "papermill": {
     "duration": 0.068147,
     "end_time": "2024-02-29T10:26:38.780724",
     "exception": false,
     "start_time": "2024-02-29T10:26:38.712577",
     "status": "completed"
    },
    "tags": []
   },
   "outputs": [
    {
     "name": "stderr",
     "output_type": "stream",
     "text": [
      "\u001b[32m2024-02-29 10:26:38.757\u001b[0m | \u001b[1mINFO    \u001b[0m | \u001b[36m__main__\u001b[0m:\u001b[36m<module>\u001b[0m:\u001b[36m1\u001b[0m - \u001b[1mNumber of unique records in 0: 1003757\u001b[0m\n",
      "\u001b[32m2024-02-29 10:26:38.772\u001b[0m | \u001b[1mINFO    \u001b[0m | \u001b[36m__main__\u001b[0m:\u001b[36m<module>\u001b[0m:\u001b[36m2\u001b[0m - \u001b[1mNumber of unique records in 1: 522902\u001b[0m\n"
     ]
    }
   ],
   "source": [
    "logger.info(f\"Number of unique records in 0: {df_static_0['case_id'].nunique()}\")\n",
    "logger.info(f\"Number of unique records in 1: {df_static_1['case_id'].nunique()}\")"
   ]
  },
  {
   "cell_type": "code",
   "execution_count": 11,
   "id": "ce030ec6",
   "metadata": {
    "execution": {
     "iopub.execute_input": "2024-02-29T10:26:38.817320Z",
     "iopub.status.busy": "2024-02-29T10:26:38.816854Z",
     "iopub.status.idle": "2024-02-29T10:26:39.870822Z",
     "shell.execute_reply": "2024-02-29T10:26:39.869260Z"
    },
    "papermill": {
     "duration": 1.076326,
     "end_time": "2024-02-29T10:26:39.874061",
     "exception": false,
     "start_time": "2024-02-29T10:26:38.797735",
     "status": "completed"
    },
    "tags": []
   },
   "outputs": [],
   "source": [
    "## Combining the datasets\n",
    "df_static = pd.concat([df_static_0,df_static_1],ignore_index=True)"
   ]
  },
  {
   "cell_type": "code",
   "execution_count": 12,
   "id": "51849fd5",
   "metadata": {
    "execution": {
     "iopub.execute_input": "2024-02-29T10:26:39.909624Z",
     "iopub.status.busy": "2024-02-29T10:26:39.909159Z",
     "iopub.status.idle": "2024-02-29T10:26:48.850196Z",
     "shell.execute_reply": "2024-02-29T10:26:48.848699Z"
    },
    "papermill": {
     "duration": 8.962075,
     "end_time": "2024-02-29T10:26:48.853027",
     "exception": false,
     "start_time": "2024-02-29T10:26:39.890952",
     "status": "completed"
    },
    "tags": []
   },
   "outputs": [
    {
     "name": "stdout",
     "output_type": "stream",
     "text": [
      "Memory usage of dataframe is 768.74 MB\n",
      "Memory usage after optimization is: 552.16 MB\n",
      "Decreased by 28.2%\n"
     ]
    }
   ],
   "source": [
    "df_static = reduce_mem_usage(df_static)"
   ]
  },
  {
   "cell_type": "code",
   "execution_count": 13,
   "id": "786126cb",
   "metadata": {
    "execution": {
     "iopub.execute_input": "2024-02-29T10:26:48.888715Z",
     "iopub.status.busy": "2024-02-29T10:26:48.888311Z",
     "iopub.status.idle": "2024-02-29T10:26:48.933612Z",
     "shell.execute_reply": "2024-02-29T10:26:48.932029Z"
    },
    "papermill": {
     "duration": 0.067007,
     "end_time": "2024-02-29T10:26:48.936574",
     "exception": false,
     "start_time": "2024-02-29T10:26:48.869567",
     "status": "completed"
    },
    "tags": []
   },
   "outputs": [
    {
     "name": "stderr",
     "output_type": "stream",
     "text": [
      "\u001b[32m2024-02-29 10:26:48.928\u001b[0m | \u001b[1mINFO    \u001b[0m | \u001b[36m__main__\u001b[0m:\u001b[36m<module>\u001b[0m:\u001b[36m1\u001b[0m - \u001b[1mTotal records in static dataset: 1526659\u001b[0m\n"
     ]
    }
   ],
   "source": [
    "logger.info(f\"Total records in static dataset: {df_static['case_id'].nunique()}\")"
   ]
  },
  {
   "cell_type": "markdown",
   "id": "f3db7743",
   "metadata": {
    "papermill": {
     "duration": 0.016444,
     "end_time": "2024-02-29T10:26:48.970699",
     "exception": false,
     "start_time": "2024-02-29T10:26:48.954255",
     "status": "completed"
    },
    "tags": []
   },
   "source": [
    "#### Static CB"
   ]
  },
  {
   "cell_type": "code",
   "execution_count": 14,
   "id": "188bc632",
   "metadata": {
    "execution": {
     "iopub.execute_input": "2024-02-29T10:26:49.008803Z",
     "iopub.status.busy": "2024-02-29T10:26:49.008424Z",
     "iopub.status.idle": "2024-02-29T10:27:01.981127Z",
     "shell.execute_reply": "2024-02-29T10:27:01.979762Z"
    },
    "papermill": {
     "duration": 12.994486,
     "end_time": "2024-02-29T10:27:01.984221",
     "exception": false,
     "start_time": "2024-02-29T10:26:48.989735",
     "status": "completed"
    },
    "tags": []
   },
   "outputs": [],
   "source": [
    "df_static_cb = pd.read_csv(\"/kaggle/input/home-credit-credit-risk-model-stability/csv_files/train/train_static_cb_0.csv\")"
   ]
  },
  {
   "cell_type": "code",
   "execution_count": 15,
   "id": "80dea485",
   "metadata": {
    "execution": {
     "iopub.execute_input": "2024-02-29T10:27:02.023308Z",
     "iopub.status.busy": "2024-02-29T10:27:02.022041Z",
     "iopub.status.idle": "2024-02-29T10:27:02.080941Z",
     "shell.execute_reply": "2024-02-29T10:27:02.079136Z"
    },
    "papermill": {
     "duration": 0.083783,
     "end_time": "2024-02-29T10:27:02.085294",
     "exception": false,
     "start_time": "2024-02-29T10:27:02.001511",
     "status": "completed"
    },
    "tags": []
   },
   "outputs": [
    {
     "name": "stderr",
     "output_type": "stream",
     "text": [
      "\u001b[32m2024-02-29 10:27:02.075\u001b[0m | \u001b[1mINFO    \u001b[0m | \u001b[36m__main__\u001b[0m:\u001b[36m<module>\u001b[0m:\u001b[36m1\u001b[0m - \u001b[1mNumber of unique records in 0: 1500476\u001b[0m\n"
     ]
    }
   ],
   "source": [
    "logger.info(f\"Number of unique records in 0: {df_static_cb['case_id'].nunique()}\")"
   ]
  },
  {
   "cell_type": "code",
   "execution_count": 16,
   "id": "1c8ca7db",
   "metadata": {
    "execution": {
     "iopub.execute_input": "2024-02-29T10:27:02.122077Z",
     "iopub.status.busy": "2024-02-29T10:27:02.121502Z",
     "iopub.status.idle": "2024-02-29T10:27:06.618403Z",
     "shell.execute_reply": "2024-02-29T10:27:06.616843Z"
    },
    "papermill": {
     "duration": 4.517855,
     "end_time": "2024-02-29T10:27:06.621363",
     "exception": false,
     "start_time": "2024-02-29T10:27:02.103508",
     "status": "completed"
    },
    "tags": []
   },
   "outputs": [
    {
     "name": "stdout",
     "output_type": "stream",
     "text": [
      "Memory usage of dataframe is 606.73 MB\n",
      "Memory usage after optimization is: 159.58 MB\n",
      "Decreased by 73.7%\n",
      "<class 'pandas.core.frame.DataFrame'>\n",
      "RangeIndex: 1500476 entries, 0 to 1500475\n",
      "Data columns (total 53 columns):\n",
      " #   Column                   Non-Null Count    Dtype   \n",
      "---  ------                   --------------    -----   \n",
      " 0   case_id                  1500476 non-null  int32   \n",
      " 1   assignmentdate_238D      136996 non-null   category\n",
      " 2   assignmentdate_4527235D  114978 non-null   category\n",
      " 3   assignmentdate_4955616D  71633 non-null    category\n",
      " 4   birthdate_574D           607871 non-null   category\n",
      " 5   contractssum_5085716L    157329 non-null   float32 \n",
      " 6   dateofbirth_337D         1385691 non-null  category\n",
      " 7   dateofbirth_342D         36500 non-null    category\n",
      " 8   days120_123L             1385691 non-null  float16 \n",
      " 9   days180_256L             1385691 non-null  float16 \n",
      " 10  days30_165L              1385691 non-null  float16 \n",
      " 11  days360_512L             1385691 non-null  float16 \n",
      " 12  days90_310L              1385691 non-null  float16 \n",
      " 13  description_5085714M     1500476 non-null  category\n",
      " 14  education_1103M          1500476 non-null  category\n",
      " 15  education_88M            1500476 non-null  category\n",
      " 16  firstquarter_103L        1385691 non-null  float16 \n",
      " 17  for3years_128L           36514 non-null    float16 \n",
      " 18  for3years_504L           36514 non-null    float16 \n",
      " 19  for3years_584L           36514 non-null    float16 \n",
      " 20  formonth_118L            36514 non-null    float16 \n",
      " 21  formonth_206L            36514 non-null    float16 \n",
      " 22  formonth_535L            36514 non-null    float16 \n",
      " 23  forquarter_1017L         36514 non-null    float16 \n",
      " 24  forquarter_462L          36514 non-null    float16 \n",
      " 25  forquarter_634L          36514 non-null    float16 \n",
      " 26  fortoday_1092L           36514 non-null    float16 \n",
      " 27  forweek_1077L            36514 non-null    float16 \n",
      " 28  forweek_528L             36514 non-null    float16 \n",
      " 29  forweek_601L             36514 non-null    float16 \n",
      " 30  foryear_618L             36514 non-null    float16 \n",
      " 31  foryear_818L             36514 non-null    float16 \n",
      " 32  foryear_850L             36514 non-null    float16 \n",
      " 33  fourthquarter_440L       1385691 non-null  float16 \n",
      " 34  maritalst_385M           1500476 non-null  category\n",
      " 35  maritalst_893M           1500476 non-null  category\n",
      " 36  numberofqueries_373L     1385691 non-null  float16 \n",
      " 37  pmtaverage_3A            143589 non-null   float32 \n",
      " 38  pmtaverage_4527227A      114978 non-null   float32 \n",
      " 39  pmtaverage_4955615A      71845 non-null    float32 \n",
      " 40  pmtcount_4527229L        114978 non-null   float16 \n",
      " 41  pmtcount_4955617L        71845 non-null    float16 \n",
      " 42  pmtcount_693L            146406 non-null   float16 \n",
      " 43  pmtscount_423L           572638 non-null   float16 \n",
      " 44  pmtssum_45A              572638 non-null   float32 \n",
      " 45  requesttype_4525192L     673264 non-null   category\n",
      " 46  responsedate_1012D       720000 non-null   category\n",
      " 47  responsedate_4527233D    660327 non-null   category\n",
      " 48  responsedate_4917613D    224912 non-null   category\n",
      " 49  riskassesment_302T       53559 non-null    category\n",
      " 50  riskassesment_940T       53560 non-null    float16 \n",
      " 51  secondquarter_766L       1385691 non-null  float16 \n",
      " 52  thirdquarter_1082L       1385691 non-null  float16 \n",
      "dtypes: category(16), float16(31), float32(5), int32(1)\n",
      "memory usage: 159.6 MB\n"
     ]
    }
   ],
   "source": [
    "df_static_cb = reduce_mem_usage(df_static_cb)\n",
    "df_static_cb.info()"
   ]
  },
  {
   "cell_type": "code",
   "execution_count": 17,
   "id": "5fe55a60",
   "metadata": {
    "execution": {
     "iopub.execute_input": "2024-02-29T10:27:06.657715Z",
     "iopub.status.busy": "2024-02-29T10:27:06.657300Z",
     "iopub.status.idle": "2024-02-29T10:27:06.757855Z",
     "shell.execute_reply": "2024-02-29T10:27:06.756412Z"
    },
    "papermill": {
     "duration": 0.121961,
     "end_time": "2024-02-29T10:27:06.760590",
     "exception": false,
     "start_time": "2024-02-29T10:27:06.638629",
     "status": "completed"
    },
    "tags": []
   },
   "outputs": [
    {
     "data": {
      "text/plain": [
       "0"
      ]
     },
     "execution_count": 17,
     "metadata": {},
     "output_type": "execute_result"
    }
   ],
   "source": [
    "gc.collect()"
   ]
  },
  {
   "cell_type": "markdown",
   "id": "b84cacb0",
   "metadata": {
    "execution": {
     "iopub.execute_input": "2024-02-28T16:35:42.588424Z",
     "iopub.status.busy": "2024-02-28T16:35:42.588056Z",
     "iopub.status.idle": "2024-02-28T16:35:42.595557Z",
     "shell.execute_reply": "2024-02-28T16:35:42.594270Z",
     "shell.execute_reply.started": "2024-02-28T16:35:42.588398Z"
    },
    "papermill": {
     "duration": 0.016852,
     "end_time": "2024-02-29T10:27:06.863509",
     "exception": false,
     "start_time": "2024-02-29T10:27:06.846657",
     "status": "completed"
    },
    "tags": []
   },
   "source": [
    "##### Saving the new files "
   ]
  },
  {
   "cell_type": "code",
   "execution_count": 18,
   "id": "d0e3986e",
   "metadata": {
    "execution": {
     "iopub.execute_input": "2024-02-29T10:27:06.900613Z",
     "iopub.status.busy": "2024-02-29T10:27:06.900212Z",
     "iopub.status.idle": "2024-02-29T10:27:08.132241Z",
     "shell.execute_reply": "2024-02-29T10:27:08.130542Z"
    },
    "papermill": {
     "duration": 1.254055,
     "end_time": "2024-02-29T10:27:08.135472",
     "exception": false,
     "start_time": "2024-02-29T10:27:06.881417",
     "status": "completed"
    },
    "tags": []
   },
   "outputs": [
    {
     "name": "stdout",
     "output_type": "stream",
     "text": [
      "/kaggle/working\r\n"
     ]
    }
   ],
   "source": [
    "!pwd"
   ]
  },
  {
   "cell_type": "code",
   "execution_count": 19,
   "id": "a21ae673",
   "metadata": {
    "execution": {
     "iopub.execute_input": "2024-02-29T10:27:08.174976Z",
     "iopub.status.busy": "2024-02-29T10:27:08.174156Z",
     "iopub.status.idle": "2024-02-29T10:27:09.319495Z",
     "shell.execute_reply": "2024-02-29T10:27:09.317413Z"
    },
    "papermill": {
     "duration": 1.16878,
     "end_time": "2024-02-29T10:27:09.322579",
     "exception": false,
     "start_time": "2024-02-29T10:27:08.153799",
     "status": "completed"
    },
    "tags": []
   },
   "outputs": [],
   "source": [
    "mkdir train"
   ]
  },
  {
   "cell_type": "code",
   "execution_count": 20,
   "id": "ca3de6d7",
   "metadata": {
    "execution": {
     "iopub.execute_input": "2024-02-29T10:27:09.360519Z",
     "iopub.status.busy": "2024-02-29T10:27:09.360039Z",
     "iopub.status.idle": "2024-02-29T10:27:27.271009Z",
     "shell.execute_reply": "2024-02-29T10:27:27.269478Z"
    },
    "papermill": {
     "duration": 17.93492,
     "end_time": "2024-02-29T10:27:27.275354",
     "exception": false,
     "start_time": "2024-02-29T10:27:09.340434",
     "status": "completed"
    },
    "tags": []
   },
   "outputs": [],
   "source": [
    "df_base.to_parquet('train/train_base.parquet')\n",
    "df_static.to_parquet('train/train_static.parquet')\n",
    "df_static_cb.to_parquet('train/train_static_cb.parquet')"
   ]
  },
  {
   "cell_type": "code",
   "execution_count": null,
   "id": "8f6c1195",
   "metadata": {
    "papermill": {
     "duration": 0.018827,
     "end_time": "2024-02-29T10:27:27.313902",
     "exception": false,
     "start_time": "2024-02-29T10:27:27.295075",
     "status": "completed"
    },
    "tags": []
   },
   "outputs": [],
   "source": []
  },
  {
   "cell_type": "markdown",
   "id": "31928aab",
   "metadata": {
    "papermill": {
     "duration": 0.019425,
     "end_time": "2024-02-29T10:27:27.354860",
     "exception": false,
     "start_time": "2024-02-29T10:27:27.335435",
     "status": "completed"
    },
    "tags": []
   },
   "source": [
    "### Datasets with Depth 1"
   ]
  },
  {
   "cell_type": "code",
   "execution_count": 21,
   "id": "b28c4ba5",
   "metadata": {
    "execution": {
     "iopub.execute_input": "2024-02-29T10:27:27.392345Z",
     "iopub.status.busy": "2024-02-29T10:27:27.391546Z",
     "iopub.status.idle": "2024-02-29T10:28:52.160596Z",
     "shell.execute_reply": "2024-02-29T10:28:52.158319Z"
    },
    "papermill": {
     "duration": 84.794319,
     "end_time": "2024-02-29T10:28:52.166752",
     "exception": false,
     "start_time": "2024-02-29T10:27:27.372433",
     "status": "completed"
    },
    "tags": []
   },
   "outputs": [],
   "source": [
    "df_applprev_1_0 = pd.read_csv(\"/kaggle/input/home-credit-credit-risk-model-stability/csv_files/train/train_applprev_1_0.csv\")\n",
    "\n",
    "df_applprev_1_1 = pd.read_csv(\"/kaggle/input/home-credit-credit-risk-model-stability/csv_files/train/train_applprev_1_1.csv\")\n",
    "\n",
    "df_applprev = pd.concat([df_applprev_1_0,df_applprev_1_1],ignore_index=True)"
   ]
  },
  {
   "cell_type": "code",
   "execution_count": 22,
   "id": "eb5caf2a",
   "metadata": {
    "execution": {
     "iopub.execute_input": "2024-02-29T10:28:52.210762Z",
     "iopub.status.busy": "2024-02-29T10:28:52.209474Z",
     "iopub.status.idle": "2024-02-29T10:29:18.293338Z",
     "shell.execute_reply": "2024-02-29T10:29:18.292442Z"
    },
    "papermill": {
     "duration": 26.107022,
     "end_time": "2024-02-29T10:29:18.295896",
     "exception": false,
     "start_time": "2024-02-29T10:28:52.188874",
     "status": "completed"
    },
    "tags": []
   },
   "outputs": [
    {
     "name": "stdout",
     "output_type": "stream",
     "text": [
      "Memory usage of dataframe is 2041.36 MB\n",
      "Memory usage after optimization is: 592.79 MB\n",
      "Decreased by 71.0%\n"
     ]
    }
   ],
   "source": [
    "df_applprev = reduce_mem_usage(df_applprev)"
   ]
  },
  {
   "cell_type": "code",
   "execution_count": 23,
   "id": "db554473",
   "metadata": {
    "execution": {
     "iopub.execute_input": "2024-02-29T10:29:18.334330Z",
     "iopub.status.busy": "2024-02-29T10:29:18.332614Z",
     "iopub.status.idle": "2024-02-29T10:29:32.496828Z",
     "shell.execute_reply": "2024-02-29T10:29:32.495744Z"
    },
    "papermill": {
     "duration": 14.186247,
     "end_time": "2024-02-29T10:29:32.499902",
     "exception": false,
     "start_time": "2024-02-29T10:29:18.313655",
     "status": "completed"
    },
    "tags": []
   },
   "outputs": [],
   "source": [
    "df_applprev.to_parquet('/kaggle/working/train/train_applprev.parquet')"
   ]
  },
  {
   "cell_type": "code",
   "execution_count": 24,
   "id": "72f275f8",
   "metadata": {
    "execution": {
     "iopub.execute_input": "2024-02-29T10:29:32.540608Z",
     "iopub.status.busy": "2024-02-29T10:29:32.539468Z",
     "iopub.status.idle": "2024-02-29T10:29:32.633264Z",
     "shell.execute_reply": "2024-02-29T10:29:32.631895Z"
    },
    "papermill": {
     "duration": 0.117725,
     "end_time": "2024-02-29T10:29:32.636369",
     "exception": false,
     "start_time": "2024-02-29T10:29:32.518644",
     "status": "completed"
    },
    "tags": []
   },
   "outputs": [],
   "source": [
    "df_other = pd.read_csv(\"/kaggle/input/home-credit-credit-risk-model-stability/csv_files/train/train_other_1.csv\")"
   ]
  },
  {
   "cell_type": "code",
   "execution_count": 25,
   "id": "ca06069b",
   "metadata": {
    "execution": {
     "iopub.execute_input": "2024-02-29T10:29:32.675030Z",
     "iopub.status.busy": "2024-02-29T10:29:32.674025Z",
     "iopub.status.idle": "2024-02-29T10:29:32.692118Z",
     "shell.execute_reply": "2024-02-29T10:29:32.689756Z"
    },
    "papermill": {
     "duration": 0.040878,
     "end_time": "2024-02-29T10:29:32.695383",
     "exception": false,
     "start_time": "2024-02-29T10:29:32.654505",
     "status": "completed"
    },
    "tags": []
   },
   "outputs": [
    {
     "name": "stdout",
     "output_type": "stream",
     "text": [
      "Memory usage of dataframe is 2.73 MB\n",
      "Memory usage after optimization is: 1.22 MB\n",
      "Decreased by 55.4%\n"
     ]
    }
   ],
   "source": [
    "df_other = reduce_mem_usage(df_other)"
   ]
  },
  {
   "cell_type": "code",
   "execution_count": 26,
   "id": "c7edd84b",
   "metadata": {
    "execution": {
     "iopub.execute_input": "2024-02-29T10:29:32.734278Z",
     "iopub.status.busy": "2024-02-29T10:29:32.733370Z",
     "iopub.status.idle": "2024-02-29T10:29:32.770543Z",
     "shell.execute_reply": "2024-02-29T10:29:32.769020Z"
    },
    "papermill": {
     "duration": 0.059787,
     "end_time": "2024-02-29T10:29:32.773515",
     "exception": false,
     "start_time": "2024-02-29T10:29:32.713728",
     "status": "completed"
    },
    "tags": []
   },
   "outputs": [],
   "source": [
    "df_other.to_parquet('/kaggle/working/train/train_other.parquet')"
   ]
  },
  {
   "cell_type": "code",
   "execution_count": 27,
   "id": "c9ebe4e6",
   "metadata": {
    "execution": {
     "iopub.execute_input": "2024-02-29T10:29:32.812305Z",
     "iopub.status.busy": "2024-02-29T10:29:32.811810Z",
     "iopub.status.idle": "2024-02-29T10:29:36.844027Z",
     "shell.execute_reply": "2024-02-29T10:29:36.842900Z"
    },
    "papermill": {
     "duration": 4.056169,
     "end_time": "2024-02-29T10:29:36.847519",
     "exception": false,
     "start_time": "2024-02-29T10:29:32.791350",
     "status": "completed"
    },
    "tags": []
   },
   "outputs": [],
   "source": [
    "df_tax = pd.read_csv(\"/kaggle/input/home-credit-credit-risk-model-stability/csv_files/train/train_tax_registry_a_1.csv\")"
   ]
  },
  {
   "cell_type": "code",
   "execution_count": 28,
   "id": "584bbc9f",
   "metadata": {
    "execution": {
     "iopub.execute_input": "2024-02-29T10:29:36.888169Z",
     "iopub.status.busy": "2024-02-29T10:29:36.884616Z",
     "iopub.status.idle": "2024-02-29T10:29:38.371288Z",
     "shell.execute_reply": "2024-02-29T10:29:38.369484Z"
    },
    "papermill": {
     "duration": 1.508957,
     "end_time": "2024-02-29T10:29:38.374321",
     "exception": false,
     "start_time": "2024-02-29T10:29:36.865364",
     "status": "completed"
    },
    "tags": []
   },
   "outputs": [
    {
     "name": "stdout",
     "output_type": "stream",
     "text": [
      "Memory usage of dataframe is 124.96 MB\n",
      "Memory usage after optimization is: 52.03 MB\n",
      "Decreased by 58.4%\n"
     ]
    }
   ],
   "source": [
    "df_tax = reduce_mem_usage(df_tax)"
   ]
  },
  {
   "cell_type": "code",
   "execution_count": 29,
   "id": "561ababe",
   "metadata": {
    "execution": {
     "iopub.execute_input": "2024-02-29T10:29:38.412804Z",
     "iopub.status.busy": "2024-02-29T10:29:38.412385Z",
     "iopub.status.idle": "2024-02-29T10:29:38.449698Z",
     "shell.execute_reply": "2024-02-29T10:29:38.448626Z"
    },
    "papermill": {
     "duration": 0.061993,
     "end_time": "2024-02-29T10:29:38.454596",
     "exception": false,
     "start_time": "2024-02-29T10:29:38.392603",
     "status": "completed"
    },
    "tags": []
   },
   "outputs": [
    {
     "data": {
      "text/html": [
       "<div>\n",
       "<style scoped>\n",
       "    .dataframe tbody tr th:only-of-type {\n",
       "        vertical-align: middle;\n",
       "    }\n",
       "\n",
       "    .dataframe tbody tr th {\n",
       "        vertical-align: top;\n",
       "    }\n",
       "\n",
       "    .dataframe thead th {\n",
       "        text-align: right;\n",
       "    }\n",
       "</style>\n",
       "<table border=\"1\" class=\"dataframe\">\n",
       "  <thead>\n",
       "    <tr style=\"text-align: right;\">\n",
       "      <th></th>\n",
       "      <th>case_id</th>\n",
       "      <th>amount_4527230A</th>\n",
       "      <th>name_4527232M</th>\n",
       "      <th>num_group1</th>\n",
       "      <th>recorddate_4527225D</th>\n",
       "    </tr>\n",
       "  </thead>\n",
       "  <tbody>\n",
       "    <tr>\n",
       "      <th>0</th>\n",
       "      <td>28631</td>\n",
       "      <td>1946.000000</td>\n",
       "      <td>f980a1ea</td>\n",
       "      <td>2</td>\n",
       "      <td>2019-09-13</td>\n",
       "    </tr>\n",
       "    <tr>\n",
       "      <th>1</th>\n",
       "      <td>28631</td>\n",
       "      <td>711.000000</td>\n",
       "      <td>f980a1ea</td>\n",
       "      <td>3</td>\n",
       "      <td>2019-09-13</td>\n",
       "    </tr>\n",
       "    <tr>\n",
       "      <th>2</th>\n",
       "      <td>28631</td>\n",
       "      <td>3616.400146</td>\n",
       "      <td>f980a1ea</td>\n",
       "      <td>0</td>\n",
       "      <td>2019-09-13</td>\n",
       "    </tr>\n",
       "    <tr>\n",
       "      <th>3</th>\n",
       "      <td>28631</td>\n",
       "      <td>2600.000000</td>\n",
       "      <td>f980a1ea</td>\n",
       "      <td>1</td>\n",
       "      <td>2019-09-13</td>\n",
       "    </tr>\n",
       "  </tbody>\n",
       "</table>\n",
       "</div>"
      ],
      "text/plain": [
       "   case_id  amount_4527230A name_4527232M  num_group1 recorddate_4527225D\n",
       "0    28631      1946.000000      f980a1ea           2          2019-09-13\n",
       "1    28631       711.000000      f980a1ea           3          2019-09-13\n",
       "2    28631      3616.400146      f980a1ea           0          2019-09-13\n",
       "3    28631      2600.000000      f980a1ea           1          2019-09-13"
      ]
     },
     "execution_count": 29,
     "metadata": {},
     "output_type": "execute_result"
    }
   ],
   "source": [
    "df_tax[df_tax['case_id'] == 28631]"
   ]
  },
  {
   "cell_type": "code",
   "execution_count": 30,
   "id": "f5f17c84",
   "metadata": {
    "execution": {
     "iopub.execute_input": "2024-02-29T10:29:38.495843Z",
     "iopub.status.busy": "2024-02-29T10:29:38.495385Z",
     "iopub.status.idle": "2024-02-29T10:29:39.677056Z",
     "shell.execute_reply": "2024-02-29T10:29:39.675471Z"
    },
    "papermill": {
     "duration": 1.205196,
     "end_time": "2024-02-29T10:29:39.679961",
     "exception": false,
     "start_time": "2024-02-29T10:29:38.474765",
     "status": "completed"
    },
    "tags": []
   },
   "outputs": [],
   "source": [
    "df_tax.to_parquet('/kaggle/working/train/train_tax.parquet')"
   ]
  },
  {
   "cell_type": "code",
   "execution_count": null,
   "id": "3d42e881",
   "metadata": {
    "papermill": {
     "duration": 0.024055,
     "end_time": "2024-02-29T10:29:39.732594",
     "exception": false,
     "start_time": "2024-02-29T10:29:39.708539",
     "status": "completed"
    },
    "tags": []
   },
   "outputs": [],
   "source": []
  }
 ],
 "metadata": {
  "kaggle": {
   "accelerator": "none",
   "dataSources": [
    {
     "databundleVersionId": 7602123,
     "sourceId": 50160,
     "sourceType": "competition"
    },
    {
     "sourceId": 164800459,
     "sourceType": "kernelVersion"
    },
    {
     "sourceId": 164833654,
     "sourceType": "kernelVersion"
    }
   ],
   "dockerImageVersionId": 30646,
   "isGpuEnabled": false,
   "isInternetEnabled": true,
   "language": "python",
   "sourceType": "notebook"
  },
  "kernelspec": {
   "display_name": "Python 3",
   "language": "python",
   "name": "python3"
  },
  "language_info": {
   "codemirror_mode": {
    "name": "ipython",
    "version": 3
   },
   "file_extension": ".py",
   "mimetype": "text/x-python",
   "name": "python",
   "nbconvert_exporter": "python",
   "pygments_lexer": "ipython3",
   "version": "3.10.13"
  },
  "papermill": {
   "default_parameters": {},
   "duration": 258.976387,
   "end_time": "2024-02-29T10:29:41.784557",
   "environment_variables": {},
   "exception": null,
   "input_path": "__notebook__.ipynb",
   "output_path": "__notebook__.ipynb",
   "parameters": {},
   "start_time": "2024-02-29T10:25:22.808170",
   "version": "2.5.0"
  }
 },
 "nbformat": 4,
 "nbformat_minor": 5
}
