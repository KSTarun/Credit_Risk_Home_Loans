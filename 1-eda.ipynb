{
 "cells": [
  {
   "cell_type": "markdown",
   "id": "694c4379",
   "metadata": {
    "papermill": {
     "duration": 0.006497,
     "end_time": "2024-02-28T12:31:12.119868",
     "exception": false,
     "start_time": "2024-02-28T12:31:12.113371",
     "status": "completed"
    },
    "tags": []
   },
   "source": [
    "### Importing Packages"
   ]
  },
  {
   "cell_type": "code",
   "execution_count": 1,
   "id": "599d8e7b",
   "metadata": {
    "execution": {
     "iopub.execute_input": "2024-02-28T12:31:12.134321Z",
     "iopub.status.busy": "2024-02-28T12:31:12.133757Z",
     "iopub.status.idle": "2024-02-28T12:31:15.122538Z",
     "shell.execute_reply": "2024-02-28T12:31:15.121209Z"
    },
    "papermill": {
     "duration": 2.999072,
     "end_time": "2024-02-28T12:31:15.125475",
     "exception": false,
     "start_time": "2024-02-28T12:31:12.126403",
     "status": "completed"
    },
    "tags": []
   },
   "outputs": [],
   "source": [
    "import os\n",
    "import pandas as pd \n",
    "import numpy as np \n",
    "import seaborn as sns "
   ]
  },
  {
   "cell_type": "markdown",
   "id": "53a74465",
   "metadata": {
    "papermill": {
     "duration": 0.005164,
     "end_time": "2024-02-28T12:31:15.136312",
     "exception": false,
     "start_time": "2024-02-28T12:31:15.131148",
     "status": "completed"
    },
    "tags": []
   },
   "source": [
    "### Importing Data"
   ]
  },
  {
   "cell_type": "markdown",
   "id": "85932a83",
   "metadata": {
    "papermill": {
     "duration": 0.005251,
     "end_time": "2024-02-28T12:31:15.147173",
     "exception": false,
     "start_time": "2024-02-28T12:31:15.141922",
     "status": "completed"
    },
    "tags": []
   },
   "source": [
    "##### Importing train data"
   ]
  },
  {
   "cell_type": "code",
   "execution_count": 2,
   "id": "189e762c",
   "metadata": {
    "execution": {
     "iopub.execute_input": "2024-02-28T12:31:15.159902Z",
     "iopub.status.busy": "2024-02-28T12:31:15.159340Z",
     "iopub.status.idle": "2024-02-28T12:31:15.178186Z",
     "shell.execute_reply": "2024-02-28T12:31:15.176161Z"
    },
    "papermill": {
     "duration": 0.028771,
     "end_time": "2024-02-28T12:31:15.181320",
     "exception": false,
     "start_time": "2024-02-28T12:31:15.152549",
     "status": "completed"
    },
    "tags": []
   },
   "outputs": [
    {
     "name": "stdout",
     "output_type": "stream",
     "text": [
      "train_credit_bureau_a_1_3.csv\n",
      "train_static_cb_0.csv\n",
      "train_applprev_1_0.csv\n",
      "train_person_2.csv\n",
      "train_base.csv\n",
      "train_tax_registry_a_1.csv\n",
      "train_static_0_0.csv\n",
      "train_credit_bureau_a_1_0.csv\n",
      "train_applprev_2.csv\n",
      "train_credit_bureau_a_2_6.csv\n",
      "train_credit_bureau_a_1_2.csv\n",
      "train_person_1.csv\n",
      "train_credit_bureau_a_1_1.csv\n",
      "train_tax_registry_c_1.csv\n",
      "train_credit_bureau_a_2_4.csv\n",
      "train_credit_bureau_a_2_9.csv\n",
      "train_credit_bureau_a_2_3.csv\n",
      "train_credit_bureau_a_2_7.csv\n",
      "train_credit_bureau_b_2.csv\n",
      "train_credit_bureau_a_2_2.csv\n",
      "train_static_0_1.csv\n",
      "train_deposit_1.csv\n",
      "train_credit_bureau_a_2_10.csv\n",
      "train_tax_registry_b_1.csv\n",
      "train_applprev_1_1.csv\n",
      "train_credit_bureau_a_2_1.csv\n",
      "train_credit_bureau_a_2_8.csv\n",
      "train_credit_bureau_a_2_5.csv\n",
      "train_credit_bureau_b_1.csv\n",
      "train_credit_bureau_a_2_0.csv\n",
      "train_other_1.csv\n",
      "train_debitcard_1.csv\n"
     ]
    }
   ],
   "source": [
    "for dirname, _, filenames in os.walk('/kaggle/input/home-credit-credit-risk-model-stability/csv_files/train/'):\n",
    "    for filename in filenames:\n",
    "        print(filename)"
   ]
  },
  {
   "cell_type": "code",
   "execution_count": 3,
   "id": "78e185af",
   "metadata": {
    "execution": {
     "iopub.execute_input": "2024-02-28T12:31:15.194875Z",
     "iopub.status.busy": "2024-02-28T12:31:15.194440Z",
     "iopub.status.idle": "2024-02-28T12:31:15.202866Z",
     "shell.execute_reply": "2024-02-28T12:31:15.201633Z"
    },
    "papermill": {
     "duration": 0.018114,
     "end_time": "2024-02-28T12:31:15.205304",
     "exception": false,
     "start_time": "2024-02-28T12:31:15.187190",
     "status": "completed"
    },
    "tags": []
   },
   "outputs": [
    {
     "data": {
      "text/plain": [
       "['train_credit_bureau_a_1_3.csv',\n",
       " 'train_static_cb_0.csv',\n",
       " 'train_applprev_1_0.csv',\n",
       " 'train_person_2.csv',\n",
       " 'train_base.csv',\n",
       " 'train_tax_registry_a_1.csv',\n",
       " 'train_static_0_0.csv',\n",
       " 'train_credit_bureau_a_1_0.csv',\n",
       " 'train_applprev_2.csv',\n",
       " 'train_credit_bureau_a_2_6.csv',\n",
       " 'train_credit_bureau_a_1_2.csv',\n",
       " 'train_person_1.csv',\n",
       " 'train_credit_bureau_a_1_1.csv',\n",
       " 'train_tax_registry_c_1.csv',\n",
       " 'train_credit_bureau_a_2_4.csv',\n",
       " 'train_credit_bureau_a_2_9.csv',\n",
       " 'train_credit_bureau_a_2_3.csv',\n",
       " 'train_credit_bureau_a_2_7.csv',\n",
       " 'train_credit_bureau_b_2.csv',\n",
       " 'train_credit_bureau_a_2_2.csv',\n",
       " 'train_static_0_1.csv',\n",
       " 'train_deposit_1.csv',\n",
       " 'train_credit_bureau_a_2_10.csv',\n",
       " 'train_tax_registry_b_1.csv',\n",
       " 'train_applprev_1_1.csv',\n",
       " 'train_credit_bureau_a_2_1.csv',\n",
       " 'train_credit_bureau_a_2_8.csv',\n",
       " 'train_credit_bureau_a_2_5.csv',\n",
       " 'train_credit_bureau_b_1.csv',\n",
       " 'train_credit_bureau_a_2_0.csv',\n",
       " 'train_other_1.csv',\n",
       " 'train_debitcard_1.csv']"
      ]
     },
     "execution_count": 3,
     "metadata": {},
     "output_type": "execute_result"
    }
   ],
   "source": [
    "filenames"
   ]
  },
  {
   "cell_type": "code",
   "execution_count": 4,
   "id": "4852fed5",
   "metadata": {
    "execution": {
     "iopub.execute_input": "2024-02-28T12:31:15.220080Z",
     "iopub.status.busy": "2024-02-28T12:31:15.219465Z",
     "iopub.status.idle": "2024-02-28T12:31:16.664173Z",
     "shell.execute_reply": "2024-02-28T12:31:16.662838Z"
    },
    "papermill": {
     "duration": 1.45559,
     "end_time": "2024-02-28T12:31:16.667124",
     "exception": false,
     "start_time": "2024-02-28T12:31:15.211534",
     "status": "completed"
    },
    "tags": []
   },
   "outputs": [],
   "source": [
    "df_base = pd.read_csv(\"/kaggle/input/home-credit-credit-risk-model-stability/csv_files/train/train_base.csv\")"
   ]
  },
  {
   "cell_type": "code",
   "execution_count": 5,
   "id": "39aba3be",
   "metadata": {
    "execution": {
     "iopub.execute_input": "2024-02-28T12:31:16.680754Z",
     "iopub.status.busy": "2024-02-28T12:31:16.680340Z",
     "iopub.status.idle": "2024-02-28T12:31:16.885138Z",
     "shell.execute_reply": "2024-02-28T12:31:16.883667Z"
    },
    "papermill": {
     "duration": 0.21494,
     "end_time": "2024-02-28T12:31:16.887994",
     "exception": false,
     "start_time": "2024-02-28T12:31:16.673054",
     "status": "completed"
    },
    "tags": []
   },
   "outputs": [
    {
     "name": "stdout",
     "output_type": "stream",
     "text": [
      "<class 'pandas.core.frame.DataFrame'>\n",
      "RangeIndex: 1526659 entries, 0 to 1526658\n",
      "Data columns (total 5 columns):\n",
      " #   Column         Non-Null Count    Dtype \n",
      "---  ------         --------------    ----- \n",
      " 0   case_id        1526659 non-null  int64 \n",
      " 1   date_decision  1526659 non-null  object\n",
      " 2   MONTH          1526659 non-null  int64 \n",
      " 3   WEEK_NUM       1526659 non-null  int64 \n",
      " 4   target         1526659 non-null  int64 \n",
      "dtypes: int64(4), object(1)\n",
      "memory usage: 58.2+ MB\n"
     ]
    }
   ],
   "source": [
    "df_base.info()"
   ]
  },
  {
   "cell_type": "code",
   "execution_count": 6,
   "id": "0cc239f6",
   "metadata": {
    "execution": {
     "iopub.execute_input": "2024-02-28T12:31:16.901861Z",
     "iopub.status.busy": "2024-02-28T12:31:16.901418Z",
     "iopub.status.idle": "2024-02-28T12:31:16.977586Z",
     "shell.execute_reply": "2024-02-28T12:31:16.976329Z"
    },
    "papermill": {
     "duration": 0.085976,
     "end_time": "2024-02-28T12:31:16.980038",
     "exception": false,
     "start_time": "2024-02-28T12:31:16.894062",
     "status": "completed"
    },
    "tags": []
   },
   "outputs": [
    {
     "data": {
      "text/plain": [
       "1526659"
      ]
     },
     "execution_count": 6,
     "metadata": {},
     "output_type": "execute_result"
    }
   ],
   "source": [
    "df_base['case_id'].nunique()"
   ]
  },
  {
   "cell_type": "code",
   "execution_count": null,
   "id": "764fef6f",
   "metadata": {
    "papermill": {
     "duration": 0.005904,
     "end_time": "2024-02-28T12:31:16.992321",
     "exception": false,
     "start_time": "2024-02-28T12:31:16.986417",
     "status": "completed"
    },
    "tags": []
   },
   "outputs": [],
   "source": []
  },
  {
   "cell_type": "code",
   "execution_count": null,
   "id": "bc4761d4",
   "metadata": {
    "papermill": {
     "duration": 0.006315,
     "end_time": "2024-02-28T12:31:17.004953",
     "exception": false,
     "start_time": "2024-02-28T12:31:16.998638",
     "status": "completed"
    },
    "tags": []
   },
   "outputs": [],
   "source": []
  },
  {
   "cell_type": "code",
   "execution_count": 7,
   "id": "02dbbf28",
   "metadata": {
    "execution": {
     "iopub.execute_input": "2024-02-28T12:31:17.019723Z",
     "iopub.status.busy": "2024-02-28T12:31:17.018960Z",
     "iopub.status.idle": "2024-02-28T12:32:08.334024Z",
     "shell.execute_reply": "2024-02-28T12:32:08.332582Z"
    },
    "papermill": {
     "duration": 51.325753,
     "end_time": "2024-02-28T12:32:08.336928",
     "exception": false,
     "start_time": "2024-02-28T12:31:17.011175",
     "status": "completed"
    },
    "tags": []
   },
   "outputs": [
    {
     "name": "stderr",
     "output_type": "stream",
     "text": [
      "/tmp/ipykernel_18/3297399063.py:1: DtypeWarning: Columns (20,45,46,53,57,84,143,146,167) have mixed types. Specify dtype option on import or set low_memory=False.\n",
      "  df_static_0 = pd.read_csv(\"/kaggle/input/home-credit-credit-risk-model-stability/csv_files/train/train_static_0_0.csv\")\n",
      "/tmp/ipykernel_18/3297399063.py:2: DtypeWarning: Columns (20,45,46,56,57,84,143,146,167) have mixed types. Specify dtype option on import or set low_memory=False.\n",
      "  df_static_1 = pd.read_csv(\"/kaggle/input/home-credit-credit-risk-model-stability/csv_files/train/train_static_0_1.csv\")\n"
     ]
    }
   ],
   "source": [
    "df_static_0 = pd.read_csv(\"/kaggle/input/home-credit-credit-risk-model-stability/csv_files/train/train_static_0_0.csv\")\n",
    "df_static_1 = pd.read_csv(\"/kaggle/input/home-credit-credit-risk-model-stability/csv_files/train/train_static_0_1.csv\")"
   ]
  },
  {
   "cell_type": "code",
   "execution_count": 8,
   "id": "3ecdd129",
   "metadata": {
    "execution": {
     "iopub.execute_input": "2024-02-28T12:32:08.351989Z",
     "iopub.status.busy": "2024-02-28T12:32:08.351538Z",
     "iopub.status.idle": "2024-02-28T12:32:08.370054Z",
     "shell.execute_reply": "2024-02-28T12:32:08.368816Z"
    },
    "papermill": {
     "duration": 0.029452,
     "end_time": "2024-02-28T12:32:08.372947",
     "exception": false,
     "start_time": "2024-02-28T12:32:08.343495",
     "status": "completed"
    },
    "tags": []
   },
   "outputs": [
    {
     "name": "stdout",
     "output_type": "stream",
     "text": [
      "<class 'pandas.core.frame.DataFrame'>\n",
      "RangeIndex: 1003757 entries, 0 to 1003756\n",
      "Columns: 168 entries, case_id to validfrom_1069D\n",
      "dtypes: bool(1), float64(128), int64(1), object(38)\n",
      "memory usage: 1.2+ GB\n"
     ]
    }
   ],
   "source": [
    "df_static_0.info()"
   ]
  },
  {
   "cell_type": "code",
   "execution_count": 9,
   "id": "c6f3f275",
   "metadata": {
    "execution": {
     "iopub.execute_input": "2024-02-28T12:32:08.388445Z",
     "iopub.status.busy": "2024-02-28T12:32:08.387161Z",
     "iopub.status.idle": "2024-02-28T12:32:08.405164Z",
     "shell.execute_reply": "2024-02-28T12:32:08.403795Z"
    },
    "papermill": {
     "duration": 0.028365,
     "end_time": "2024-02-28T12:32:08.407843",
     "exception": false,
     "start_time": "2024-02-28T12:32:08.379478",
     "status": "completed"
    },
    "tags": []
   },
   "outputs": [
    {
     "name": "stdout",
     "output_type": "stream",
     "text": [
      "<class 'pandas.core.frame.DataFrame'>\n",
      "RangeIndex: 522902 entries, 0 to 522901\n",
      "Columns: 168 entries, case_id to validfrom_1069D\n",
      "dtypes: bool(1), float64(128), int64(1), object(38)\n",
      "memory usage: 666.7+ MB\n"
     ]
    }
   ],
   "source": [
    "df_static_1.info()"
   ]
  },
  {
   "cell_type": "code",
   "execution_count": null,
   "id": "5d4b602f",
   "metadata": {
    "papermill": {
     "duration": 0.006067,
     "end_time": "2024-02-28T12:32:08.421537",
     "exception": false,
     "start_time": "2024-02-28T12:32:08.415470",
     "status": "completed"
    },
    "tags": []
   },
   "outputs": [],
   "source": []
  },
  {
   "cell_type": "code",
   "execution_count": null,
   "id": "6924415b",
   "metadata": {
    "papermill": {
     "duration": 0.006144,
     "end_time": "2024-02-28T12:32:08.434065",
     "exception": false,
     "start_time": "2024-02-28T12:32:08.427921",
     "status": "completed"
    },
    "tags": []
   },
   "outputs": [],
   "source": []
  }
 ],
 "metadata": {
  "kaggle": {
   "accelerator": "none",
   "dataSources": [
    {
     "databundleVersionId": 7602123,
     "sourceId": 50160,
     "sourceType": "competition"
    }
   ],
   "dockerImageVersionId": 30646,
   "isGpuEnabled": false,
   "isInternetEnabled": true,
   "language": "python",
   "sourceType": "notebook"
  },
  "kernelspec": {
   "display_name": "Python 3",
   "language": "python",
   "name": "python3"
  },
  "language_info": {
   "codemirror_mode": {
    "name": "ipython",
    "version": 3
   },
   "file_extension": ".py",
   "mimetype": "text/x-python",
   "name": "python",
   "nbconvert_exporter": "python",
   "pygments_lexer": "ipython3",
   "version": "3.10.13"
  },
  "papermill": {
   "default_parameters": {},
   "duration": 60.973405,
   "end_time": "2024-02-28T12:32:09.765154",
   "environment_variables": {},
   "exception": null,
   "input_path": "__notebook__.ipynb",
   "output_path": "__notebook__.ipynb",
   "parameters": {},
   "start_time": "2024-02-28T12:31:08.791749",
   "version": "2.5.0"
  }
 },
 "nbformat": 4,
 "nbformat_minor": 5
}
