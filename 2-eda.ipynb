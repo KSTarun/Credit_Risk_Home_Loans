{
 "cells": [
  {
   "cell_type": "markdown",
   "id": "29f3e8e8",
   "metadata": {
    "papermill": {
     "duration": 0.006673,
     "end_time": "2024-03-03T14:15:46.004595",
     "exception": false,
     "start_time": "2024-03-03T14:15:45.997922",
     "status": "completed"
    },
    "tags": []
   },
   "source": [
    "### Importing packages"
   ]
  },
  {
   "cell_type": "code",
   "execution_count": 1,
   "id": "547264c9",
   "metadata": {
    "execution": {
     "iopub.execute_input": "2024-03-03T14:15:46.016462Z",
     "iopub.status.busy": "2024-03-03T14:15:46.015856Z",
     "iopub.status.idle": "2024-03-03T14:15:48.892089Z",
     "shell.execute_reply": "2024-03-03T14:15:48.890589Z"
    },
    "papermill": {
     "duration": 2.886563,
     "end_time": "2024-03-03T14:15:48.895549",
     "exception": false,
     "start_time": "2024-03-03T14:15:46.008986",
     "status": "completed"
    },
    "tags": []
   },
   "outputs": [],
   "source": [
    "import pandas as pd \n",
    "import numpy as np \n",
    "import seaborn as sns \n",
    "\n",
    "import os\n",
    "from loguru import logger\n",
    "\n",
    "import warnings\n",
    "warnings.filterwarnings('ignore')\n",
    "import gc"
   ]
  },
  {
   "cell_type": "code",
   "execution_count": 2,
   "id": "239c99be",
   "metadata": {
    "execution": {
     "iopub.execute_input": "2024-03-03T14:15:48.906375Z",
     "iopub.status.busy": "2024-03-03T14:15:48.905685Z",
     "iopub.status.idle": "2024-03-03T14:15:48.921233Z",
     "shell.execute_reply": "2024-03-03T14:15:48.919781Z"
    },
    "papermill": {
     "duration": 0.025213,
     "end_time": "2024-03-03T14:15:48.924876",
     "exception": false,
     "start_time": "2024-03-03T14:15:48.899663",
     "status": "completed"
    },
    "tags": []
   },
   "outputs": [
    {
     "name": "stdout",
     "output_type": "stream",
     "text": [
      "/kaggle/input/1-raw-data-import/__results__.html\n",
      "/kaggle/input/1-raw-data-import/__notebook__.ipynb\n",
      "/kaggle/input/1-raw-data-import/__output__.json\n",
      "/kaggle/input/1-raw-data-import/custom.css\n",
      "/kaggle/input/1-raw-data-import/train/train_credit_bureau_a_1_3.parquet\n",
      "/kaggle/input/1-raw-data-import/train/train_tax.parquet\n",
      "/kaggle/input/1-raw-data-import/train/train_tax_registry_b.parquet\n",
      "/kaggle/input/1-raw-data-import/train/train_credit_bureau_b_2.parquet\n",
      "/kaggle/input/1-raw-data-import/train/train_credit_bureau_a_2_6.parquet\n",
      "/kaggle/input/1-raw-data-import/train/train_tax_registry.parquet\n",
      "/kaggle/input/1-raw-data-import/train/train_credit_bureau_a_2_1.parquet\n",
      "/kaggle/input/1-raw-data-import/train/train_person_2.parquet\n",
      "/kaggle/input/1-raw-data-import/train/train_credit_bureau_a_2_0.parquet\n",
      "/kaggle/input/1-raw-data-import/train/train_credit_bureau_a_2_7.parquet\n",
      "/kaggle/input/1-raw-data-import/train/train_debitcard_1.parquet\n",
      "/kaggle/input/1-raw-data-import/train/train_credit_bureau_a_2_5.parquet\n",
      "/kaggle/input/1-raw-data-import/train/train_credit_bureau_b.parquet\n",
      "/kaggle/input/1-raw-data-import/train/train_credit_bureau_a_2_2.parquet\n",
      "/kaggle/input/1-raw-data-import/train/train_credit_bureau_a_2_4.parquet\n",
      "/kaggle/input/1-raw-data-import/train/train_base.parquet\n",
      "/kaggle/input/1-raw-data-import/train/train_credit_bureau_a_2_9.parquet\n",
      "/kaggle/input/1-raw-data-import/train/train_deposit.parquet\n",
      "/kaggle/input/1-raw-data-import/train/train_credit_bureau_a_2_3.parquet\n",
      "/kaggle/input/1-raw-data-import/train/train_applprev_2.parquet\n",
      "/kaggle/input/1-raw-data-import/train/train_static.parquet\n",
      "/kaggle/input/1-raw-data-import/train/train_credit_bureau_a_2_10.parquet\n",
      "/kaggle/input/1-raw-data-import/train/train_credit_bureau_a_2_8.parquet\n",
      "/kaggle/input/1-raw-data-import/train/train_credit_bureau_a_1_2.parquet\n",
      "/kaggle/input/1-raw-data-import/train/train_tax_registry_c.parquet\n",
      "/kaggle/input/1-raw-data-import/train/train_static_cb.parquet\n",
      "/kaggle/input/1-raw-data-import/train/train_person.parquet\n",
      "/kaggle/input/1-raw-data-import/train/train_other.parquet\n",
      "/kaggle/input/1-raw-data-import/train/train_applprev.parquet\n",
      "/kaggle/input/1-raw-data-import/train/train_credit_bureau_a_1_0.parquet\n",
      "/kaggle/input/1-raw-data-import/train/train_credit_bureau_a_1_1.parquet\n"
     ]
    }
   ],
   "source": [
    "for dirname, _, filenames in os.walk('/kaggle/input/1-raw-data-import/'):\n",
    "    for filename in filenames:\n",
    "        print(os.path.join(dirname, filename))"
   ]
  },
  {
   "cell_type": "markdown",
   "id": "2ac8dd12",
   "metadata": {
    "papermill": {
     "duration": 0.003761,
     "end_time": "2024-03-03T14:15:48.932906",
     "exception": false,
     "start_time": "2024-03-03T14:15:48.929145",
     "status": "completed"
    },
    "tags": []
   },
   "source": [
    "### Reading datasets"
   ]
  },
  {
   "cell_type": "code",
   "execution_count": 3,
   "id": "24d81302",
   "metadata": {
    "execution": {
     "iopub.execute_input": "2024-03-03T14:15:48.943255Z",
     "iopub.status.busy": "2024-03-03T14:15:48.942732Z",
     "iopub.status.idle": "2024-03-03T14:15:48.948365Z",
     "shell.execute_reply": "2024-03-03T14:15:48.947083Z"
    },
    "papermill": {
     "duration": 0.014123,
     "end_time": "2024-03-03T14:15:48.951022",
     "exception": false,
     "start_time": "2024-03-03T14:15:48.936899",
     "status": "completed"
    },
    "tags": []
   },
   "outputs": [],
   "source": [
    "path = \"/kaggle/input/1-raw-data-import/train/\""
   ]
  },
  {
   "cell_type": "code",
   "execution_count": 4,
   "id": "b3366665",
   "metadata": {
    "execution": {
     "iopub.execute_input": "2024-03-03T14:15:48.961874Z",
     "iopub.status.busy": "2024-03-03T14:15:48.960945Z",
     "iopub.status.idle": "2024-03-03T14:15:59.899664Z",
     "shell.execute_reply": "2024-03-03T14:15:59.898142Z"
    },
    "papermill": {
     "duration": 10.947837,
     "end_time": "2024-03-03T14:15:59.902922",
     "exception": false,
     "start_time": "2024-03-03T14:15:48.955085",
     "status": "completed"
    },
    "tags": []
   },
   "outputs": [],
   "source": [
    "df_base = pd.read_parquet(path+'train_base.parquet')\n",
    "df_static = pd.read_parquet(path+'train_static.parquet')\n",
    "df_static_cb = pd.read_parquet(path+'train_static_cb.parquet')\n",
    "\n",
    "df_tax = pd.read_parquet(path+'train_tax.parquet')\n",
    "df_other = pd.read_parquet(path+'train_other.parquet')\n",
    "df_applprev = pd.read_parquet(path+'train_applprev.parquet')\n",
    "\n",
    "df_tax_reg_a = pd.read_parquet(path+\"train_tax_registry.parquet\")\n",
    "df_tax_reg_b = pd.read_parquet(path+\"train_tax_registry_b.parquet\")"
   ]
  },
  {
   "cell_type": "code",
   "execution_count": null,
   "id": "5e2e9afc",
   "metadata": {
    "papermill": {
     "duration": 0.00369,
     "end_time": "2024-03-03T14:15:59.910804",
     "exception": false,
     "start_time": "2024-03-03T14:15:59.907114",
     "status": "completed"
    },
    "tags": []
   },
   "outputs": [],
   "source": []
  },
  {
   "cell_type": "code",
   "execution_count": null,
   "id": "05a1c606",
   "metadata": {
    "papermill": {
     "duration": 0.00347,
     "end_time": "2024-03-03T14:15:59.918227",
     "exception": false,
     "start_time": "2024-03-03T14:15:59.914757",
     "status": "completed"
    },
    "tags": []
   },
   "outputs": [],
   "source": []
  }
 ],
 "metadata": {
  "kaggle": {
   "accelerator": "none",
   "dataSources": [
    {
     "databundleVersionId": 7602123,
     "sourceId": 50160,
     "sourceType": "competition"
    },
    {
     "sourceId": 165007360,
     "sourceType": "kernelVersion"
    },
    {
     "sourceId": 165258036,
     "sourceType": "kernelVersion"
    }
   ],
   "dockerImageVersionId": 30664,
   "isGpuEnabled": false,
   "isInternetEnabled": true,
   "language": "python",
   "sourceType": "notebook"
  },
  "kernelspec": {
   "display_name": "Python 3",
   "language": "python",
   "name": "python3"
  },
  "language_info": {
   "codemirror_mode": {
    "name": "ipython",
    "version": 3
   },
   "file_extension": ".py",
   "mimetype": "text/x-python",
   "name": "python",
   "nbconvert_exporter": "python",
   "pygments_lexer": "ipython3",
   "version": "3.10.13"
  },
  "papermill": {
   "default_parameters": {},
   "duration": 18.527684,
   "end_time": "2024-03-03T14:16:01.048109",
   "environment_variables": {},
   "exception": null,
   "input_path": "__notebook__.ipynb",
   "output_path": "__notebook__.ipynb",
   "parameters": {},
   "start_time": "2024-03-03T14:15:42.520425",
   "version": "2.5.0"
  }
 },
 "nbformat": 4,
 "nbformat_minor": 5
}
