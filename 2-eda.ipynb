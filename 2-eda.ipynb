{
 "cells": [
  {
   "cell_type": "markdown",
   "id": "1ff9baae",
   "metadata": {
    "papermill": {
     "duration": 0.004043,
     "end_time": "2024-03-03T13:15:00.515426",
     "exception": false,
     "start_time": "2024-03-03T13:15:00.511383",
     "status": "completed"
    },
    "tags": []
   },
   "source": [
    "### Importing packages"
   ]
  },
  {
   "cell_type": "code",
   "execution_count": 1,
   "id": "fd8f1d0c",
   "metadata": {
    "execution": {
     "iopub.execute_input": "2024-03-03T13:15:00.524558Z",
     "iopub.status.busy": "2024-03-03T13:15:00.524084Z",
     "iopub.status.idle": "2024-03-03T13:15:03.305014Z",
     "shell.execute_reply": "2024-03-03T13:15:03.303873Z"
    },
    "papermill": {
     "duration": 2.788879,
     "end_time": "2024-03-03T13:15:03.307942",
     "exception": false,
     "start_time": "2024-03-03T13:15:00.519063",
     "status": "completed"
    },
    "tags": []
   },
   "outputs": [],
   "source": [
    "import pandas as pd \n",
    "import numpy as np \n",
    "import seaborn as sns \n",
    "\n",
    "import os\n",
    "from loguru import logger\n",
    "\n",
    "import warnings\n",
    "warnings.filterwarnings('ignore')\n",
    "import gc"
   ]
  },
  {
   "cell_type": "code",
   "execution_count": 2,
   "id": "740486f2",
   "metadata": {
    "execution": {
     "iopub.execute_input": "2024-03-03T13:15:03.317636Z",
     "iopub.status.busy": "2024-03-03T13:15:03.317003Z",
     "iopub.status.idle": "2024-03-03T13:15:03.343856Z",
     "shell.execute_reply": "2024-03-03T13:15:03.342484Z"
    },
    "papermill": {
     "duration": 0.034546,
     "end_time": "2024-03-03T13:15:03.346564",
     "exception": false,
     "start_time": "2024-03-03T13:15:03.312018",
     "status": "completed"
    },
    "tags": []
   },
   "outputs": [
    {
     "name": "stdout",
     "output_type": "stream",
     "text": [
      "/kaggle/input/1-data-ingest/__results__.html\n",
      "/kaggle/input/1-data-ingest/__notebook__.ipynb\n",
      "/kaggle/input/1-data-ingest/__output__.json\n",
      "/kaggle/input/1-data-ingest/custom.css\n",
      "/kaggle/input/1-data-ingest/train/train_tax.parquet\n",
      "/kaggle/input/1-data-ingest/train/train_tax_registry_b.parquet\n",
      "/kaggle/input/1-data-ingest/train/train_tax_registry.parquet\n",
      "/kaggle/input/1-data-ingest/train/train_base.parquet\n",
      "/kaggle/input/1-data-ingest/train/train_static.parquet\n",
      "/kaggle/input/1-data-ingest/train/train_static_cb.parquet\n",
      "/kaggle/input/1-data-ingest/train/train_other.parquet\n",
      "/kaggle/input/1-data-ingest/train/train_applprev.parquet\n"
     ]
    }
   ],
   "source": [
    "for dirname, _, filenames in os.walk('/kaggle/input/1-data-ingest'):\n",
    "    for filename in filenames:\n",
    "        print(os.path.join(dirname, filename))"
   ]
  },
  {
   "cell_type": "markdown",
   "id": "93c701c5",
   "metadata": {
    "papermill": {
     "duration": 0.003716,
     "end_time": "2024-03-03T13:15:03.354037",
     "exception": false,
     "start_time": "2024-03-03T13:15:03.350321",
     "status": "completed"
    },
    "tags": []
   },
   "source": [
    "### Reading datasets"
   ]
  },
  {
   "cell_type": "code",
   "execution_count": 3,
   "id": "782c0c24",
   "metadata": {
    "execution": {
     "iopub.execute_input": "2024-03-03T13:15:03.364374Z",
     "iopub.status.busy": "2024-03-03T13:15:03.363061Z",
     "iopub.status.idle": "2024-03-03T13:15:03.368539Z",
     "shell.execute_reply": "2024-03-03T13:15:03.367379Z"
    },
    "papermill": {
     "duration": 0.013472,
     "end_time": "2024-03-03T13:15:03.371238",
     "exception": false,
     "start_time": "2024-03-03T13:15:03.357766",
     "status": "completed"
    },
    "tags": []
   },
   "outputs": [],
   "source": [
    "path = \"/kaggle/input/1-data-ingest/train/\""
   ]
  },
  {
   "cell_type": "code",
   "execution_count": 4,
   "id": "fa1abf0b",
   "metadata": {
    "execution": {
     "iopub.execute_input": "2024-03-03T13:15:03.381265Z",
     "iopub.status.busy": "2024-03-03T13:15:03.380518Z",
     "iopub.status.idle": "2024-03-03T13:15:14.593658Z",
     "shell.execute_reply": "2024-03-03T13:15:14.592308Z"
    },
    "papermill": {
     "duration": 11.22168,
     "end_time": "2024-03-03T13:15:14.596729",
     "exception": false,
     "start_time": "2024-03-03T13:15:03.375049",
     "status": "completed"
    },
    "tags": []
   },
   "outputs": [],
   "source": [
    "df_base = pd.read_parquet(path+'train_base.parquet')\n",
    "df_static = pd.read_parquet(path+'train_static.parquet')\n",
    "df_static_cb = pd.read_parquet(path+'train_static_cb.parquet')\n",
    "\n",
    "df_tax = pd.read_parquet(path+'train_tax.parquet')\n",
    "df_other = pd.read_parquet(path+'train_other.parquet')\n",
    "df_applprev = pd.read_parquet(path+'train_applprev.parquet')\n",
    "\n",
    "df_tax_reg_a = pd.read_parquet(path+\"train_tax_registry.parquet\")\n",
    "df_tax_reg_b = pd.read_parquet(path+\"train_tax_registry_b.parquet\")"
   ]
  },
  {
   "cell_type": "code",
   "execution_count": null,
   "id": "396fb61f",
   "metadata": {
    "papermill": {
     "duration": 0.003473,
     "end_time": "2024-03-03T13:15:14.604059",
     "exception": false,
     "start_time": "2024-03-03T13:15:14.600586",
     "status": "completed"
    },
    "tags": []
   },
   "outputs": [],
   "source": []
  },
  {
   "cell_type": "code",
   "execution_count": null,
   "id": "09b04aff",
   "metadata": {
    "papermill": {
     "duration": 0.003325,
     "end_time": "2024-03-03T13:15:14.611225",
     "exception": false,
     "start_time": "2024-03-03T13:15:14.607900",
     "status": "completed"
    },
    "tags": []
   },
   "outputs": [],
   "source": []
  }
 ],
 "metadata": {
  "kaggle": {
   "accelerator": "none",
   "dataSources": [
    {
     "databundleVersionId": 7602123,
     "sourceId": 50160,
     "sourceType": "competition"
    },
    {
     "sourceId": 165007360,
     "sourceType": "kernelVersion"
    }
   ],
   "dockerImageVersionId": 30664,
   "isGpuEnabled": false,
   "isInternetEnabled": true,
   "language": "python",
   "sourceType": "notebook"
  },
  "kernelspec": {
   "display_name": "Python 3",
   "language": "python",
   "name": "python3"
  },
  "language_info": {
   "codemirror_mode": {
    "name": "ipython",
    "version": 3
   },
   "file_extension": ".py",
   "mimetype": "text/x-python",
   "name": "python",
   "nbconvert_exporter": "python",
   "pygments_lexer": "ipython3",
   "version": "3.10.13"
  },
  "papermill": {
   "default_parameters": {},
   "duration": 18.240809,
   "end_time": "2024-03-03T13:15:15.537476",
   "environment_variables": {},
   "exception": null,
   "input_path": "__notebook__.ipynb",
   "output_path": "__notebook__.ipynb",
   "parameters": {},
   "start_time": "2024-03-03T13:14:57.296667",
   "version": "2.5.0"
  }
 },
 "nbformat": 4,
 "nbformat_minor": 5
}
