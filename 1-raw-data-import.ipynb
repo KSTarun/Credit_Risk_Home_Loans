{
 "cells": [
  {
   "cell_type": "markdown",
   "id": "a86a8e24",
   "metadata": {
    "papermill": {
     "duration": 0.021682,
     "end_time": "2024-03-03T13:24:43.459021",
     "exception": false,
     "start_time": "2024-03-03T13:24:43.437339",
     "status": "completed"
    },
    "tags": []
   },
   "source": [
    "### Importing Packages"
   ]
  },
  {
   "cell_type": "code",
   "execution_count": 1,
   "id": "3a20d047",
   "metadata": {
    "execution": {
     "iopub.execute_input": "2024-03-03T13:24:43.498109Z",
     "iopub.status.busy": "2024-03-03T13:24:43.497314Z",
     "iopub.status.idle": "2024-03-03T13:24:46.006082Z",
     "shell.execute_reply": "2024-03-03T13:24:46.004348Z"
    },
    "papermill": {
     "duration": 2.532138,
     "end_time": "2024-03-03T13:24:46.009991",
     "exception": false,
     "start_time": "2024-03-03T13:24:43.477853",
     "status": "completed"
    },
    "tags": []
   },
   "outputs": [],
   "source": [
    "import pandas as pd \n",
    "import numpy as np \n",
    "import seaborn as sns \n",
    "\n",
    "import os\n",
    "from loguru import logger\n",
    "\n",
    "import warnings\n",
    "warnings.filterwarnings('ignore')\n",
    "import gc"
   ]
  },
  {
   "cell_type": "code",
   "execution_count": 2,
   "id": "6b9c3b7e",
   "metadata": {
    "execution": {
     "iopub.execute_input": "2024-03-03T13:24:46.059599Z",
     "iopub.status.busy": "2024-03-03T13:24:46.058456Z",
     "iopub.status.idle": "2024-03-03T13:24:47.158600Z",
     "shell.execute_reply": "2024-03-03T13:24:47.156691Z"
    },
    "papermill": {
     "duration": 1.12594,
     "end_time": "2024-03-03T13:24:47.161931",
     "exception": false,
     "start_time": "2024-03-03T13:24:46.035991",
     "status": "completed"
    },
    "tags": []
   },
   "outputs": [],
   "source": [
    "mkdir train"
   ]
  },
  {
   "cell_type": "markdown",
   "id": "dc2415ba",
   "metadata": {
    "papermill": {
     "duration": 0.017925,
     "end_time": "2024-03-03T13:24:47.199605",
     "exception": false,
     "start_time": "2024-03-03T13:24:47.181680",
     "status": "completed"
    },
    "tags": []
   },
   "source": [
    "### Common functions"
   ]
  },
  {
   "cell_type": "code",
   "execution_count": 3,
   "id": "bd136b08",
   "metadata": {
    "execution": {
     "iopub.execute_input": "2024-03-03T13:24:47.238126Z",
     "iopub.status.busy": "2024-03-03T13:24:47.237156Z",
     "iopub.status.idle": "2024-03-03T13:24:47.255154Z",
     "shell.execute_reply": "2024-03-03T13:24:47.254004Z"
    },
    "papermill": {
     "duration": 0.040811,
     "end_time": "2024-03-03T13:24:47.258047",
     "exception": false,
     "start_time": "2024-03-03T13:24:47.217236",
     "status": "completed"
    },
    "tags": []
   },
   "outputs": [],
   "source": [
    "def reduce_mem_usage(df):\n",
    "    \"\"\" iterate through all the columns of a dataframe and modify the data type\n",
    "        to reduce memory usage.        \n",
    "    \"\"\"\n",
    "    start_mem = df.memory_usage().sum() / 1024**2\n",
    "    print('Memory usage of dataframe is {:.2f} MB'.format(start_mem))\n",
    "    \n",
    "    for col in df.columns:\n",
    "        col_type = df[col].dtype\n",
    "#         print(f'{col}:{col_type}')\n",
    "        \n",
    "        if col_type not in [object,'category']:\n",
    "            c_min = df[col].min()\n",
    "            c_max = df[col].max()\n",
    "            if str(col_type)[:3] == 'int':\n",
    "                if c_min > np.iinfo(np.int8).min and c_max < np.iinfo(np.int8).max:\n",
    "                    df[col] = df[col].astype(np.int8)\n",
    "                elif c_min > np.iinfo(np.int16).min and c_max < np.iinfo(np.int16).max:\n",
    "                    df[col] = df[col].astype(np.int16)\n",
    "                elif c_min > np.iinfo(np.int32).min and c_max < np.iinfo(np.int32).max:\n",
    "                    df[col] = df[col].astype(np.int32)\n",
    "                elif c_min > np.iinfo(np.int64).min and c_max < np.iinfo(np.int64).max:\n",
    "                    df[col] = df[col].astype(np.int64)  \n",
    "            else:\n",
    "                if c_min > np.finfo(np.float16).min and c_max < np.finfo(np.float16).max:\n",
    "                    df[col] = df[col].astype(np.float16)\n",
    "                elif c_min > np.finfo(np.float32).min and c_max < np.finfo(np.float32).max:\n",
    "                    df[col] = df[col].astype(np.float32)\n",
    "                else:\n",
    "                    df[col] = df[col].astype(np.float64)\n",
    "        else:\n",
    "            df[col] = df[col].astype('category')\n",
    "\n",
    "    end_mem = df.memory_usage().sum() / 1024**2\n",
    "    print('Memory usage after optimization is: {:.2f} MB'.format(end_mem))\n",
    "    print('Decreased by {:.1f}%'.format(100 * (start_mem - end_mem) / start_mem))\n",
    "    \n",
    "    return df"
   ]
  },
  {
   "cell_type": "markdown",
   "id": "2d26e1c7",
   "metadata": {
    "papermill": {
     "duration": 0.017496,
     "end_time": "2024-03-03T13:24:47.293265",
     "exception": false,
     "start_time": "2024-03-03T13:24:47.275769",
     "status": "completed"
    },
    "tags": []
   },
   "source": [
    "### Importing Data"
   ]
  },
  {
   "cell_type": "markdown",
   "id": "9cc3a1df",
   "metadata": {
    "papermill": {
     "duration": 0.017712,
     "end_time": "2024-03-03T13:24:47.328982",
     "exception": false,
     "start_time": "2024-03-03T13:24:47.311270",
     "status": "completed"
    },
    "tags": []
   },
   "source": [
    "##### Importing train base data"
   ]
  },
  {
   "cell_type": "code",
   "execution_count": 4,
   "id": "1d19787c",
   "metadata": {
    "execution": {
     "iopub.execute_input": "2024-03-03T13:24:47.366371Z",
     "iopub.status.busy": "2024-03-03T13:24:47.365944Z",
     "iopub.status.idle": "2024-03-03T13:24:47.371126Z",
     "shell.execute_reply": "2024-03-03T13:24:47.369835Z"
    },
    "papermill": {
     "duration": 0.027102,
     "end_time": "2024-03-03T13:24:47.373692",
     "exception": false,
     "start_time": "2024-03-03T13:24:47.346590",
     "status": "completed"
    },
    "tags": []
   },
   "outputs": [],
   "source": [
    "input_path = \"/kaggle/input/home-credit-credit-risk-model-stability/csv_files/train/\"\n",
    "output_path = \"/kaggle/working/train/\""
   ]
  },
  {
   "cell_type": "code",
   "execution_count": 5,
   "id": "cad16292",
   "metadata": {
    "execution": {
     "iopub.execute_input": "2024-03-03T13:24:47.411274Z",
     "iopub.status.busy": "2024-03-03T13:24:47.410603Z",
     "iopub.status.idle": "2024-03-03T13:24:47.477077Z",
     "shell.execute_reply": "2024-03-03T13:24:47.475265Z"
    },
    "papermill": {
     "duration": 0.090375,
     "end_time": "2024-03-03T13:24:47.481601",
     "exception": false,
     "start_time": "2024-03-03T13:24:47.391226",
     "status": "completed"
    },
    "tags": []
   },
   "outputs": [
    {
     "name": "stderr",
     "output_type": "stream",
     "text": [
      "\u001b[32m2024-03-03 13:24:47.428\u001b[0m | \u001b[1mINFO    \u001b[0m | \u001b[36m__main__\u001b[0m:\u001b[36m<module>\u001b[0m:\u001b[36m3\u001b[0m - \u001b[1mFilename is:train_credit_bureau_a_1_3.csv\u001b[0m\n",
      "\u001b[32m2024-03-03 13:24:47.430\u001b[0m | \u001b[1mINFO    \u001b[0m | \u001b[36m__main__\u001b[0m:\u001b[36m<module>\u001b[0m:\u001b[36m3\u001b[0m - \u001b[1mFilename is:train_static_cb_0.csv\u001b[0m\n",
      "\u001b[32m2024-03-03 13:24:47.432\u001b[0m | \u001b[1mINFO    \u001b[0m | \u001b[36m__main__\u001b[0m:\u001b[36m<module>\u001b[0m:\u001b[36m3\u001b[0m - \u001b[1mFilename is:train_applprev_1_0.csv\u001b[0m\n",
      "\u001b[32m2024-03-03 13:24:47.433\u001b[0m | \u001b[1mINFO    \u001b[0m | \u001b[36m__main__\u001b[0m:\u001b[36m<module>\u001b[0m:\u001b[36m3\u001b[0m - \u001b[1mFilename is:train_person_2.csv\u001b[0m\n",
      "\u001b[32m2024-03-03 13:24:47.434\u001b[0m | \u001b[1mINFO    \u001b[0m | \u001b[36m__main__\u001b[0m:\u001b[36m<module>\u001b[0m:\u001b[36m3\u001b[0m - \u001b[1mFilename is:train_base.csv\u001b[0m\n",
      "\u001b[32m2024-03-03 13:24:47.436\u001b[0m | \u001b[1mINFO    \u001b[0m | \u001b[36m__main__\u001b[0m:\u001b[36m<module>\u001b[0m:\u001b[36m3\u001b[0m - \u001b[1mFilename is:train_tax_registry_a_1.csv\u001b[0m\n",
      "\u001b[32m2024-03-03 13:24:47.437\u001b[0m | \u001b[1mINFO    \u001b[0m | \u001b[36m__main__\u001b[0m:\u001b[36m<module>\u001b[0m:\u001b[36m3\u001b[0m - \u001b[1mFilename is:train_static_0_0.csv\u001b[0m\n",
      "\u001b[32m2024-03-03 13:24:47.438\u001b[0m | \u001b[1mINFO    \u001b[0m | \u001b[36m__main__\u001b[0m:\u001b[36m<module>\u001b[0m:\u001b[36m3\u001b[0m - \u001b[1mFilename is:train_credit_bureau_a_1_0.csv\u001b[0m\n",
      "\u001b[32m2024-03-03 13:24:47.439\u001b[0m | \u001b[1mINFO    \u001b[0m | \u001b[36m__main__\u001b[0m:\u001b[36m<module>\u001b[0m:\u001b[36m3\u001b[0m - \u001b[1mFilename is:train_applprev_2.csv\u001b[0m\n",
      "\u001b[32m2024-03-03 13:24:47.440\u001b[0m | \u001b[1mINFO    \u001b[0m | \u001b[36m__main__\u001b[0m:\u001b[36m<module>\u001b[0m:\u001b[36m3\u001b[0m - \u001b[1mFilename is:train_credit_bureau_a_2_6.csv\u001b[0m\n",
      "\u001b[32m2024-03-03 13:24:47.441\u001b[0m | \u001b[1mINFO    \u001b[0m | \u001b[36m__main__\u001b[0m:\u001b[36m<module>\u001b[0m:\u001b[36m3\u001b[0m - \u001b[1mFilename is:train_credit_bureau_a_1_2.csv\u001b[0m\n",
      "\u001b[32m2024-03-03 13:24:47.442\u001b[0m | \u001b[1mINFO    \u001b[0m | \u001b[36m__main__\u001b[0m:\u001b[36m<module>\u001b[0m:\u001b[36m3\u001b[0m - \u001b[1mFilename is:train_person_1.csv\u001b[0m\n",
      "\u001b[32m2024-03-03 13:24:47.444\u001b[0m | \u001b[1mINFO    \u001b[0m | \u001b[36m__main__\u001b[0m:\u001b[36m<module>\u001b[0m:\u001b[36m3\u001b[0m - \u001b[1mFilename is:train_credit_bureau_a_1_1.csv\u001b[0m\n",
      "\u001b[32m2024-03-03 13:24:47.447\u001b[0m | \u001b[1mINFO    \u001b[0m | \u001b[36m__main__\u001b[0m:\u001b[36m<module>\u001b[0m:\u001b[36m3\u001b[0m - \u001b[1mFilename is:train_tax_registry_c_1.csv\u001b[0m\n",
      "\u001b[32m2024-03-03 13:24:47.448\u001b[0m | \u001b[1mINFO    \u001b[0m | \u001b[36m__main__\u001b[0m:\u001b[36m<module>\u001b[0m:\u001b[36m3\u001b[0m - \u001b[1mFilename is:train_credit_bureau_a_2_4.csv\u001b[0m\n",
      "\u001b[32m2024-03-03 13:24:47.449\u001b[0m | \u001b[1mINFO    \u001b[0m | \u001b[36m__main__\u001b[0m:\u001b[36m<module>\u001b[0m:\u001b[36m3\u001b[0m - \u001b[1mFilename is:train_credit_bureau_a_2_9.csv\u001b[0m\n",
      "\u001b[32m2024-03-03 13:24:47.451\u001b[0m | \u001b[1mINFO    \u001b[0m | \u001b[36m__main__\u001b[0m:\u001b[36m<module>\u001b[0m:\u001b[36m3\u001b[0m - \u001b[1mFilename is:train_credit_bureau_a_2_3.csv\u001b[0m\n",
      "\u001b[32m2024-03-03 13:24:47.452\u001b[0m | \u001b[1mINFO    \u001b[0m | \u001b[36m__main__\u001b[0m:\u001b[36m<module>\u001b[0m:\u001b[36m3\u001b[0m - \u001b[1mFilename is:train_credit_bureau_a_2_7.csv\u001b[0m\n",
      "\u001b[32m2024-03-03 13:24:47.453\u001b[0m | \u001b[1mINFO    \u001b[0m | \u001b[36m__main__\u001b[0m:\u001b[36m<module>\u001b[0m:\u001b[36m3\u001b[0m - \u001b[1mFilename is:train_credit_bureau_b_2.csv\u001b[0m\n",
      "\u001b[32m2024-03-03 13:24:47.455\u001b[0m | \u001b[1mINFO    \u001b[0m | \u001b[36m__main__\u001b[0m:\u001b[36m<module>\u001b[0m:\u001b[36m3\u001b[0m - \u001b[1mFilename is:train_credit_bureau_a_2_2.csv\u001b[0m\n",
      "\u001b[32m2024-03-03 13:24:47.457\u001b[0m | \u001b[1mINFO    \u001b[0m | \u001b[36m__main__\u001b[0m:\u001b[36m<module>\u001b[0m:\u001b[36m3\u001b[0m - \u001b[1mFilename is:train_static_0_1.csv\u001b[0m\n",
      "\u001b[32m2024-03-03 13:24:47.458\u001b[0m | \u001b[1mINFO    \u001b[0m | \u001b[36m__main__\u001b[0m:\u001b[36m<module>\u001b[0m:\u001b[36m3\u001b[0m - \u001b[1mFilename is:train_deposit_1.csv\u001b[0m\n",
      "\u001b[32m2024-03-03 13:24:47.459\u001b[0m | \u001b[1mINFO    \u001b[0m | \u001b[36m__main__\u001b[0m:\u001b[36m<module>\u001b[0m:\u001b[36m3\u001b[0m - \u001b[1mFilename is:train_credit_bureau_a_2_10.csv\u001b[0m\n",
      "\u001b[32m2024-03-03 13:24:47.461\u001b[0m | \u001b[1mINFO    \u001b[0m | \u001b[36m__main__\u001b[0m:\u001b[36m<module>\u001b[0m:\u001b[36m3\u001b[0m - \u001b[1mFilename is:train_tax_registry_b_1.csv\u001b[0m\n",
      "\u001b[32m2024-03-03 13:24:47.462\u001b[0m | \u001b[1mINFO    \u001b[0m | \u001b[36m__main__\u001b[0m:\u001b[36m<module>\u001b[0m:\u001b[36m3\u001b[0m - \u001b[1mFilename is:train_applprev_1_1.csv\u001b[0m\n",
      "\u001b[32m2024-03-03 13:24:47.463\u001b[0m | \u001b[1mINFO    \u001b[0m | \u001b[36m__main__\u001b[0m:\u001b[36m<module>\u001b[0m:\u001b[36m3\u001b[0m - \u001b[1mFilename is:train_credit_bureau_a_2_1.csv\u001b[0m\n",
      "\u001b[32m2024-03-03 13:24:47.464\u001b[0m | \u001b[1mINFO    \u001b[0m | \u001b[36m__main__\u001b[0m:\u001b[36m<module>\u001b[0m:\u001b[36m3\u001b[0m - \u001b[1mFilename is:train_credit_bureau_a_2_8.csv\u001b[0m\n",
      "\u001b[32m2024-03-03 13:24:47.465\u001b[0m | \u001b[1mINFO    \u001b[0m | \u001b[36m__main__\u001b[0m:\u001b[36m<module>\u001b[0m:\u001b[36m3\u001b[0m - \u001b[1mFilename is:train_credit_bureau_a_2_5.csv\u001b[0m\n",
      "\u001b[32m2024-03-03 13:24:47.466\u001b[0m | \u001b[1mINFO    \u001b[0m | \u001b[36m__main__\u001b[0m:\u001b[36m<module>\u001b[0m:\u001b[36m3\u001b[0m - \u001b[1mFilename is:train_credit_bureau_b_1.csv\u001b[0m\n",
      "\u001b[32m2024-03-03 13:24:47.468\u001b[0m | \u001b[1mINFO    \u001b[0m | \u001b[36m__main__\u001b[0m:\u001b[36m<module>\u001b[0m:\u001b[36m3\u001b[0m - \u001b[1mFilename is:train_credit_bureau_a_2_0.csv\u001b[0m\n",
      "\u001b[32m2024-03-03 13:24:47.469\u001b[0m | \u001b[1mINFO    \u001b[0m | \u001b[36m__main__\u001b[0m:\u001b[36m<module>\u001b[0m:\u001b[36m3\u001b[0m - \u001b[1mFilename is:train_other_1.csv\u001b[0m\n",
      "\u001b[32m2024-03-03 13:24:47.470\u001b[0m | \u001b[1mINFO    \u001b[0m | \u001b[36m__main__\u001b[0m:\u001b[36m<module>\u001b[0m:\u001b[36m3\u001b[0m - \u001b[1mFilename is:train_debitcard_1.csv\u001b[0m\n"
     ]
    }
   ],
   "source": [
    "for dirname, _, filenames in os.walk('/kaggle/input/home-credit-credit-risk-model-stability/csv_files/train/'):\n",
    "    for filename in filenames:\n",
    "        logger.info(f\"Filename is:{filename}\")"
   ]
  },
  {
   "cell_type": "markdown",
   "id": "6e4b533e",
   "metadata": {
    "papermill": {
     "duration": 0.020902,
     "end_time": "2024-03-03T13:24:47.522955",
     "exception": false,
     "start_time": "2024-03-03T13:24:47.502053",
     "status": "completed"
    },
    "tags": []
   },
   "source": [
    "## Base data"
   ]
  },
  {
   "cell_type": "code",
   "execution_count": 6,
   "id": "6c22ec0e",
   "metadata": {
    "execution": {
     "iopub.execute_input": "2024-03-03T13:24:47.567298Z",
     "iopub.status.busy": "2024-03-03T13:24:47.566779Z",
     "iopub.status.idle": "2024-03-03T13:24:48.929480Z",
     "shell.execute_reply": "2024-03-03T13:24:48.928299Z"
    },
    "papermill": {
     "duration": 1.389357,
     "end_time": "2024-03-03T13:24:48.933356",
     "exception": false,
     "start_time": "2024-03-03T13:24:47.543999",
     "status": "completed"
    },
    "tags": []
   },
   "outputs": [],
   "source": [
    "df_base = pd.read_csv(\"/kaggle/input/home-credit-credit-risk-model-stability/csv_files/train/train_base.csv\")"
   ]
  },
  {
   "cell_type": "code",
   "execution_count": 7,
   "id": "ccfdd582",
   "metadata": {
    "execution": {
     "iopub.execute_input": "2024-03-03T13:24:48.995681Z",
     "iopub.status.busy": "2024-03-03T13:24:48.995231Z",
     "iopub.status.idle": "2024-03-03T13:24:49.212576Z",
     "shell.execute_reply": "2024-03-03T13:24:49.211429Z"
    },
    "papermill": {
     "duration": 0.249553,
     "end_time": "2024-03-03T13:24:49.215131",
     "exception": false,
     "start_time": "2024-03-03T13:24:48.965578",
     "status": "completed"
    },
    "tags": []
   },
   "outputs": [
    {
     "name": "stdout",
     "output_type": "stream",
     "text": [
      "<class 'pandas.core.frame.DataFrame'>\n",
      "RangeIndex: 1526659 entries, 0 to 1526658\n",
      "Data columns (total 5 columns):\n",
      " #   Column         Non-Null Count    Dtype \n",
      "---  ------         --------------    ----- \n",
      " 0   case_id        1526659 non-null  int64 \n",
      " 1   date_decision  1526659 non-null  object\n",
      " 2   MONTH          1526659 non-null  int64 \n",
      " 3   WEEK_NUM       1526659 non-null  int64 \n",
      " 4   target         1526659 non-null  int64 \n",
      "dtypes: int64(4), object(1)\n",
      "memory usage: 58.2+ MB\n"
     ]
    }
   ],
   "source": [
    "df_base.info()"
   ]
  },
  {
   "cell_type": "code",
   "execution_count": 8,
   "id": "fe16c029",
   "metadata": {
    "execution": {
     "iopub.execute_input": "2024-03-03T13:24:49.261691Z",
     "iopub.status.busy": "2024-03-03T13:24:49.260426Z",
     "iopub.status.idle": "2024-03-03T13:24:49.333535Z",
     "shell.execute_reply": "2024-03-03T13:24:49.332391Z"
    },
    "papermill": {
     "duration": 0.100228,
     "end_time": "2024-03-03T13:24:49.336022",
     "exception": false,
     "start_time": "2024-03-03T13:24:49.235794",
     "status": "completed"
    },
    "tags": []
   },
   "outputs": [
    {
     "name": "stderr",
     "output_type": "stream",
     "text": [
      "\u001b[32m2024-03-03 13:24:49.329\u001b[0m | \u001b[1mINFO    \u001b[0m | \u001b[36m__main__\u001b[0m:\u001b[36m<module>\u001b[0m:\u001b[36m1\u001b[0m - \u001b[1mNumber of unique records: 1526659\u001b[0m\n"
     ]
    }
   ],
   "source": [
    "logger.info(f\"Number of unique records: {df_base['case_id'].nunique()}\")"
   ]
  },
  {
   "cell_type": "code",
   "execution_count": 9,
   "id": "cbbada4d",
   "metadata": {
    "execution": {
     "iopub.execute_input": "2024-03-03T13:24:49.379876Z",
     "iopub.status.busy": "2024-03-03T13:24:49.379438Z",
     "iopub.status.idle": "2024-03-03T13:24:49.588307Z",
     "shell.execute_reply": "2024-03-03T13:24:49.586875Z"
    },
    "papermill": {
     "duration": 0.234019,
     "end_time": "2024-03-03T13:24:49.590969",
     "exception": false,
     "start_time": "2024-03-03T13:24:49.356950",
     "status": "completed"
    },
    "tags": []
   },
   "outputs": [
    {
     "name": "stdout",
     "output_type": "stream",
     "text": [
      "Memory usage of dataframe is 58.24 MB\n",
      "Memory usage after optimization is: 17.49 MB\n",
      "Decreased by 70.0%\n"
     ]
    }
   ],
   "source": [
    "df_base = reduce_mem_usage(df_base)"
   ]
  },
  {
   "cell_type": "markdown",
   "id": "9079fb83",
   "metadata": {
    "papermill": {
     "duration": 0.020873,
     "end_time": "2024-03-03T13:24:49.632941",
     "exception": false,
     "start_time": "2024-03-03T13:24:49.612068",
     "status": "completed"
    },
    "tags": []
   },
   "source": [
    "### Datasets with depth 0 "
   ]
  },
  {
   "cell_type": "markdown",
   "id": "70e79afe",
   "metadata": {
    "papermill": {
     "duration": 0.020813,
     "end_time": "2024-03-03T13:24:49.675432",
     "exception": false,
     "start_time": "2024-03-03T13:24:49.654619",
     "status": "completed"
    },
    "tags": []
   },
   "source": [
    "#### Static data"
   ]
  },
  {
   "cell_type": "code",
   "execution_count": 10,
   "id": "07341051",
   "metadata": {
    "execution": {
     "iopub.execute_input": "2024-03-03T13:24:49.720150Z",
     "iopub.status.busy": "2024-03-03T13:24:49.719145Z",
     "iopub.status.idle": "2024-03-03T13:25:43.715040Z",
     "shell.execute_reply": "2024-03-03T13:25:43.713877Z"
    },
    "papermill": {
     "duration": 54.021758,
     "end_time": "2024-03-03T13:25:43.718212",
     "exception": false,
     "start_time": "2024-03-03T13:24:49.696454",
     "status": "completed"
    },
    "tags": []
   },
   "outputs": [],
   "source": [
    "df_static_0 = pd.read_csv(\"/kaggle/input/home-credit-credit-risk-model-stability/csv_files/train/train_static_0_0.csv\")\n",
    "df_static_1 = pd.read_csv(\"/kaggle/input/home-credit-credit-risk-model-stability/csv_files/train/train_static_0_1.csv\")"
   ]
  },
  {
   "cell_type": "code",
   "execution_count": 11,
   "id": "8321a695",
   "metadata": {
    "execution": {
     "iopub.execute_input": "2024-03-03T13:25:43.764715Z",
     "iopub.status.busy": "2024-03-03T13:25:43.763368Z",
     "iopub.status.idle": "2024-03-03T13:25:57.062913Z",
     "shell.execute_reply": "2024-03-03T13:25:57.061083Z"
    },
    "papermill": {
     "duration": 13.325717,
     "end_time": "2024-03-03T13:25:57.065953",
     "exception": false,
     "start_time": "2024-03-03T13:25:43.740236",
     "status": "completed"
    },
    "tags": []
   },
   "outputs": [
    {
     "name": "stdout",
     "output_type": "stream",
     "text": [
      "Memory usage of dataframe is 1279.85 MB\n",
      "Memory usage after optimization is: 361.68 MB\n",
      "Decreased by 71.7%\n",
      "Memory usage of dataframe is 666.73 MB\n",
      "Memory usage after optimization is: 190.29 MB\n",
      "Decreased by 71.5%\n"
     ]
    }
   ],
   "source": [
    "df_static_0 = reduce_mem_usage(df_static_0)\n",
    "df_static_1 = reduce_mem_usage(df_static_1)"
   ]
  },
  {
   "cell_type": "code",
   "execution_count": 12,
   "id": "5316d184",
   "metadata": {
    "execution": {
     "iopub.execute_input": "2024-03-03T13:25:57.114141Z",
     "iopub.status.busy": "2024-03-03T13:25:57.113225Z",
     "iopub.status.idle": "2024-03-03T13:25:57.165023Z",
     "shell.execute_reply": "2024-03-03T13:25:57.163302Z"
    },
    "papermill": {
     "duration": 0.079985,
     "end_time": "2024-03-03T13:25:57.167787",
     "exception": false,
     "start_time": "2024-03-03T13:25:57.087802",
     "status": "completed"
    },
    "tags": []
   },
   "outputs": [
    {
     "name": "stderr",
     "output_type": "stream",
     "text": [
      "\u001b[32m2024-03-03 13:25:57.143\u001b[0m | \u001b[1mINFO    \u001b[0m | \u001b[36m__main__\u001b[0m:\u001b[36m<module>\u001b[0m:\u001b[36m1\u001b[0m - \u001b[1mNumber of unique records in 0: 1003757\u001b[0m\n",
      "\u001b[32m2024-03-03 13:25:57.159\u001b[0m | \u001b[1mINFO    \u001b[0m | \u001b[36m__main__\u001b[0m:\u001b[36m<module>\u001b[0m:\u001b[36m2\u001b[0m - \u001b[1mNumber of unique records in 1: 522902\u001b[0m\n"
     ]
    }
   ],
   "source": [
    "logger.info(f\"Number of unique records in 0: {df_static_0['case_id'].nunique()}\")\n",
    "logger.info(f\"Number of unique records in 1: {df_static_1['case_id'].nunique()}\")"
   ]
  },
  {
   "cell_type": "code",
   "execution_count": 13,
   "id": "081fd0a3",
   "metadata": {
    "execution": {
     "iopub.execute_input": "2024-03-03T13:25:57.213520Z",
     "iopub.status.busy": "2024-03-03T13:25:57.213059Z",
     "iopub.status.idle": "2024-03-03T13:25:58.204979Z",
     "shell.execute_reply": "2024-03-03T13:25:58.203810Z"
    },
    "papermill": {
     "duration": 1.018396,
     "end_time": "2024-03-03T13:25:58.208179",
     "exception": false,
     "start_time": "2024-03-03T13:25:57.189783",
     "status": "completed"
    },
    "tags": []
   },
   "outputs": [],
   "source": [
    "## Combining the datasets\n",
    "df_static = pd.concat([df_static_0,df_static_1],ignore_index=True)"
   ]
  },
  {
   "cell_type": "code",
   "execution_count": 14,
   "id": "46b2235f",
   "metadata": {
    "execution": {
     "iopub.execute_input": "2024-03-03T13:25:58.254259Z",
     "iopub.status.busy": "2024-03-03T13:25:58.253810Z",
     "iopub.status.idle": "2024-03-03T13:26:07.555210Z",
     "shell.execute_reply": "2024-03-03T13:26:07.553972Z"
    },
    "papermill": {
     "duration": 9.327682,
     "end_time": "2024-03-03T13:26:07.557983",
     "exception": false,
     "start_time": "2024-03-03T13:25:58.230301",
     "status": "completed"
    },
    "tags": []
   },
   "outputs": [
    {
     "name": "stdout",
     "output_type": "stream",
     "text": [
      "Memory usage of dataframe is 768.74 MB\n",
      "Memory usage after optimization is: 552.16 MB\n",
      "Decreased by 28.2%\n"
     ]
    }
   ],
   "source": [
    "df_static = reduce_mem_usage(df_static)"
   ]
  },
  {
   "cell_type": "code",
   "execution_count": 15,
   "id": "63ad7f83",
   "metadata": {
    "execution": {
     "iopub.execute_input": "2024-03-03T13:26:07.695036Z",
     "iopub.status.busy": "2024-03-03T13:26:07.694597Z",
     "iopub.status.idle": "2024-03-03T13:26:07.743072Z",
     "shell.execute_reply": "2024-03-03T13:26:07.741413Z"
    },
    "papermill": {
     "duration": 0.165611,
     "end_time": "2024-03-03T13:26:07.745753",
     "exception": false,
     "start_time": "2024-03-03T13:26:07.580142",
     "status": "completed"
    },
    "tags": []
   },
   "outputs": [
    {
     "name": "stderr",
     "output_type": "stream",
     "text": [
      "\u001b[32m2024-03-03 13:26:07.737\u001b[0m | \u001b[1mINFO    \u001b[0m | \u001b[36m__main__\u001b[0m:\u001b[36m<module>\u001b[0m:\u001b[36m1\u001b[0m - \u001b[1mTotal records in static dataset: 1526659\u001b[0m\n"
     ]
    }
   ],
   "source": [
    "logger.info(f\"Total records in static dataset: {df_static['case_id'].nunique()}\")"
   ]
  },
  {
   "cell_type": "markdown",
   "id": "c6abbc55",
   "metadata": {
    "papermill": {
     "duration": 0.021537,
     "end_time": "2024-03-03T13:26:07.789045",
     "exception": false,
     "start_time": "2024-03-03T13:26:07.767508",
     "status": "completed"
    },
    "tags": []
   },
   "source": [
    "#### Static CB"
   ]
  },
  {
   "cell_type": "code",
   "execution_count": 16,
   "id": "6d6f8f5a",
   "metadata": {
    "execution": {
     "iopub.execute_input": "2024-03-03T13:26:07.834355Z",
     "iopub.status.busy": "2024-03-03T13:26:07.833944Z",
     "iopub.status.idle": "2024-03-03T13:26:19.708044Z",
     "shell.execute_reply": "2024-03-03T13:26:19.706716Z"
    },
    "papermill": {
     "duration": 11.901305,
     "end_time": "2024-03-03T13:26:19.711949",
     "exception": false,
     "start_time": "2024-03-03T13:26:07.810644",
     "status": "completed"
    },
    "tags": []
   },
   "outputs": [],
   "source": [
    "df_static_cb = pd.read_csv(\"/kaggle/input/home-credit-credit-risk-model-stability/csv_files/train/train_static_cb_0.csv\")"
   ]
  },
  {
   "cell_type": "code",
   "execution_count": 17,
   "id": "53132385",
   "metadata": {
    "execution": {
     "iopub.execute_input": "2024-03-03T13:26:19.768029Z",
     "iopub.status.busy": "2024-03-03T13:26:19.767506Z",
     "iopub.status.idle": "2024-03-03T13:26:19.834135Z",
     "shell.execute_reply": "2024-03-03T13:26:19.832514Z"
    },
    "papermill": {
     "duration": 0.097835,
     "end_time": "2024-03-03T13:26:19.837929",
     "exception": false,
     "start_time": "2024-03-03T13:26:19.740094",
     "status": "completed"
    },
    "tags": []
   },
   "outputs": [
    {
     "name": "stderr",
     "output_type": "stream",
     "text": [
      "\u001b[32m2024-03-03 13:26:19.829\u001b[0m | \u001b[1mINFO    \u001b[0m | \u001b[36m__main__\u001b[0m:\u001b[36m<module>\u001b[0m:\u001b[36m1\u001b[0m - \u001b[1mNumber of unique records in 0: 1500476\u001b[0m\n"
     ]
    }
   ],
   "source": [
    "logger.info(f\"Number of unique records in 0: {df_static_cb['case_id'].nunique()}\")"
   ]
  },
  {
   "cell_type": "code",
   "execution_count": 18,
   "id": "d68f2453",
   "metadata": {
    "execution": {
     "iopub.execute_input": "2024-03-03T13:26:19.894809Z",
     "iopub.status.busy": "2024-03-03T13:26:19.893760Z",
     "iopub.status.idle": "2024-03-03T13:26:24.613611Z",
     "shell.execute_reply": "2024-03-03T13:26:24.612464Z"
    },
    "papermill": {
     "duration": 4.747873,
     "end_time": "2024-03-03T13:26:24.617148",
     "exception": false,
     "start_time": "2024-03-03T13:26:19.869275",
     "status": "completed"
    },
    "tags": []
   },
   "outputs": [
    {
     "name": "stdout",
     "output_type": "stream",
     "text": [
      "Memory usage of dataframe is 606.73 MB\n",
      "Memory usage after optimization is: 159.58 MB\n",
      "Decreased by 73.7%\n",
      "<class 'pandas.core.frame.DataFrame'>\n",
      "RangeIndex: 1500476 entries, 0 to 1500475\n",
      "Data columns (total 53 columns):\n",
      " #   Column                   Non-Null Count    Dtype   \n",
      "---  ------                   --------------    -----   \n",
      " 0   case_id                  1500476 non-null  int32   \n",
      " 1   assignmentdate_238D      136996 non-null   category\n",
      " 2   assignmentdate_4527235D  114978 non-null   category\n",
      " 3   assignmentdate_4955616D  71633 non-null    category\n",
      " 4   birthdate_574D           607871 non-null   category\n",
      " 5   contractssum_5085716L    157329 non-null   float32 \n",
      " 6   dateofbirth_337D         1385691 non-null  category\n",
      " 7   dateofbirth_342D         36500 non-null    category\n",
      " 8   days120_123L             1385691 non-null  float16 \n",
      " 9   days180_256L             1385691 non-null  float16 \n",
      " 10  days30_165L              1385691 non-null  float16 \n",
      " 11  days360_512L             1385691 non-null  float16 \n",
      " 12  days90_310L              1385691 non-null  float16 \n",
      " 13  description_5085714M     1500476 non-null  category\n",
      " 14  education_1103M          1500476 non-null  category\n",
      " 15  education_88M            1500476 non-null  category\n",
      " 16  firstquarter_103L        1385691 non-null  float16 \n",
      " 17  for3years_128L           36514 non-null    float16 \n",
      " 18  for3years_504L           36514 non-null    float16 \n",
      " 19  for3years_584L           36514 non-null    float16 \n",
      " 20  formonth_118L            36514 non-null    float16 \n",
      " 21  formonth_206L            36514 non-null    float16 \n",
      " 22  formonth_535L            36514 non-null    float16 \n",
      " 23  forquarter_1017L         36514 non-null    float16 \n",
      " 24  forquarter_462L          36514 non-null    float16 \n",
      " 25  forquarter_634L          36514 non-null    float16 \n",
      " 26  fortoday_1092L           36514 non-null    float16 \n",
      " 27  forweek_1077L            36514 non-null    float16 \n",
      " 28  forweek_528L             36514 non-null    float16 \n",
      " 29  forweek_601L             36514 non-null    float16 \n",
      " 30  foryear_618L             36514 non-null    float16 \n",
      " 31  foryear_818L             36514 non-null    float16 \n",
      " 32  foryear_850L             36514 non-null    float16 \n",
      " 33  fourthquarter_440L       1385691 non-null  float16 \n",
      " 34  maritalst_385M           1500476 non-null  category\n",
      " 35  maritalst_893M           1500476 non-null  category\n",
      " 36  numberofqueries_373L     1385691 non-null  float16 \n",
      " 37  pmtaverage_3A            143589 non-null   float32 \n",
      " 38  pmtaverage_4527227A      114978 non-null   float32 \n",
      " 39  pmtaverage_4955615A      71845 non-null    float32 \n",
      " 40  pmtcount_4527229L        114978 non-null   float16 \n",
      " 41  pmtcount_4955617L        71845 non-null    float16 \n",
      " 42  pmtcount_693L            146406 non-null   float16 \n",
      " 43  pmtscount_423L           572638 non-null   float16 \n",
      " 44  pmtssum_45A              572638 non-null   float32 \n",
      " 45  requesttype_4525192L     673264 non-null   category\n",
      " 46  responsedate_1012D       720000 non-null   category\n",
      " 47  responsedate_4527233D    660327 non-null   category\n",
      " 48  responsedate_4917613D    224912 non-null   category\n",
      " 49  riskassesment_302T       53559 non-null    category\n",
      " 50  riskassesment_940T       53560 non-null    float16 \n",
      " 51  secondquarter_766L       1385691 non-null  float16 \n",
      " 52  thirdquarter_1082L       1385691 non-null  float16 \n",
      "dtypes: category(16), float16(31), float32(5), int32(1)\n",
      "memory usage: 159.6 MB\n"
     ]
    }
   ],
   "source": [
    "df_static_cb = reduce_mem_usage(df_static_cb)\n",
    "df_static_cb.info()"
   ]
  },
  {
   "cell_type": "code",
   "execution_count": 19,
   "id": "e5d44d5b",
   "metadata": {
    "execution": {
     "iopub.execute_input": "2024-03-03T13:26:24.663636Z",
     "iopub.status.busy": "2024-03-03T13:26:24.663174Z",
     "iopub.status.idle": "2024-03-03T13:26:24.791306Z",
     "shell.execute_reply": "2024-03-03T13:26:24.790187Z"
    },
    "papermill": {
     "duration": 0.15426,
     "end_time": "2024-03-03T13:26:24.793742",
     "exception": false,
     "start_time": "2024-03-03T13:26:24.639482",
     "status": "completed"
    },
    "tags": []
   },
   "outputs": [
    {
     "data": {
      "text/plain": [
       "0"
      ]
     },
     "execution_count": 19,
     "metadata": {},
     "output_type": "execute_result"
    }
   ],
   "source": [
    "gc.collect()"
   ]
  },
  {
   "cell_type": "markdown",
   "id": "5e297188",
   "metadata": {
    "execution": {
     "iopub.execute_input": "2024-02-28T16:35:42.588424Z",
     "iopub.status.busy": "2024-02-28T16:35:42.588056Z",
     "iopub.status.idle": "2024-02-28T16:35:42.595557Z",
     "shell.execute_reply": "2024-02-28T16:35:42.594270Z",
     "shell.execute_reply.started": "2024-02-28T16:35:42.588398Z"
    },
    "papermill": {
     "duration": 0.02217,
     "end_time": "2024-03-03T13:26:24.839091",
     "exception": false,
     "start_time": "2024-03-03T13:26:24.816921",
     "status": "completed"
    },
    "tags": []
   },
   "source": [
    "##### Saving the new files "
   ]
  },
  {
   "cell_type": "code",
   "execution_count": 20,
   "id": "f426f3cd",
   "metadata": {
    "execution": {
     "iopub.execute_input": "2024-03-03T13:26:24.886431Z",
     "iopub.status.busy": "2024-03-03T13:26:24.885703Z",
     "iopub.status.idle": "2024-03-03T13:26:26.053072Z",
     "shell.execute_reply": "2024-03-03T13:26:26.051386Z"
    },
    "papermill": {
     "duration": 1.19458,
     "end_time": "2024-03-03T13:26:26.056386",
     "exception": false,
     "start_time": "2024-03-03T13:26:24.861806",
     "status": "completed"
    },
    "tags": []
   },
   "outputs": [
    {
     "name": "stdout",
     "output_type": "stream",
     "text": [
      "/kaggle/working\r\n"
     ]
    }
   ],
   "source": [
    "!pwd"
   ]
  },
  {
   "cell_type": "code",
   "execution_count": 21,
   "id": "dc0e14fb",
   "metadata": {
    "execution": {
     "iopub.execute_input": "2024-03-03T13:26:26.105513Z",
     "iopub.status.busy": "2024-03-03T13:26:26.104940Z",
     "iopub.status.idle": "2024-03-03T13:26:27.238162Z",
     "shell.execute_reply": "2024-03-03T13:26:27.235335Z"
    },
    "papermill": {
     "duration": 1.162526,
     "end_time": "2024-03-03T13:26:27.241882",
     "exception": false,
     "start_time": "2024-03-03T13:26:26.079356",
     "status": "completed"
    },
    "tags": []
   },
   "outputs": [
    {
     "name": "stdout",
     "output_type": "stream",
     "text": [
      "mkdir: cannot create directory 'train': File exists\r\n"
     ]
    }
   ],
   "source": [
    "mkdir train"
   ]
  },
  {
   "cell_type": "code",
   "execution_count": 22,
   "id": "b3d460e3",
   "metadata": {
    "execution": {
     "iopub.execute_input": "2024-03-03T13:26:27.291906Z",
     "iopub.status.busy": "2024-03-03T13:26:27.290302Z",
     "iopub.status.idle": "2024-03-03T13:26:45.404708Z",
     "shell.execute_reply": "2024-03-03T13:26:45.403708Z"
    },
    "papermill": {
     "duration": 18.142387,
     "end_time": "2024-03-03T13:26:45.407811",
     "exception": false,
     "start_time": "2024-03-03T13:26:27.265424",
     "status": "completed"
    },
    "tags": []
   },
   "outputs": [],
   "source": [
    "df_base.to_parquet('train/train_base.parquet')\n",
    "df_static.to_parquet('train/train_static.parquet')\n",
    "df_static_cb.to_parquet('train/train_static_cb.parquet')"
   ]
  },
  {
   "cell_type": "code",
   "execution_count": null,
   "id": "066ba30c",
   "metadata": {
    "papermill": {
     "duration": 0.021649,
     "end_time": "2024-03-03T13:26:45.452174",
     "exception": false,
     "start_time": "2024-03-03T13:26:45.430525",
     "status": "completed"
    },
    "tags": []
   },
   "outputs": [],
   "source": []
  },
  {
   "cell_type": "markdown",
   "id": "3d80358d",
   "metadata": {
    "papermill": {
     "duration": 0.021557,
     "end_time": "2024-03-03T13:26:45.496218",
     "exception": false,
     "start_time": "2024-03-03T13:26:45.474661",
     "status": "completed"
    },
    "tags": []
   },
   "source": [
    "### Datasets with Depth 1"
   ]
  },
  {
   "cell_type": "code",
   "execution_count": 23,
   "id": "a48b51f6",
   "metadata": {
    "execution": {
     "iopub.execute_input": "2024-03-03T13:26:45.543456Z",
     "iopub.status.busy": "2024-03-03T13:26:45.542978Z",
     "iopub.status.idle": "2024-03-03T13:27:56.470000Z",
     "shell.execute_reply": "2024-03-03T13:27:56.467689Z"
    },
    "papermill": {
     "duration": 70.95785,
     "end_time": "2024-03-03T13:27:56.476545",
     "exception": false,
     "start_time": "2024-03-03T13:26:45.518695",
     "status": "completed"
    },
    "tags": []
   },
   "outputs": [],
   "source": [
    "df_applprev_1_0 = pd.read_csv(\"/kaggle/input/home-credit-credit-risk-model-stability/csv_files/train/train_applprev_1_0.csv\")\n",
    "\n",
    "df_applprev_1_1 = pd.read_csv(\"/kaggle/input/home-credit-credit-risk-model-stability/csv_files/train/train_applprev_1_1.csv\")\n",
    "\n",
    "df_applprev = pd.concat([df_applprev_1_0,df_applprev_1_1],ignore_index=True)"
   ]
  },
  {
   "cell_type": "code",
   "execution_count": 24,
   "id": "8bec6e3b",
   "metadata": {
    "execution": {
     "iopub.execute_input": "2024-03-03T13:27:56.529524Z",
     "iopub.status.busy": "2024-03-03T13:27:56.528949Z",
     "iopub.status.idle": "2024-03-03T13:28:23.084712Z",
     "shell.execute_reply": "2024-03-03T13:28:23.083234Z"
    },
    "papermill": {
     "duration": 26.583874,
     "end_time": "2024-03-03T13:28:23.087527",
     "exception": false,
     "start_time": "2024-03-03T13:27:56.503653",
     "status": "completed"
    },
    "tags": []
   },
   "outputs": [
    {
     "name": "stdout",
     "output_type": "stream",
     "text": [
      "Memory usage of dataframe is 2041.36 MB\n",
      "Memory usage after optimization is: 592.79 MB\n",
      "Decreased by 71.0%\n"
     ]
    }
   ],
   "source": [
    "df_applprev = reduce_mem_usage(df_applprev)"
   ]
  },
  {
   "cell_type": "code",
   "execution_count": 25,
   "id": "01d1a3ee",
   "metadata": {
    "execution": {
     "iopub.execute_input": "2024-03-03T13:28:23.135904Z",
     "iopub.status.busy": "2024-03-03T13:28:23.135484Z",
     "iopub.status.idle": "2024-03-03T13:28:37.211942Z",
     "shell.execute_reply": "2024-03-03T13:28:37.209729Z"
    },
    "papermill": {
     "duration": 14.104612,
     "end_time": "2024-03-03T13:28:37.215389",
     "exception": false,
     "start_time": "2024-03-03T13:28:23.110777",
     "status": "completed"
    },
    "tags": []
   },
   "outputs": [],
   "source": [
    "df_applprev.to_parquet('/kaggle/working/train/train_applprev.parquet')"
   ]
  },
  {
   "cell_type": "code",
   "execution_count": 26,
   "id": "55492018",
   "metadata": {
    "execution": {
     "iopub.execute_input": "2024-03-03T13:28:37.264269Z",
     "iopub.status.busy": "2024-03-03T13:28:37.263843Z",
     "iopub.status.idle": "2024-03-03T13:28:37.336053Z",
     "shell.execute_reply": "2024-03-03T13:28:37.334649Z"
    },
    "papermill": {
     "duration": 0.100576,
     "end_time": "2024-03-03T13:28:37.339327",
     "exception": false,
     "start_time": "2024-03-03T13:28:37.238751",
     "status": "completed"
    },
    "tags": []
   },
   "outputs": [],
   "source": [
    "df_other = pd.read_csv(\"/kaggle/input/home-credit-credit-risk-model-stability/csv_files/train/train_other_1.csv\")"
   ]
  },
  {
   "cell_type": "code",
   "execution_count": 27,
   "id": "c218be06",
   "metadata": {
    "execution": {
     "iopub.execute_input": "2024-03-03T13:28:37.388655Z",
     "iopub.status.busy": "2024-03-03T13:28:37.388126Z",
     "iopub.status.idle": "2024-03-03T13:28:37.403469Z",
     "shell.execute_reply": "2024-03-03T13:28:37.402194Z"
    },
    "papermill": {
     "duration": 0.043022,
     "end_time": "2024-03-03T13:28:37.405882",
     "exception": false,
     "start_time": "2024-03-03T13:28:37.362860",
     "status": "completed"
    },
    "tags": []
   },
   "outputs": [
    {
     "name": "stdout",
     "output_type": "stream",
     "text": [
      "Memory usage of dataframe is 2.73 MB\n",
      "Memory usage after optimization is: 1.22 MB\n",
      "Decreased by 55.4%\n"
     ]
    }
   ],
   "source": [
    "df_other = reduce_mem_usage(df_other)"
   ]
  },
  {
   "cell_type": "code",
   "execution_count": 28,
   "id": "749c8c25",
   "metadata": {
    "execution": {
     "iopub.execute_input": "2024-03-03T13:28:37.454296Z",
     "iopub.status.busy": "2024-03-03T13:28:37.453454Z",
     "iopub.status.idle": "2024-03-03T13:28:37.488064Z",
     "shell.execute_reply": "2024-03-03T13:28:37.486589Z"
    },
    "papermill": {
     "duration": 0.062,
     "end_time": "2024-03-03T13:28:37.490874",
     "exception": false,
     "start_time": "2024-03-03T13:28:37.428874",
     "status": "completed"
    },
    "tags": []
   },
   "outputs": [],
   "source": [
    "df_other.to_parquet('/kaggle/working/train/train_other.parquet')"
   ]
  },
  {
   "cell_type": "code",
   "execution_count": 29,
   "id": "9cd1da00",
   "metadata": {
    "execution": {
     "iopub.execute_input": "2024-03-03T13:28:37.540364Z",
     "iopub.status.busy": "2024-03-03T13:28:37.539896Z",
     "iopub.status.idle": "2024-03-03T13:28:41.368642Z",
     "shell.execute_reply": "2024-03-03T13:28:41.367685Z"
    },
    "papermill": {
     "duration": 3.856626,
     "end_time": "2024-03-03T13:28:41.371538",
     "exception": false,
     "start_time": "2024-03-03T13:28:37.514912",
     "status": "completed"
    },
    "tags": []
   },
   "outputs": [],
   "source": [
    "df_tax = pd.read_csv(\"/kaggle/input/home-credit-credit-risk-model-stability/csv_files/train/train_tax_registry_a_1.csv\")"
   ]
  },
  {
   "cell_type": "code",
   "execution_count": 30,
   "id": "28a1bdc6",
   "metadata": {
    "execution": {
     "iopub.execute_input": "2024-03-03T13:28:41.420130Z",
     "iopub.status.busy": "2024-03-03T13:28:41.419701Z",
     "iopub.status.idle": "2024-03-03T13:28:42.935982Z",
     "shell.execute_reply": "2024-03-03T13:28:42.934503Z"
    },
    "papermill": {
     "duration": 1.543998,
     "end_time": "2024-03-03T13:28:42.939014",
     "exception": false,
     "start_time": "2024-03-03T13:28:41.395016",
     "status": "completed"
    },
    "tags": []
   },
   "outputs": [
    {
     "name": "stdout",
     "output_type": "stream",
     "text": [
      "Memory usage of dataframe is 124.96 MB\n",
      "Memory usage after optimization is: 52.03 MB\n",
      "Decreased by 58.4%\n"
     ]
    }
   ],
   "source": [
    "df_tax = reduce_mem_usage(df_tax)"
   ]
  },
  {
   "cell_type": "code",
   "execution_count": 31,
   "id": "f81627f3",
   "metadata": {
    "execution": {
     "iopub.execute_input": "2024-03-03T13:28:42.988071Z",
     "iopub.status.busy": "2024-03-03T13:28:42.987645Z",
     "iopub.status.idle": "2024-03-03T13:28:43.023156Z",
     "shell.execute_reply": "2024-03-03T13:28:43.021673Z"
    },
    "papermill": {
     "duration": 0.063694,
     "end_time": "2024-03-03T13:28:43.026372",
     "exception": false,
     "start_time": "2024-03-03T13:28:42.962678",
     "status": "completed"
    },
    "tags": []
   },
   "outputs": [
    {
     "data": {
      "text/html": [
       "<div>\n",
       "<style scoped>\n",
       "    .dataframe tbody tr th:only-of-type {\n",
       "        vertical-align: middle;\n",
       "    }\n",
       "\n",
       "    .dataframe tbody tr th {\n",
       "        vertical-align: top;\n",
       "    }\n",
       "\n",
       "    .dataframe thead th {\n",
       "        text-align: right;\n",
       "    }\n",
       "</style>\n",
       "<table border=\"1\" class=\"dataframe\">\n",
       "  <thead>\n",
       "    <tr style=\"text-align: right;\">\n",
       "      <th></th>\n",
       "      <th>case_id</th>\n",
       "      <th>amount_4527230A</th>\n",
       "      <th>name_4527232M</th>\n",
       "      <th>num_group1</th>\n",
       "      <th>recorddate_4527225D</th>\n",
       "    </tr>\n",
       "  </thead>\n",
       "  <tbody>\n",
       "    <tr>\n",
       "      <th>0</th>\n",
       "      <td>28631</td>\n",
       "      <td>1946.000000</td>\n",
       "      <td>f980a1ea</td>\n",
       "      <td>2</td>\n",
       "      <td>2019-09-13</td>\n",
       "    </tr>\n",
       "    <tr>\n",
       "      <th>1</th>\n",
       "      <td>28631</td>\n",
       "      <td>711.000000</td>\n",
       "      <td>f980a1ea</td>\n",
       "      <td>3</td>\n",
       "      <td>2019-09-13</td>\n",
       "    </tr>\n",
       "    <tr>\n",
       "      <th>2</th>\n",
       "      <td>28631</td>\n",
       "      <td>3616.400146</td>\n",
       "      <td>f980a1ea</td>\n",
       "      <td>0</td>\n",
       "      <td>2019-09-13</td>\n",
       "    </tr>\n",
       "    <tr>\n",
       "      <th>3</th>\n",
       "      <td>28631</td>\n",
       "      <td>2600.000000</td>\n",
       "      <td>f980a1ea</td>\n",
       "      <td>1</td>\n",
       "      <td>2019-09-13</td>\n",
       "    </tr>\n",
       "  </tbody>\n",
       "</table>\n",
       "</div>"
      ],
      "text/plain": [
       "   case_id  amount_4527230A name_4527232M  num_group1 recorddate_4527225D\n",
       "0    28631      1946.000000      f980a1ea           2          2019-09-13\n",
       "1    28631       711.000000      f980a1ea           3          2019-09-13\n",
       "2    28631      3616.400146      f980a1ea           0          2019-09-13\n",
       "3    28631      2600.000000      f980a1ea           1          2019-09-13"
      ]
     },
     "execution_count": 31,
     "metadata": {},
     "output_type": "execute_result"
    }
   ],
   "source": [
    "df_tax[df_tax['case_id'] == 28631]"
   ]
  },
  {
   "cell_type": "code",
   "execution_count": 32,
   "id": "e4d8c94a",
   "metadata": {
    "execution": {
     "iopub.execute_input": "2024-03-03T13:28:43.076757Z",
     "iopub.status.busy": "2024-03-03T13:28:43.075725Z",
     "iopub.status.idle": "2024-03-03T13:28:44.179895Z",
     "shell.execute_reply": "2024-03-03T13:28:44.178689Z"
    },
    "papermill": {
     "duration": 1.133755,
     "end_time": "2024-03-03T13:28:44.184474",
     "exception": false,
     "start_time": "2024-03-03T13:28:43.050719",
     "status": "completed"
    },
    "tags": []
   },
   "outputs": [],
   "source": [
    "df_tax.to_parquet('/kaggle/working/train/train_tax.parquet')"
   ]
  },
  {
   "cell_type": "code",
   "execution_count": null,
   "id": "052bc4ee",
   "metadata": {
    "papermill": {
     "duration": 0.022617,
     "end_time": "2024-03-03T13:28:44.237992",
     "exception": false,
     "start_time": "2024-03-03T13:28:44.215375",
     "status": "completed"
    },
    "tags": []
   },
   "outputs": [],
   "source": []
  },
  {
   "cell_type": "code",
   "execution_count": 33,
   "id": "d02d76a1",
   "metadata": {
    "execution": {
     "iopub.execute_input": "2024-03-03T13:28:44.288070Z",
     "iopub.status.busy": "2024-03-03T13:28:44.287615Z",
     "iopub.status.idle": "2024-03-03T13:28:47.261149Z",
     "shell.execute_reply": "2024-03-03T13:28:47.259875Z"
    },
    "papermill": {
     "duration": 3.002596,
     "end_time": "2024-03-03T13:28:47.264238",
     "exception": false,
     "start_time": "2024-03-03T13:28:44.261642",
     "status": "completed"
    },
    "tags": []
   },
   "outputs": [],
   "source": [
    "df_tax_registry = pd.read_csv(input_path+'train_tax_registry_a_1.csv')"
   ]
  },
  {
   "cell_type": "code",
   "execution_count": 34,
   "id": "d72228e4",
   "metadata": {
    "execution": {
     "iopub.execute_input": "2024-03-03T13:28:47.315891Z",
     "iopub.status.busy": "2024-03-03T13:28:47.315387Z",
     "iopub.status.idle": "2024-03-03T13:28:48.857567Z",
     "shell.execute_reply": "2024-03-03T13:28:48.856187Z"
    },
    "papermill": {
     "duration": 1.571414,
     "end_time": "2024-03-03T13:28:48.860365",
     "exception": false,
     "start_time": "2024-03-03T13:28:47.288951",
     "status": "completed"
    },
    "tags": []
   },
   "outputs": [
    {
     "name": "stdout",
     "output_type": "stream",
     "text": [
      "Memory usage of dataframe is 124.96 MB\n",
      "Memory usage after optimization is: 52.03 MB\n",
      "Decreased by 58.4%\n"
     ]
    }
   ],
   "source": [
    "df_tax_registry = reduce_mem_usage(df_tax_registry)"
   ]
  },
  {
   "cell_type": "code",
   "execution_count": 35,
   "id": "3d70afd8",
   "metadata": {
    "execution": {
     "iopub.execute_input": "2024-03-03T13:28:48.914708Z",
     "iopub.status.busy": "2024-03-03T13:28:48.912817Z",
     "iopub.status.idle": "2024-03-03T13:28:50.071648Z",
     "shell.execute_reply": "2024-03-03T13:28:50.070646Z"
    },
    "papermill": {
     "duration": 1.191532,
     "end_time": "2024-03-03T13:28:50.075787",
     "exception": false,
     "start_time": "2024-03-03T13:28:48.884255",
     "status": "completed"
    },
    "tags": []
   },
   "outputs": [],
   "source": [
    "df_tax_registry.to_parquet(output_path+\"train_tax_registry.parquet\")"
   ]
  },
  {
   "cell_type": "code",
   "execution_count": null,
   "id": "77519530",
   "metadata": {
    "papermill": {
     "duration": 0.023838,
     "end_time": "2024-03-03T13:28:50.123716",
     "exception": false,
     "start_time": "2024-03-03T13:28:50.099878",
     "status": "completed"
    },
    "tags": []
   },
   "outputs": [],
   "source": []
  },
  {
   "cell_type": "code",
   "execution_count": 36,
   "id": "71c80777",
   "metadata": {
    "execution": {
     "iopub.execute_input": "2024-03-03T13:28:50.173378Z",
     "iopub.status.busy": "2024-03-03T13:28:50.172646Z",
     "iopub.status.idle": "2024-03-03T13:28:52.292185Z",
     "shell.execute_reply": "2024-03-03T13:28:52.290713Z"
    },
    "papermill": {
     "duration": 2.147863,
     "end_time": "2024-03-03T13:28:52.295512",
     "exception": false,
     "start_time": "2024-03-03T13:28:50.147649",
     "status": "completed"
    },
    "tags": []
   },
   "outputs": [
    {
     "name": "stdout",
     "output_type": "stream",
     "text": [
      "Memory usage of dataframe is 42.26 MB\n",
      "Memory usage after optimization is: 18.30 MB\n",
      "Decreased by 56.7%\n"
     ]
    }
   ],
   "source": [
    "df_tax_registry_b = pd.read_csv(input_path+\"train_tax_registry_b_1.csv\")\n",
    "\n",
    "df_tax_registry_b = reduce_mem_usage(df_tax_registry_b)\n",
    "\n",
    "df_tax_registry_b.to_parquet(output_path+\"train_tax_registry_b.parquet\")"
   ]
  },
  {
   "cell_type": "code",
   "execution_count": 37,
   "id": "60a734f5",
   "metadata": {
    "execution": {
     "iopub.execute_input": "2024-03-03T13:28:52.349339Z",
     "iopub.status.busy": "2024-03-03T13:28:52.348121Z",
     "iopub.status.idle": "2024-03-03T13:28:59.736180Z",
     "shell.execute_reply": "2024-03-03T13:28:59.734722Z"
    },
    "papermill": {
     "duration": 7.419204,
     "end_time": "2024-03-03T13:28:59.739354",
     "exception": false,
     "start_time": "2024-03-03T13:28:52.320150",
     "status": "completed"
    },
    "tags": []
   },
   "outputs": [
    {
     "name": "stdout",
     "output_type": "stream",
     "text": [
      "Memory usage of dataframe is 127.56 MB\n",
      "Memory usage after optimization is: 53.04 MB\n",
      "Decreased by 58.4%\n"
     ]
    }
   ],
   "source": [
    "df_tax_registry_c = pd.read_csv(input_path+\"train_tax_registry_c_1.csv\")\n",
    "\n",
    "df_tax_registry_c = reduce_mem_usage(df_tax_registry_c)\n",
    "\n",
    "df_tax_registry_c.to_parquet(output_path+\"train_tax_registry_c.parquet\")"
   ]
  },
  {
   "cell_type": "code",
   "execution_count": 38,
   "id": "7b5fca49",
   "metadata": {
    "execution": {
     "iopub.execute_input": "2024-03-03T13:28:59.790950Z",
     "iopub.status.busy": "2024-03-03T13:28:59.790094Z",
     "iopub.status.idle": "2024-03-03T13:33:57.269342Z",
     "shell.execute_reply": "2024-03-03T13:33:57.268322Z"
    },
    "papermill": {
     "duration": 297.507546,
     "end_time": "2024-03-03T13:33:57.271839",
     "exception": false,
     "start_time": "2024-03-03T13:28:59.764293",
     "status": "completed"
    },
    "tags": []
   },
   "outputs": [
    {
     "name": "stdout",
     "output_type": "stream",
     "text": [
      "Memory usage of dataframe is 2476.11 MB\n",
      "Memory usage after optimization is: 836.31 MB\n",
      "Decreased by 66.2%\n",
      "Memory usage of dataframe is 3621.87 MB\n",
      "Memory usage after optimization is: 1256.91 MB\n",
      "Decreased by 65.3%\n",
      "Memory usage of dataframe is 2256.48 MB\n",
      "Memory usage after optimization is: 762.46 MB\n",
      "Decreased by 66.2%\n",
      "Memory usage of dataframe is 1253.25 MB\n",
      "Memory usage after optimization is: 416.13 MB\n",
      "Decreased by 66.8%\n"
     ]
    }
   ],
   "source": [
    "df_train_credit_bureau_a_1_0 = pd.read_csv(input_path+\"train_credit_bureau_a_1_0.csv\")\n",
    "df_train_credit_bureau_a_1_0 = reduce_mem_usage(df_train_credit_bureau_a_1_0)\n",
    "df_train_credit_bureau_a_1_0.to_parquet(output_path+\"train_credit_bureau_a_1_0.parquet\")\n",
    "\n",
    "df_train_credit_bureau_a_1_1 = pd.read_csv(input_path+\"train_credit_bureau_a_1_1.csv\")\n",
    "df_train_credit_bureau_a_1_1 = reduce_mem_usage(df_train_credit_bureau_a_1_1)\n",
    "df_train_credit_bureau_a_1_1.to_parquet(output_path+\"train_credit_bureau_a_1_1.parquet\")\n",
    "\n",
    "df_train_credit_bureau_a_1_2 = pd.read_csv(input_path+\"train_credit_bureau_a_1_2.csv\")\n",
    "df_train_credit_bureau_a_1_2 = reduce_mem_usage(df_train_credit_bureau_a_1_2)\n",
    "df_train_credit_bureau_a_1_2.to_parquet(output_path+\"train_credit_bureau_a_1_2.parquet\")\n",
    "\n",
    "df_train_credit_bureau_a_1_3 = pd.read_csv(input_path+\"train_credit_bureau_a_1_3.csv\")\n",
    "df_train_credit_bureau_a_1_3 = reduce_mem_usage(df_train_credit_bureau_a_1_3)\n",
    "df_train_credit_bureau_a_1_3.to_parquet(output_path+\"train_credit_bureau_a_1_3.parquet\")"
   ]
  },
  {
   "cell_type": "code",
   "execution_count": 39,
   "id": "77b7ced0",
   "metadata": {
    "execution": {
     "iopub.execute_input": "2024-03-03T13:33:57.319940Z",
     "iopub.status.busy": "2024-03-03T13:33:57.318931Z",
     "iopub.status.idle": "2024-03-03T13:33:58.529353Z",
     "shell.execute_reply": "2024-03-03T13:33:58.528367Z"
    },
    "papermill": {
     "duration": 1.236845,
     "end_time": "2024-03-03T13:33:58.531960",
     "exception": false,
     "start_time": "2024-03-03T13:33:57.295115",
     "status": "completed"
    },
    "tags": []
   },
   "outputs": [
    {
     "name": "stdout",
     "output_type": "stream",
     "text": [
      "Memory usage of dataframe is 29.45 MB\n",
      "Memory usage after optimization is: 10.33 MB\n",
      "Decreased by 64.9%\n"
     ]
    }
   ],
   "source": [
    "df_train_credit_bureau_b = pd.read_csv(input_path+\"train_credit_bureau_b_1.csv\")\n",
    "df_train_credit_bureau_b = reduce_mem_usage(df_train_credit_bureau_b)\n",
    "df_train_credit_bureau_b.to_parquet(output_path+\"train_credit_bureau_b.parquet\")"
   ]
  },
  {
   "cell_type": "code",
   "execution_count": 40,
   "id": "dfac5baf",
   "metadata": {
    "execution": {
     "iopub.execute_input": "2024-03-03T13:33:58.582348Z",
     "iopub.status.busy": "2024-03-03T13:33:58.581124Z",
     "iopub.status.idle": "2024-03-03T13:33:58.836757Z",
     "shell.execute_reply": "2024-03-03T13:33:58.835492Z"
    },
    "papermill": {
     "duration": 0.282978,
     "end_time": "2024-03-03T13:33:58.838974",
     "exception": false,
     "start_time": "2024-03-03T13:33:58.555996",
     "status": "completed"
    },
    "tags": []
   },
   "outputs": [
    {
     "name": "stdout",
     "output_type": "stream",
     "text": [
      "Memory usage of dataframe is 5.53 MB\n",
      "Memory usage after optimization is: 1.92 MB\n",
      "Decreased by 65.4%\n"
     ]
    }
   ],
   "source": [
    "df_train_deposit = pd.read_csv(input_path+\"train_deposit_1.csv\")\n",
    "df_train_deposit = reduce_mem_usage(df_train_deposit)\n",
    "df_train_deposit.to_parquet(output_path+\"train_deposit.parquet\")"
   ]
  },
  {
   "cell_type": "code",
   "execution_count": 41,
   "id": "cf10ab7f",
   "metadata": {
    "execution": {
     "iopub.execute_input": "2024-03-03T13:33:58.888018Z",
     "iopub.status.busy": "2024-03-03T13:33:58.886985Z",
     "iopub.status.idle": "2024-03-03T13:34:36.851262Z",
     "shell.execute_reply": "2024-03-03T13:34:36.850230Z"
    },
    "papermill": {
     "duration": 37.991497,
     "end_time": "2024-03-03T13:34:36.854140",
     "exception": false,
     "start_time": "2024-03-03T13:33:58.862643",
     "status": "completed"
    },
    "tags": []
   },
   "outputs": [
    {
     "name": "stdout",
     "output_type": "stream",
     "text": [
      "Memory usage of dataframe is 839.52 MB\n",
      "Memory usage after optimization is: 159.73 MB\n",
      "Decreased by 81.0%\n"
     ]
    }
   ],
   "source": [
    "df_train_person = pd.read_csv(input_path+\"train_person_1.csv\")\n",
    "df_train_person = reduce_mem_usage(df_train_person)\n",
    "df_train_person.to_parquet(output_path+\"train_person.parquet\")"
   ]
  },
  {
   "cell_type": "code",
   "execution_count": 42,
   "id": "742215e1",
   "metadata": {
    "execution": {
     "iopub.execute_input": "2024-03-03T13:34:36.903787Z",
     "iopub.status.busy": "2024-03-03T13:34:36.902960Z",
     "iopub.status.idle": "2024-03-03T13:34:37.134958Z",
     "shell.execute_reply": "2024-03-03T13:34:37.133172Z"
    },
    "papermill": {
     "duration": 0.258939,
     "end_time": "2024-03-03T13:34:37.137618",
     "exception": false,
     "start_time": "2024-03-03T13:34:36.878679",
     "status": "completed"
    },
    "tags": []
   },
   "outputs": [
    {
     "name": "stdout",
     "output_type": "stream",
     "text": [
      "Memory usage of dataframe is 7.20 MB\n",
      "Memory usage after optimization is: 2.93 MB\n",
      "Decreased by 59.4%\n"
     ]
    }
   ],
   "source": [
    "df_train_debitcard = pd.read_csv(input_path+\"train_debitcard_1.csv\")\n",
    "df_train_debitcard = reduce_mem_usage(df_train_debitcard)\n",
    "df_train_debitcard.to_parquet(output_path+\"train_debitcard_1.parquet\")"
   ]
  },
  {
   "cell_type": "code",
   "execution_count": 43,
   "id": "c36af52d",
   "metadata": {
    "execution": {
     "iopub.execute_input": "2024-03-03T13:34:37.187445Z",
     "iopub.status.busy": "2024-03-03T13:34:37.187020Z",
     "iopub.status.idle": "2024-03-03T13:35:00.646304Z",
     "shell.execute_reply": "2024-03-03T13:35:00.645336Z"
    },
    "papermill": {
     "duration": 23.487427,
     "end_time": "2024-03-03T13:35:00.648903",
     "exception": false,
     "start_time": "2024-03-03T13:34:37.161476",
     "status": "completed"
    },
    "tags": []
   },
   "outputs": [
    {
     "name": "stdout",
     "output_type": "stream",
     "text": [
      "Memory usage of dataframe is 644.32 MB\n",
      "Memory usage after optimization is: 120.81 MB\n",
      "Decreased by 81.2%\n"
     ]
    }
   ],
   "source": [
    "df_train_applprev_2 = pd.read_csv(input_path+\"train_applprev_2.csv\")\n",
    "df_train_applprev_2 = reduce_mem_usage(df_train_applprev_2)\n",
    "df_train_applprev_2.to_parquet(output_path+\"train_applprev_2.parquet\")"
   ]
  },
  {
   "cell_type": "code",
   "execution_count": 44,
   "id": "f6ecf6ea",
   "metadata": {
    "execution": {
     "iopub.execute_input": "2024-03-03T13:35:00.698987Z",
     "iopub.status.busy": "2024-03-03T13:35:00.698584Z",
     "iopub.status.idle": "2024-03-03T13:35:05.540854Z",
     "shell.execute_reply": "2024-03-03T13:35:05.539883Z"
    },
    "papermill": {
     "duration": 4.872019,
     "end_time": "2024-03-03T13:35:05.544819",
     "exception": false,
     "start_time": "2024-03-03T13:35:00.672800",
     "status": "completed"
    },
    "tags": []
   },
   "outputs": [
    {
     "name": "stdout",
     "output_type": "stream",
     "text": [
      "Memory usage of dataframe is 137.92 MB\n",
      "Memory usage after optimization is: 28.65 MB\n",
      "Decreased by 79.2%\n"
     ]
    }
   ],
   "source": [
    "df_train_person_2 = pd.read_csv(input_path+\"train_person_2.csv\")\n",
    "df_train_person_2 = reduce_mem_usage(df_train_person_2)\n",
    "df_train_person_2.to_parquet(output_path+\"train_person_2.parquet\")"
   ]
  },
  {
   "cell_type": "code",
   "execution_count": 45,
   "id": "99a32101",
   "metadata": {
    "execution": {
     "iopub.execute_input": "2024-03-03T13:35:05.596475Z",
     "iopub.status.busy": "2024-03-03T13:35:05.595741Z",
     "iopub.status.idle": "2024-03-03T13:49:15.425394Z",
     "shell.execute_reply": "2024-03-03T13:49:15.423935Z"
    },
    "papermill": {
     "duration": 849.85944,
     "end_time": "2024-03-03T13:49:15.428881",
     "exception": false,
     "start_time": "2024-03-03T13:35:05.569441",
     "status": "completed"
    },
    "tags": []
   },
   "outputs": [
    {
     "name": "stdout",
     "output_type": "stream",
     "text": [
      "Memory usage of dataframe is 767.70 MB\n",
      "Memory usage after optimization is: 333.35 MB\n",
      "Decreased by 56.6%\n",
      "Memory usage of dataframe is 1139.64 MB\n",
      "Memory usage after optimization is: 307.40 MB\n",
      "Decreased by 73.0%\n",
      "Memory usage of dataframe is 2593.82 MB\n",
      "Memory usage after optimization is: 733.78 MB\n",
      "Decreased by 71.7%\n",
      "Memory usage of dataframe is 3850.66 MB\n",
      "Memory usage after optimization is: 1089.33 MB\n",
      "Decreased by 71.7%\n",
      "Memory usage of dataframe is 3917.61 MB\n",
      "Memory usage after optimization is: 1108.27 MB\n",
      "Decreased by 71.7%\n",
      "Memory usage of dataframe is 4791.42 MB\n",
      "Memory usage after optimization is: 1355.47 MB\n",
      "Decreased by 71.7%\n",
      "Memory usage of dataframe is 3698.08 MB\n",
      "Memory usage after optimization is: 1046.17 MB\n",
      "Decreased by 71.7%\n",
      "Memory usage of dataframe is 1167.78 MB\n",
      "Memory usage after optimization is: 330.36 MB\n",
      "Decreased by 71.7%\n",
      "Memory usage of dataframe is 2018.85 MB\n",
      "Memory usage after optimization is: 571.12 MB\n",
      "Decreased by 71.7%\n",
      "Memory usage of dataframe is 2714.09 MB\n",
      "Memory usage after optimization is: 767.80 MB\n",
      "Decreased by 71.7%\n",
      "Memory usage of dataframe is 635.80 MB\n",
      "Memory usage after optimization is: 175.68 MB\n",
      "Decreased by 72.4%\n"
     ]
    }
   ],
   "source": [
    "df_train_credit_bureau_a_2 = pd.read_csv(input_path+\"train_credit_bureau_a_2_0.csv\")\n",
    "df_train_credit_bureau_a_2 = reduce_mem_usage(df_train_credit_bureau_a_2)\n",
    "df_train_credit_bureau_a_2.to_parquet(output_path+\"train_credit_bureau_a_2_0.parquet\")\n",
    "\n",
    "df_train_credit_bureau_a_2_1 = pd.read_csv(input_path+\"train_credit_bureau_a_2_1.csv\")\n",
    "df_train_credit_bureau_a_2_1 = reduce_mem_usage(df_train_credit_bureau_a_2_1)\n",
    "df_train_credit_bureau_a_2_1.to_parquet(output_path+\"train_credit_bureau_a_2_1.parquet\")\n",
    "\n",
    "df_train_credit_bureau_a_2_2 = pd.read_csv(input_path+\"train_credit_bureau_a_2_2.csv\")\n",
    "df_train_credit_bureau_a_2_2 = reduce_mem_usage(df_train_credit_bureau_a_2_2)\n",
    "df_train_credit_bureau_a_2_2.to_parquet(output_path+\"train_credit_bureau_a_2_2.parquet\")\n",
    "\n",
    "df_train_credit_bureau_a_2_3 = pd.read_csv(input_path+\"train_credit_bureau_a_2_3.csv\")\n",
    "df_train_credit_bureau_a_2_3 = reduce_mem_usage(df_train_credit_bureau_a_2_3)\n",
    "df_train_credit_bureau_a_2_3.to_parquet(output_path+\"train_credit_bureau_a_2_3.parquet\")\n",
    "\n",
    "df_train_credit_bureau_a_2_4 = pd.read_csv(input_path+\"train_credit_bureau_a_2_4.csv\")\n",
    "df_train_credit_bureau_a_2_4 = reduce_mem_usage(df_train_credit_bureau_a_2_4)\n",
    "df_train_credit_bureau_a_2_4.to_parquet(output_path+\"train_credit_bureau_a_2_4.parquet\")\n",
    "\n",
    "df_train_credit_bureau_a_2_5 = pd.read_csv(input_path+\"train_credit_bureau_a_2_5.csv\")\n",
    "df_train_credit_bureau_a_2_5 = reduce_mem_usage(df_train_credit_bureau_a_2_5)\n",
    "df_train_credit_bureau_a_2_5.to_parquet(output_path+\"train_credit_bureau_a_2_5.parquet\")\n",
    "\n",
    "df_train_credit_bureau_a_2_6 = pd.read_csv(input_path+\"train_credit_bureau_a_2_6.csv\")\n",
    "df_train_credit_bureau_a_2_6 = reduce_mem_usage(df_train_credit_bureau_a_2_6)\n",
    "df_train_credit_bureau_a_2_6.to_parquet(output_path+\"train_credit_bureau_a_2_6.parquet\")\n",
    "\n",
    "df_train_credit_bureau_a_2_7 = pd.read_csv(input_path+\"train_credit_bureau_a_2_7.csv\")\n",
    "df_train_credit_bureau_a_2_7 = reduce_mem_usage(df_train_credit_bureau_a_2_7)\n",
    "df_train_credit_bureau_a_2_7.to_parquet(output_path+\"train_credit_bureau_a_2_7.parquet\")\n",
    "\n",
    "df_train_credit_bureau_a_2_8 = pd.read_csv(input_path+\"train_credit_bureau_a_2_8.csv\")\n",
    "df_train_credit_bureau_a_2_8 = reduce_mem_usage(df_train_credit_bureau_a_2_8)\n",
    "df_train_credit_bureau_a_2_8.to_parquet(output_path+\"train_credit_bureau_a_2_8.parquet\")\n",
    "\n",
    "df_train_credit_bureau_a_2_9 = pd.read_csv(input_path+\"train_credit_bureau_a_2_9.csv\")\n",
    "df_train_credit_bureau_a_2_9 = reduce_mem_usage(df_train_credit_bureau_a_2_9)\n",
    "df_train_credit_bureau_a_2_9.to_parquet(output_path+\"train_credit_bureau_a_2_9.parquet\")\n",
    "\n",
    "df_train_credit_bureau_a_2_10 = pd.read_csv(input_path+\"train_credit_bureau_a_2_10.csv\")\n",
    "df_train_credit_bureau_a_2_10 = reduce_mem_usage(df_train_credit_bureau_a_2_10)\n",
    "df_train_credit_bureau_a_2_10.to_parquet(output_path+\"train_credit_bureau_a_2_10.parquet\")"
   ]
  },
  {
   "cell_type": "code",
   "execution_count": 46,
   "id": "07ae06fe",
   "metadata": {
    "execution": {
     "iopub.execute_input": "2024-03-03T13:49:15.487314Z",
     "iopub.status.busy": "2024-03-03T13:49:15.486916Z",
     "iopub.status.idle": "2024-03-03T13:49:17.035830Z",
     "shell.execute_reply": "2024-03-03T13:49:17.034438Z"
    },
    "papermill": {
     "duration": 1.5826,
     "end_time": "2024-03-03T13:49:17.038514",
     "exception": false,
     "start_time": "2024-03-03T13:49:15.455914",
     "status": "completed"
    },
    "tags": []
   },
   "outputs": [
    {
     "name": "stdout",
     "output_type": "stream",
     "text": [
      "Memory usage of dataframe is 58.90 MB\n",
      "Memory usage after optimization is: 18.41 MB\n",
      "Decreased by 68.7%\n"
     ]
    }
   ],
   "source": [
    "df_train_credit_bureau_b_2 = pd.read_csv(input_path+\"train_credit_bureau_b_2.csv\")\n",
    "df_train_credit_bureau_b_2 = reduce_mem_usage(df_train_credit_bureau_b_2)\n",
    "df_train_credit_bureau_b_2.to_parquet(output_path+\"train_credit_bureau_b_2.parquet\")"
   ]
  },
  {
   "cell_type": "code",
   "execution_count": null,
   "id": "2a65fbb3",
   "metadata": {
    "papermill": {
     "duration": 0.025809,
     "end_time": "2024-03-03T13:49:17.091304",
     "exception": false,
     "start_time": "2024-03-03T13:49:17.065495",
     "status": "completed"
    },
    "tags": []
   },
   "outputs": [],
   "source": []
  },
  {
   "cell_type": "code",
   "execution_count": null,
   "id": "a0dd4f9b",
   "metadata": {
    "papermill": {
     "duration": 0.026039,
     "end_time": "2024-03-03T13:49:17.143536",
     "exception": false,
     "start_time": "2024-03-03T13:49:17.117497",
     "status": "completed"
    },
    "tags": []
   },
   "outputs": [],
   "source": []
  },
  {
   "cell_type": "code",
   "execution_count": null,
   "id": "3b210b2c",
   "metadata": {
    "papermill": {
     "duration": 0.025292,
     "end_time": "2024-03-03T13:49:17.195018",
     "exception": false,
     "start_time": "2024-03-03T13:49:17.169726",
     "status": "completed"
    },
    "tags": []
   },
   "outputs": [],
   "source": []
  }
 ],
 "metadata": {
  "kaggle": {
   "accelerator": "none",
   "dataSources": [
    {
     "databundleVersionId": 7602123,
     "sourceId": 50160,
     "sourceType": "competition"
    },
    {
     "sourceId": 164800459,
     "sourceType": "kernelVersion"
    },
    {
     "sourceId": 165007360,
     "sourceType": "kernelVersion"
    }
   ],
   "isGpuEnabled": false,
   "isInternetEnabled": true,
   "language": "python",
   "sourceType": "notebook"
  },
  "kernelspec": {
   "display_name": "Python 3",
   "language": "python",
   "name": "python3"
  },
  "language_info": {
   "codemirror_mode": {
    "name": "ipython",
    "version": 3
   },
   "file_extension": ".py",
   "mimetype": "text/x-python",
   "name": "python",
   "nbconvert_exporter": "python",
   "pygments_lexer": "ipython3",
   "version": "3.10.13"
  },
  "papermill": {
   "default_parameters": {},
   "duration": 1480.91006,
   "end_time": "2024-03-03T13:49:21.258284",
   "environment_variables": {},
   "exception": null,
   "input_path": "__notebook__.ipynb",
   "output_path": "__notebook__.ipynb",
   "parameters": {},
   "start_time": "2024-03-03T13:24:40.348224",
   "version": "2.5.0"
  }
 },
 "nbformat": 4,
 "nbformat_minor": 5
}
