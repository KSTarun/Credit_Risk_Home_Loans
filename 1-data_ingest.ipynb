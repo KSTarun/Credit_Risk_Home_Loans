{
 "cells": [
  {
   "cell_type": "markdown",
   "id": "7acb6c6e",
   "metadata": {
    "papermill": {
     "duration": 0.015988,
     "end_time": "2024-03-01T13:04:37.029164",
     "exception": false,
     "start_time": "2024-03-01T13:04:37.013176",
     "status": "completed"
    },
    "tags": []
   },
   "source": [
    "### Importing Packages"
   ]
  },
  {
   "cell_type": "code",
   "execution_count": 1,
   "id": "42ea66e5",
   "metadata": {
    "execution": {
     "iopub.execute_input": "2024-03-01T13:04:37.064408Z",
     "iopub.status.busy": "2024-03-01T13:04:37.063899Z",
     "iopub.status.idle": "2024-03-01T13:04:39.629311Z",
     "shell.execute_reply": "2024-03-01T13:04:39.627909Z"
    },
    "papermill": {
     "duration": 2.58583,
     "end_time": "2024-03-01T13:04:39.632285",
     "exception": false,
     "start_time": "2024-03-01T13:04:37.046455",
     "status": "completed"
    },
    "tags": []
   },
   "outputs": [],
   "source": [
    "import pandas as pd \n",
    "import numpy as np \n",
    "import seaborn as sns \n",
    "\n",
    "import os\n",
    "from loguru import logger\n",
    "\n",
    "import warnings\n",
    "warnings.filterwarnings('ignore')\n",
    "import gc"
   ]
  },
  {
   "cell_type": "markdown",
   "id": "ed1fa121",
   "metadata": {
    "papermill": {
     "duration": 0.015272,
     "end_time": "2024-03-01T13:04:39.663183",
     "exception": false,
     "start_time": "2024-03-01T13:04:39.647911",
     "status": "completed"
    },
    "tags": []
   },
   "source": [
    "### Common functions"
   ]
  },
  {
   "cell_type": "code",
   "execution_count": 2,
   "id": "f50d8788",
   "metadata": {
    "execution": {
     "iopub.execute_input": "2024-03-01T13:04:39.697681Z",
     "iopub.status.busy": "2024-03-01T13:04:39.696627Z",
     "iopub.status.idle": "2024-03-01T13:04:39.713389Z",
     "shell.execute_reply": "2024-03-01T13:04:39.712389Z"
    },
    "papermill": {
     "duration": 0.038132,
     "end_time": "2024-03-01T13:04:39.716560",
     "exception": false,
     "start_time": "2024-03-01T13:04:39.678428",
     "status": "completed"
    },
    "tags": []
   },
   "outputs": [],
   "source": [
    "def reduce_mem_usage(df):\n",
    "    \"\"\" iterate through all the columns of a dataframe and modify the data type\n",
    "        to reduce memory usage.        \n",
    "    \"\"\"\n",
    "    start_mem = df.memory_usage().sum() / 1024**2\n",
    "    print('Memory usage of dataframe is {:.2f} MB'.format(start_mem))\n",
    "    \n",
    "    for col in df.columns:\n",
    "        col_type = df[col].dtype\n",
    "#         print(f'{col}:{col_type}')\n",
    "        \n",
    "        if col_type not in [object,'category']:\n",
    "            c_min = df[col].min()\n",
    "            c_max = df[col].max()\n",
    "            if str(col_type)[:3] == 'int':\n",
    "                if c_min > np.iinfo(np.int8).min and c_max < np.iinfo(np.int8).max:\n",
    "                    df[col] = df[col].astype(np.int8)\n",
    "                elif c_min > np.iinfo(np.int16).min and c_max < np.iinfo(np.int16).max:\n",
    "                    df[col] = df[col].astype(np.int16)\n",
    "                elif c_min > np.iinfo(np.int32).min and c_max < np.iinfo(np.int32).max:\n",
    "                    df[col] = df[col].astype(np.int32)\n",
    "                elif c_min > np.iinfo(np.int64).min and c_max < np.iinfo(np.int64).max:\n",
    "                    df[col] = df[col].astype(np.int64)  \n",
    "            else:\n",
    "                if c_min > np.finfo(np.float16).min and c_max < np.finfo(np.float16).max:\n",
    "                    df[col] = df[col].astype(np.float16)\n",
    "                elif c_min > np.finfo(np.float32).min and c_max < np.finfo(np.float32).max:\n",
    "                    df[col] = df[col].astype(np.float32)\n",
    "                else:\n",
    "                    df[col] = df[col].astype(np.float64)\n",
    "        else:\n",
    "            df[col] = df[col].astype('category')\n",
    "\n",
    "    end_mem = df.memory_usage().sum() / 1024**2\n",
    "    print('Memory usage after optimization is: {:.2f} MB'.format(end_mem))\n",
    "    print('Decreased by {:.1f}%'.format(100 * (start_mem - end_mem) / start_mem))\n",
    "    \n",
    "    return df"
   ]
  },
  {
   "cell_type": "markdown",
   "id": "f7435bc1",
   "metadata": {
    "papermill": {
     "duration": 0.014892,
     "end_time": "2024-03-01T13:04:39.747059",
     "exception": false,
     "start_time": "2024-03-01T13:04:39.732167",
     "status": "completed"
    },
    "tags": []
   },
   "source": [
    "### Importing Data"
   ]
  },
  {
   "cell_type": "markdown",
   "id": "3b7c0235",
   "metadata": {
    "papermill": {
     "duration": 0.016949,
     "end_time": "2024-03-01T13:04:39.779365",
     "exception": false,
     "start_time": "2024-03-01T13:04:39.762416",
     "status": "completed"
    },
    "tags": []
   },
   "source": [
    "##### Importing train base data"
   ]
  },
  {
   "cell_type": "code",
   "execution_count": 3,
   "id": "601641bd",
   "metadata": {
    "execution": {
     "iopub.execute_input": "2024-03-01T13:04:39.818044Z",
     "iopub.status.busy": "2024-03-01T13:04:39.817140Z",
     "iopub.status.idle": "2024-03-01T13:04:39.822560Z",
     "shell.execute_reply": "2024-03-01T13:04:39.821695Z"
    },
    "papermill": {
     "duration": 0.025898,
     "end_time": "2024-03-01T13:04:39.825144",
     "exception": false,
     "start_time": "2024-03-01T13:04:39.799246",
     "status": "completed"
    },
    "tags": []
   },
   "outputs": [],
   "source": [
    "input_path = \"/kaggle/input/home-credit-credit-risk-model-stability/csv_files/train/\"\n",
    "output_path = \"/kaggle/working/train/\""
   ]
  },
  {
   "cell_type": "code",
   "execution_count": 4,
   "id": "cebab153",
   "metadata": {
    "execution": {
     "iopub.execute_input": "2024-03-01T13:04:39.858332Z",
     "iopub.status.busy": "2024-03-01T13:04:39.857826Z",
     "iopub.status.idle": "2024-03-01T13:04:39.948118Z",
     "shell.execute_reply": "2024-03-01T13:04:39.947093Z"
    },
    "papermill": {
     "duration": 0.117167,
     "end_time": "2024-03-01T13:04:39.957983",
     "exception": false,
     "start_time": "2024-03-01T13:04:39.840816",
     "status": "completed"
    },
    "tags": []
   },
   "outputs": [
    {
     "name": "stderr",
     "output_type": "stream",
     "text": [
      "\u001b[32m2024-03-01 13:04:39.903\u001b[0m | \u001b[1mINFO    \u001b[0m | \u001b[36m__main__\u001b[0m:\u001b[36m<module>\u001b[0m:\u001b[36m3\u001b[0m - \u001b[1mFilename is:train_credit_bureau_a_1_3.csv\u001b[0m\n",
      "\u001b[32m2024-03-01 13:04:39.905\u001b[0m | \u001b[1mINFO    \u001b[0m | \u001b[36m__main__\u001b[0m:\u001b[36m<module>\u001b[0m:\u001b[36m3\u001b[0m - \u001b[1mFilename is:train_static_cb_0.csv\u001b[0m\n",
      "\u001b[32m2024-03-01 13:04:39.907\u001b[0m | \u001b[1mINFO    \u001b[0m | \u001b[36m__main__\u001b[0m:\u001b[36m<module>\u001b[0m:\u001b[36m3\u001b[0m - \u001b[1mFilename is:train_applprev_1_0.csv\u001b[0m\n",
      "\u001b[32m2024-03-01 13:04:39.908\u001b[0m | \u001b[1mINFO    \u001b[0m | \u001b[36m__main__\u001b[0m:\u001b[36m<module>\u001b[0m:\u001b[36m3\u001b[0m - \u001b[1mFilename is:train_person_2.csv\u001b[0m\n",
      "\u001b[32m2024-03-01 13:04:39.910\u001b[0m | \u001b[1mINFO    \u001b[0m | \u001b[36m__main__\u001b[0m:\u001b[36m<module>\u001b[0m:\u001b[36m3\u001b[0m - \u001b[1mFilename is:train_base.csv\u001b[0m\n",
      "\u001b[32m2024-03-01 13:04:39.911\u001b[0m | \u001b[1mINFO    \u001b[0m | \u001b[36m__main__\u001b[0m:\u001b[36m<module>\u001b[0m:\u001b[36m3\u001b[0m - \u001b[1mFilename is:train_tax_registry_a_1.csv\u001b[0m\n",
      "\u001b[32m2024-03-01 13:04:39.913\u001b[0m | \u001b[1mINFO    \u001b[0m | \u001b[36m__main__\u001b[0m:\u001b[36m<module>\u001b[0m:\u001b[36m3\u001b[0m - \u001b[1mFilename is:train_static_0_0.csv\u001b[0m\n",
      "\u001b[32m2024-03-01 13:04:39.914\u001b[0m | \u001b[1mINFO    \u001b[0m | \u001b[36m__main__\u001b[0m:\u001b[36m<module>\u001b[0m:\u001b[36m3\u001b[0m - \u001b[1mFilename is:train_credit_bureau_a_1_0.csv\u001b[0m\n",
      "\u001b[32m2024-03-01 13:04:39.916\u001b[0m | \u001b[1mINFO    \u001b[0m | \u001b[36m__main__\u001b[0m:\u001b[36m<module>\u001b[0m:\u001b[36m3\u001b[0m - \u001b[1mFilename is:train_applprev_2.csv\u001b[0m\n",
      "\u001b[32m2024-03-01 13:04:39.917\u001b[0m | \u001b[1mINFO    \u001b[0m | \u001b[36m__main__\u001b[0m:\u001b[36m<module>\u001b[0m:\u001b[36m3\u001b[0m - \u001b[1mFilename is:train_credit_bureau_a_2_6.csv\u001b[0m\n",
      "\u001b[32m2024-03-01 13:04:39.918\u001b[0m | \u001b[1mINFO    \u001b[0m | \u001b[36m__main__\u001b[0m:\u001b[36m<module>\u001b[0m:\u001b[36m3\u001b[0m - \u001b[1mFilename is:train_credit_bureau_a_1_2.csv\u001b[0m\n",
      "\u001b[32m2024-03-01 13:04:39.919\u001b[0m | \u001b[1mINFO    \u001b[0m | \u001b[36m__main__\u001b[0m:\u001b[36m<module>\u001b[0m:\u001b[36m3\u001b[0m - \u001b[1mFilename is:train_person_1.csv\u001b[0m\n",
      "\u001b[32m2024-03-01 13:04:39.921\u001b[0m | \u001b[1mINFO    \u001b[0m | \u001b[36m__main__\u001b[0m:\u001b[36m<module>\u001b[0m:\u001b[36m3\u001b[0m - \u001b[1mFilename is:train_credit_bureau_a_1_1.csv\u001b[0m\n",
      "\u001b[32m2024-03-01 13:04:39.922\u001b[0m | \u001b[1mINFO    \u001b[0m | \u001b[36m__main__\u001b[0m:\u001b[36m<module>\u001b[0m:\u001b[36m3\u001b[0m - \u001b[1mFilename is:train_tax_registry_c_1.csv\u001b[0m\n",
      "\u001b[32m2024-03-01 13:04:39.923\u001b[0m | \u001b[1mINFO    \u001b[0m | \u001b[36m__main__\u001b[0m:\u001b[36m<module>\u001b[0m:\u001b[36m3\u001b[0m - \u001b[1mFilename is:train_credit_bureau_a_2_4.csv\u001b[0m\n",
      "\u001b[32m2024-03-01 13:04:39.924\u001b[0m | \u001b[1mINFO    \u001b[0m | \u001b[36m__main__\u001b[0m:\u001b[36m<module>\u001b[0m:\u001b[36m3\u001b[0m - \u001b[1mFilename is:train_credit_bureau_a_2_9.csv\u001b[0m\n",
      "\u001b[32m2024-03-01 13:04:39.925\u001b[0m | \u001b[1mINFO    \u001b[0m | \u001b[36m__main__\u001b[0m:\u001b[36m<module>\u001b[0m:\u001b[36m3\u001b[0m - \u001b[1mFilename is:train_credit_bureau_a_2_3.csv\u001b[0m\n",
      "\u001b[32m2024-03-01 13:04:39.926\u001b[0m | \u001b[1mINFO    \u001b[0m | \u001b[36m__main__\u001b[0m:\u001b[36m<module>\u001b[0m:\u001b[36m3\u001b[0m - \u001b[1mFilename is:train_credit_bureau_a_2_7.csv\u001b[0m\n",
      "\u001b[32m2024-03-01 13:04:39.927\u001b[0m | \u001b[1mINFO    \u001b[0m | \u001b[36m__main__\u001b[0m:\u001b[36m<module>\u001b[0m:\u001b[36m3\u001b[0m - \u001b[1mFilename is:train_credit_bureau_b_2.csv\u001b[0m\n",
      "\u001b[32m2024-03-01 13:04:39.928\u001b[0m | \u001b[1mINFO    \u001b[0m | \u001b[36m__main__\u001b[0m:\u001b[36m<module>\u001b[0m:\u001b[36m3\u001b[0m - \u001b[1mFilename is:train_credit_bureau_a_2_2.csv\u001b[0m\n",
      "\u001b[32m2024-03-01 13:04:39.929\u001b[0m | \u001b[1mINFO    \u001b[0m | \u001b[36m__main__\u001b[0m:\u001b[36m<module>\u001b[0m:\u001b[36m3\u001b[0m - \u001b[1mFilename is:train_static_0_1.csv\u001b[0m\n",
      "\u001b[32m2024-03-01 13:04:39.930\u001b[0m | \u001b[1mINFO    \u001b[0m | \u001b[36m__main__\u001b[0m:\u001b[36m<module>\u001b[0m:\u001b[36m3\u001b[0m - \u001b[1mFilename is:train_deposit_1.csv\u001b[0m\n",
      "\u001b[32m2024-03-01 13:04:39.931\u001b[0m | \u001b[1mINFO    \u001b[0m | \u001b[36m__main__\u001b[0m:\u001b[36m<module>\u001b[0m:\u001b[36m3\u001b[0m - \u001b[1mFilename is:train_credit_bureau_a_2_10.csv\u001b[0m\n",
      "\u001b[32m2024-03-01 13:04:39.932\u001b[0m | \u001b[1mINFO    \u001b[0m | \u001b[36m__main__\u001b[0m:\u001b[36m<module>\u001b[0m:\u001b[36m3\u001b[0m - \u001b[1mFilename is:train_tax_registry_b_1.csv\u001b[0m\n",
      "\u001b[32m2024-03-01 13:04:39.933\u001b[0m | \u001b[1mINFO    \u001b[0m | \u001b[36m__main__\u001b[0m:\u001b[36m<module>\u001b[0m:\u001b[36m3\u001b[0m - \u001b[1mFilename is:train_applprev_1_1.csv\u001b[0m\n",
      "\u001b[32m2024-03-01 13:04:39.934\u001b[0m | \u001b[1mINFO    \u001b[0m | \u001b[36m__main__\u001b[0m:\u001b[36m<module>\u001b[0m:\u001b[36m3\u001b[0m - \u001b[1mFilename is:train_credit_bureau_a_2_1.csv\u001b[0m\n",
      "\u001b[32m2024-03-01 13:04:39.935\u001b[0m | \u001b[1mINFO    \u001b[0m | \u001b[36m__main__\u001b[0m:\u001b[36m<module>\u001b[0m:\u001b[36m3\u001b[0m - \u001b[1mFilename is:train_credit_bureau_a_2_8.csv\u001b[0m\n",
      "\u001b[32m2024-03-01 13:04:39.936\u001b[0m | \u001b[1mINFO    \u001b[0m | \u001b[36m__main__\u001b[0m:\u001b[36m<module>\u001b[0m:\u001b[36m3\u001b[0m - \u001b[1mFilename is:train_credit_bureau_a_2_5.csv\u001b[0m\n",
      "\u001b[32m2024-03-01 13:04:39.937\u001b[0m | \u001b[1mINFO    \u001b[0m | \u001b[36m__main__\u001b[0m:\u001b[36m<module>\u001b[0m:\u001b[36m3\u001b[0m - \u001b[1mFilename is:train_credit_bureau_b_1.csv\u001b[0m\n",
      "\u001b[32m2024-03-01 13:04:39.938\u001b[0m | \u001b[1mINFO    \u001b[0m | \u001b[36m__main__\u001b[0m:\u001b[36m<module>\u001b[0m:\u001b[36m3\u001b[0m - \u001b[1mFilename is:train_credit_bureau_a_2_0.csv\u001b[0m\n",
      "\u001b[32m2024-03-01 13:04:39.939\u001b[0m | \u001b[1mINFO    \u001b[0m | \u001b[36m__main__\u001b[0m:\u001b[36m<module>\u001b[0m:\u001b[36m3\u001b[0m - \u001b[1mFilename is:train_other_1.csv\u001b[0m\n",
      "\u001b[32m2024-03-01 13:04:39.940\u001b[0m | \u001b[1mINFO    \u001b[0m | \u001b[36m__main__\u001b[0m:\u001b[36m<module>\u001b[0m:\u001b[36m3\u001b[0m - \u001b[1mFilename is:train_debitcard_1.csv\u001b[0m\n"
     ]
    }
   ],
   "source": [
    "for dirname, _, filenames in os.walk('/kaggle/input/home-credit-credit-risk-model-stability/csv_files/train/'):\n",
    "    for filename in filenames:\n",
    "        logger.info(f\"Filename is:{filename}\")"
   ]
  },
  {
   "cell_type": "markdown",
   "id": "3eaccefc",
   "metadata": {
    "papermill": {
     "duration": 0.018901,
     "end_time": "2024-03-01T13:04:39.994869",
     "exception": false,
     "start_time": "2024-03-01T13:04:39.975968",
     "status": "completed"
    },
    "tags": []
   },
   "source": [
    "## Base data"
   ]
  },
  {
   "cell_type": "code",
   "execution_count": 5,
   "id": "5922d558",
   "metadata": {
    "execution": {
     "iopub.execute_input": "2024-03-01T13:04:40.033999Z",
     "iopub.status.busy": "2024-03-01T13:04:40.033567Z",
     "iopub.status.idle": "2024-03-01T13:04:41.789196Z",
     "shell.execute_reply": "2024-03-01T13:04:41.787992Z"
    },
    "papermill": {
     "duration": 1.779498,
     "end_time": "2024-03-01T13:04:41.792585",
     "exception": false,
     "start_time": "2024-03-01T13:04:40.013087",
     "status": "completed"
    },
    "tags": []
   },
   "outputs": [],
   "source": [
    "df_base = pd.read_csv(\"/kaggle/input/home-credit-credit-risk-model-stability/csv_files/train/train_base.csv\")"
   ]
  },
  {
   "cell_type": "code",
   "execution_count": 6,
   "id": "e1846d58",
   "metadata": {
    "execution": {
     "iopub.execute_input": "2024-03-01T13:04:41.831930Z",
     "iopub.status.busy": "2024-03-01T13:04:41.831487Z",
     "iopub.status.idle": "2024-03-01T13:04:42.035162Z",
     "shell.execute_reply": "2024-03-01T13:04:42.033900Z"
    },
    "papermill": {
     "duration": 0.227019,
     "end_time": "2024-03-01T13:04:42.038261",
     "exception": false,
     "start_time": "2024-03-01T13:04:41.811242",
     "status": "completed"
    },
    "tags": []
   },
   "outputs": [
    {
     "name": "stdout",
     "output_type": "stream",
     "text": [
      "<class 'pandas.core.frame.DataFrame'>\n",
      "RangeIndex: 1526659 entries, 0 to 1526658\n",
      "Data columns (total 5 columns):\n",
      " #   Column         Non-Null Count    Dtype \n",
      "---  ------         --------------    ----- \n",
      " 0   case_id        1526659 non-null  int64 \n",
      " 1   date_decision  1526659 non-null  object\n",
      " 2   MONTH          1526659 non-null  int64 \n",
      " 3   WEEK_NUM       1526659 non-null  int64 \n",
      " 4   target         1526659 non-null  int64 \n",
      "dtypes: int64(4), object(1)\n",
      "memory usage: 58.2+ MB\n"
     ]
    }
   ],
   "source": [
    "df_base.info()"
   ]
  },
  {
   "cell_type": "code",
   "execution_count": 7,
   "id": "45d2d304",
   "metadata": {
    "execution": {
     "iopub.execute_input": "2024-03-01T13:04:42.081599Z",
     "iopub.status.busy": "2024-03-01T13:04:42.081120Z",
     "iopub.status.idle": "2024-03-01T13:04:42.171489Z",
     "shell.execute_reply": "2024-03-01T13:04:42.170084Z"
    },
    "papermill": {
     "duration": 0.116429,
     "end_time": "2024-03-01T13:04:42.173984",
     "exception": false,
     "start_time": "2024-03-01T13:04:42.057555",
     "status": "completed"
    },
    "tags": []
   },
   "outputs": [
    {
     "name": "stderr",
     "output_type": "stream",
     "text": [
      "\u001b[32m2024-03-01 13:04:42.166\u001b[0m | \u001b[1mINFO    \u001b[0m | \u001b[36m__main__\u001b[0m:\u001b[36m<module>\u001b[0m:\u001b[36m1\u001b[0m - \u001b[1mNumber of unique records: 1526659\u001b[0m\n"
     ]
    }
   ],
   "source": [
    "logger.info(f\"Number of unique records: {df_base['case_id'].nunique()}\")"
   ]
  },
  {
   "cell_type": "code",
   "execution_count": 8,
   "id": "5424b551",
   "metadata": {
    "execution": {
     "iopub.execute_input": "2024-03-01T13:04:42.213587Z",
     "iopub.status.busy": "2024-03-01T13:04:42.213139Z",
     "iopub.status.idle": "2024-03-01T13:04:42.436775Z",
     "shell.execute_reply": "2024-03-01T13:04:42.435126Z"
    },
    "papermill": {
     "duration": 0.247191,
     "end_time": "2024-03-01T13:04:42.439966",
     "exception": false,
     "start_time": "2024-03-01T13:04:42.192775",
     "status": "completed"
    },
    "tags": []
   },
   "outputs": [
    {
     "name": "stdout",
     "output_type": "stream",
     "text": [
      "Memory usage of dataframe is 58.24 MB\n",
      "Memory usage after optimization is: 17.49 MB\n",
      "Decreased by 70.0%\n"
     ]
    }
   ],
   "source": [
    "df_base = reduce_mem_usage(df_base)"
   ]
  },
  {
   "cell_type": "markdown",
   "id": "75273a36",
   "metadata": {
    "papermill": {
     "duration": 0.018258,
     "end_time": "2024-03-01T13:04:42.477021",
     "exception": false,
     "start_time": "2024-03-01T13:04:42.458763",
     "status": "completed"
    },
    "tags": []
   },
   "source": [
    "### Datasets with depth 0 "
   ]
  },
  {
   "cell_type": "markdown",
   "id": "42f01fe9",
   "metadata": {
    "papermill": {
     "duration": 0.018256,
     "end_time": "2024-03-01T13:04:42.513937",
     "exception": false,
     "start_time": "2024-03-01T13:04:42.495681",
     "status": "completed"
    },
    "tags": []
   },
   "source": [
    "#### Static data"
   ]
  },
  {
   "cell_type": "code",
   "execution_count": 9,
   "id": "ab57800d",
   "metadata": {
    "execution": {
     "iopub.execute_input": "2024-03-01T13:04:42.553833Z",
     "iopub.status.busy": "2024-03-01T13:04:42.552502Z",
     "iopub.status.idle": "2024-03-01T13:05:37.459767Z",
     "shell.execute_reply": "2024-03-01T13:05:37.458715Z"
    },
    "papermill": {
     "duration": 54.930415,
     "end_time": "2024-03-01T13:05:37.462822",
     "exception": false,
     "start_time": "2024-03-01T13:04:42.532407",
     "status": "completed"
    },
    "tags": []
   },
   "outputs": [],
   "source": [
    "df_static_0 = pd.read_csv(\"/kaggle/input/home-credit-credit-risk-model-stability/csv_files/train/train_static_0_0.csv\")\n",
    "df_static_1 = pd.read_csv(\"/kaggle/input/home-credit-credit-risk-model-stability/csv_files/train/train_static_0_1.csv\")"
   ]
  },
  {
   "cell_type": "code",
   "execution_count": 10,
   "id": "ab65de3e",
   "metadata": {
    "execution": {
     "iopub.execute_input": "2024-03-01T13:05:37.502944Z",
     "iopub.status.busy": "2024-03-01T13:05:37.501729Z",
     "iopub.status.idle": "2024-03-01T13:05:50.389286Z",
     "shell.execute_reply": "2024-03-01T13:05:50.387863Z"
    },
    "papermill": {
     "duration": 12.910382,
     "end_time": "2024-03-01T13:05:50.391908",
     "exception": false,
     "start_time": "2024-03-01T13:05:37.481526",
     "status": "completed"
    },
    "tags": []
   },
   "outputs": [
    {
     "name": "stdout",
     "output_type": "stream",
     "text": [
      "Memory usage of dataframe is 1279.85 MB\n",
      "Memory usage after optimization is: 361.68 MB\n",
      "Decreased by 71.7%\n",
      "Memory usage of dataframe is 666.73 MB\n",
      "Memory usage after optimization is: 190.29 MB\n",
      "Decreased by 71.5%\n"
     ]
    }
   ],
   "source": [
    "df_static_0 = reduce_mem_usage(df_static_0)\n",
    "df_static_1 = reduce_mem_usage(df_static_1)"
   ]
  },
  {
   "cell_type": "code",
   "execution_count": 11,
   "id": "edf6249a",
   "metadata": {
    "execution": {
     "iopub.execute_input": "2024-03-01T13:05:50.433716Z",
     "iopub.status.busy": "2024-03-01T13:05:50.433219Z",
     "iopub.status.idle": "2024-03-01T13:05:50.485567Z",
     "shell.execute_reply": "2024-03-01T13:05:50.484005Z"
    },
    "papermill": {
     "duration": 0.077616,
     "end_time": "2024-03-01T13:05:50.488694",
     "exception": false,
     "start_time": "2024-03-01T13:05:50.411078",
     "status": "completed"
    },
    "tags": []
   },
   "outputs": [
    {
     "name": "stderr",
     "output_type": "stream",
     "text": [
      "\u001b[32m2024-03-01 13:05:50.464\u001b[0m | \u001b[1mINFO    \u001b[0m | \u001b[36m__main__\u001b[0m:\u001b[36m<module>\u001b[0m:\u001b[36m1\u001b[0m - \u001b[1mNumber of unique records in 0: 1003757\u001b[0m\n",
      "\u001b[32m2024-03-01 13:05:50.480\u001b[0m | \u001b[1mINFO    \u001b[0m | \u001b[36m__main__\u001b[0m:\u001b[36m<module>\u001b[0m:\u001b[36m2\u001b[0m - \u001b[1mNumber of unique records in 1: 522902\u001b[0m\n"
     ]
    }
   ],
   "source": [
    "logger.info(f\"Number of unique records in 0: {df_static_0['case_id'].nunique()}\")\n",
    "logger.info(f\"Number of unique records in 1: {df_static_1['case_id'].nunique()}\")"
   ]
  },
  {
   "cell_type": "code",
   "execution_count": 12,
   "id": "170fa57d",
   "metadata": {
    "execution": {
     "iopub.execute_input": "2024-03-01T13:05:50.530798Z",
     "iopub.status.busy": "2024-03-01T13:05:50.530345Z",
     "iopub.status.idle": "2024-03-01T13:05:51.735257Z",
     "shell.execute_reply": "2024-03-01T13:05:51.734037Z"
    },
    "papermill": {
     "duration": 1.229144,
     "end_time": "2024-03-01T13:05:51.738232",
     "exception": false,
     "start_time": "2024-03-01T13:05:50.509088",
     "status": "completed"
    },
    "tags": []
   },
   "outputs": [],
   "source": [
    "## Combining the datasets\n",
    "df_static = pd.concat([df_static_0,df_static_1],ignore_index=True)"
   ]
  },
  {
   "cell_type": "code",
   "execution_count": 13,
   "id": "12d253aa",
   "metadata": {
    "execution": {
     "iopub.execute_input": "2024-03-01T13:05:51.780594Z",
     "iopub.status.busy": "2024-03-01T13:05:51.780092Z",
     "iopub.status.idle": "2024-03-01T13:06:00.763221Z",
     "shell.execute_reply": "2024-03-01T13:06:00.762066Z"
    },
    "papermill": {
     "duration": 9.007316,
     "end_time": "2024-03-01T13:06:00.765867",
     "exception": false,
     "start_time": "2024-03-01T13:05:51.758551",
     "status": "completed"
    },
    "tags": []
   },
   "outputs": [
    {
     "name": "stdout",
     "output_type": "stream",
     "text": [
      "Memory usage of dataframe is 768.74 MB\n",
      "Memory usage after optimization is: 552.16 MB\n",
      "Decreased by 28.2%\n"
     ]
    }
   ],
   "source": [
    "df_static = reduce_mem_usage(df_static)"
   ]
  },
  {
   "cell_type": "code",
   "execution_count": 14,
   "id": "6b71e55f",
   "metadata": {
    "execution": {
     "iopub.execute_input": "2024-03-01T13:06:00.807408Z",
     "iopub.status.busy": "2024-03-01T13:06:00.806928Z",
     "iopub.status.idle": "2024-03-01T13:06:00.854564Z",
     "shell.execute_reply": "2024-03-01T13:06:00.853061Z"
    },
    "papermill": {
     "duration": 0.071476,
     "end_time": "2024-03-01T13:06:00.857342",
     "exception": false,
     "start_time": "2024-03-01T13:06:00.785866",
     "status": "completed"
    },
    "tags": []
   },
   "outputs": [
    {
     "name": "stderr",
     "output_type": "stream",
     "text": [
      "\u001b[32m2024-03-01 13:06:00.849\u001b[0m | \u001b[1mINFO    \u001b[0m | \u001b[36m__main__\u001b[0m:\u001b[36m<module>\u001b[0m:\u001b[36m1\u001b[0m - \u001b[1mTotal records in static dataset: 1526659\u001b[0m\n"
     ]
    }
   ],
   "source": [
    "logger.info(f\"Total records in static dataset: {df_static['case_id'].nunique()}\")"
   ]
  },
  {
   "cell_type": "markdown",
   "id": "d8cadd99",
   "metadata": {
    "papermill": {
     "duration": 0.019758,
     "end_time": "2024-03-01T13:06:00.897614",
     "exception": false,
     "start_time": "2024-03-01T13:06:00.877856",
     "status": "completed"
    },
    "tags": []
   },
   "source": [
    "#### Static CB"
   ]
  },
  {
   "cell_type": "code",
   "execution_count": 15,
   "id": "2c707b60",
   "metadata": {
    "execution": {
     "iopub.execute_input": "2024-03-01T13:06:01.032991Z",
     "iopub.status.busy": "2024-03-01T13:06:01.032521Z",
     "iopub.status.idle": "2024-03-01T13:06:13.857565Z",
     "shell.execute_reply": "2024-03-01T13:06:13.856203Z"
    },
    "papermill": {
     "duration": 12.851686,
     "end_time": "2024-03-01T13:06:13.861267",
     "exception": false,
     "start_time": "2024-03-01T13:06:01.009581",
     "status": "completed"
    },
    "tags": []
   },
   "outputs": [],
   "source": [
    "df_static_cb = pd.read_csv(\"/kaggle/input/home-credit-credit-risk-model-stability/csv_files/train/train_static_cb_0.csv\")"
   ]
  },
  {
   "cell_type": "code",
   "execution_count": 16,
   "id": "8efb8940",
   "metadata": {
    "execution": {
     "iopub.execute_input": "2024-03-01T13:06:13.910121Z",
     "iopub.status.busy": "2024-03-01T13:06:13.908861Z",
     "iopub.status.idle": "2024-03-01T13:06:13.976964Z",
     "shell.execute_reply": "2024-03-01T13:06:13.975633Z"
    },
    "papermill": {
     "duration": 0.092029,
     "end_time": "2024-03-01T13:06:13.979511",
     "exception": false,
     "start_time": "2024-03-01T13:06:13.887482",
     "status": "completed"
    },
    "tags": []
   },
   "outputs": [
    {
     "name": "stderr",
     "output_type": "stream",
     "text": [
      "\u001b[32m2024-03-01 13:06:13.972\u001b[0m | \u001b[1mINFO    \u001b[0m | \u001b[36m__main__\u001b[0m:\u001b[36m<module>\u001b[0m:\u001b[36m1\u001b[0m - \u001b[1mNumber of unique records in 0: 1500476\u001b[0m\n"
     ]
    }
   ],
   "source": [
    "logger.info(f\"Number of unique records in 0: {df_static_cb['case_id'].nunique()}\")"
   ]
  },
  {
   "cell_type": "code",
   "execution_count": 17,
   "id": "eea2b6fc",
   "metadata": {
    "execution": {
     "iopub.execute_input": "2024-03-01T13:06:14.022488Z",
     "iopub.status.busy": "2024-03-01T13:06:14.021985Z",
     "iopub.status.idle": "2024-03-01T13:06:18.560588Z",
     "shell.execute_reply": "2024-03-01T13:06:18.559359Z"
    },
    "papermill": {
     "duration": 4.564346,
     "end_time": "2024-03-01T13:06:18.563287",
     "exception": false,
     "start_time": "2024-03-01T13:06:13.998941",
     "status": "completed"
    },
    "tags": []
   },
   "outputs": [
    {
     "name": "stdout",
     "output_type": "stream",
     "text": [
      "Memory usage of dataframe is 606.73 MB\n",
      "Memory usage after optimization is: 159.58 MB\n",
      "Decreased by 73.7%\n",
      "<class 'pandas.core.frame.DataFrame'>\n",
      "RangeIndex: 1500476 entries, 0 to 1500475\n",
      "Data columns (total 53 columns):\n",
      " #   Column                   Non-Null Count    Dtype   \n",
      "---  ------                   --------------    -----   \n",
      " 0   case_id                  1500476 non-null  int32   \n",
      " 1   assignmentdate_238D      136996 non-null   category\n",
      " 2   assignmentdate_4527235D  114978 non-null   category\n",
      " 3   assignmentdate_4955616D  71633 non-null    category\n",
      " 4   birthdate_574D           607871 non-null   category\n",
      " 5   contractssum_5085716L    157329 non-null   float32 \n",
      " 6   dateofbirth_337D         1385691 non-null  category\n",
      " 7   dateofbirth_342D         36500 non-null    category\n",
      " 8   days120_123L             1385691 non-null  float16 \n",
      " 9   days180_256L             1385691 non-null  float16 \n",
      " 10  days30_165L              1385691 non-null  float16 \n",
      " 11  days360_512L             1385691 non-null  float16 \n",
      " 12  days90_310L              1385691 non-null  float16 \n",
      " 13  description_5085714M     1500476 non-null  category\n",
      " 14  education_1103M          1500476 non-null  category\n",
      " 15  education_88M            1500476 non-null  category\n",
      " 16  firstquarter_103L        1385691 non-null  float16 \n",
      " 17  for3years_128L           36514 non-null    float16 \n",
      " 18  for3years_504L           36514 non-null    float16 \n",
      " 19  for3years_584L           36514 non-null    float16 \n",
      " 20  formonth_118L            36514 non-null    float16 \n",
      " 21  formonth_206L            36514 non-null    float16 \n",
      " 22  formonth_535L            36514 non-null    float16 \n",
      " 23  forquarter_1017L         36514 non-null    float16 \n",
      " 24  forquarter_462L          36514 non-null    float16 \n",
      " 25  forquarter_634L          36514 non-null    float16 \n",
      " 26  fortoday_1092L           36514 non-null    float16 \n",
      " 27  forweek_1077L            36514 non-null    float16 \n",
      " 28  forweek_528L             36514 non-null    float16 \n",
      " 29  forweek_601L             36514 non-null    float16 \n",
      " 30  foryear_618L             36514 non-null    float16 \n",
      " 31  foryear_818L             36514 non-null    float16 \n",
      " 32  foryear_850L             36514 non-null    float16 \n",
      " 33  fourthquarter_440L       1385691 non-null  float16 \n",
      " 34  maritalst_385M           1500476 non-null  category\n",
      " 35  maritalst_893M           1500476 non-null  category\n",
      " 36  numberofqueries_373L     1385691 non-null  float16 \n",
      " 37  pmtaverage_3A            143589 non-null   float32 \n",
      " 38  pmtaverage_4527227A      114978 non-null   float32 \n",
      " 39  pmtaverage_4955615A      71845 non-null    float32 \n",
      " 40  pmtcount_4527229L        114978 non-null   float16 \n",
      " 41  pmtcount_4955617L        71845 non-null    float16 \n",
      " 42  pmtcount_693L            146406 non-null   float16 \n",
      " 43  pmtscount_423L           572638 non-null   float16 \n",
      " 44  pmtssum_45A              572638 non-null   float32 \n",
      " 45  requesttype_4525192L     673264 non-null   category\n",
      " 46  responsedate_1012D       720000 non-null   category\n",
      " 47  responsedate_4527233D    660327 non-null   category\n",
      " 48  responsedate_4917613D    224912 non-null   category\n",
      " 49  riskassesment_302T       53559 non-null    category\n",
      " 50  riskassesment_940T       53560 non-null    float16 \n",
      " 51  secondquarter_766L       1385691 non-null  float16 \n",
      " 52  thirdquarter_1082L       1385691 non-null  float16 \n",
      "dtypes: category(16), float16(31), float32(5), int32(1)\n",
      "memory usage: 159.6 MB\n"
     ]
    }
   ],
   "source": [
    "df_static_cb = reduce_mem_usage(df_static_cb)\n",
    "df_static_cb.info()"
   ]
  },
  {
   "cell_type": "code",
   "execution_count": 18,
   "id": "27155bf2",
   "metadata": {
    "execution": {
     "iopub.execute_input": "2024-03-01T13:06:18.605193Z",
     "iopub.status.busy": "2024-03-01T13:06:18.604396Z",
     "iopub.status.idle": "2024-03-01T13:06:18.706047Z",
     "shell.execute_reply": "2024-03-01T13:06:18.704876Z"
    },
    "papermill": {
     "duration": 0.12597,
     "end_time": "2024-03-01T13:06:18.708849",
     "exception": false,
     "start_time": "2024-03-01T13:06:18.582879",
     "status": "completed"
    },
    "tags": []
   },
   "outputs": [
    {
     "data": {
      "text/plain": [
       "0"
      ]
     },
     "execution_count": 18,
     "metadata": {},
     "output_type": "execute_result"
    }
   ],
   "source": [
    "gc.collect()"
   ]
  },
  {
   "cell_type": "markdown",
   "id": "61eae6cc",
   "metadata": {
    "execution": {
     "iopub.execute_input": "2024-02-28T16:35:42.588424Z",
     "iopub.status.busy": "2024-02-28T16:35:42.588056Z",
     "iopub.status.idle": "2024-02-28T16:35:42.595557Z",
     "shell.execute_reply": "2024-02-28T16:35:42.594270Z",
     "shell.execute_reply.started": "2024-02-28T16:35:42.588398Z"
    },
    "papermill": {
     "duration": 0.019693,
     "end_time": "2024-03-01T13:06:18.749190",
     "exception": false,
     "start_time": "2024-03-01T13:06:18.729497",
     "status": "completed"
    },
    "tags": []
   },
   "source": [
    "##### Saving the new files "
   ]
  },
  {
   "cell_type": "code",
   "execution_count": 19,
   "id": "81e26dc6",
   "metadata": {
    "execution": {
     "iopub.execute_input": "2024-03-01T13:06:18.791645Z",
     "iopub.status.busy": "2024-03-01T13:06:18.791193Z",
     "iopub.status.idle": "2024-03-01T13:06:19.925162Z",
     "shell.execute_reply": "2024-03-01T13:06:19.923622Z"
    },
    "papermill": {
     "duration": 1.159119,
     "end_time": "2024-03-01T13:06:19.928349",
     "exception": false,
     "start_time": "2024-03-01T13:06:18.769230",
     "status": "completed"
    },
    "tags": []
   },
   "outputs": [
    {
     "name": "stdout",
     "output_type": "stream",
     "text": [
      "/kaggle/working\r\n"
     ]
    }
   ],
   "source": [
    "!pwd"
   ]
  },
  {
   "cell_type": "code",
   "execution_count": 20,
   "id": "9af408cf",
   "metadata": {
    "execution": {
     "iopub.execute_input": "2024-03-01T13:06:19.973144Z",
     "iopub.status.busy": "2024-03-01T13:06:19.972653Z",
     "iopub.status.idle": "2024-03-01T13:06:21.107584Z",
     "shell.execute_reply": "2024-03-01T13:06:21.105837Z"
    },
    "papermill": {
     "duration": 1.16201,
     "end_time": "2024-03-01T13:06:21.110879",
     "exception": false,
     "start_time": "2024-03-01T13:06:19.948869",
     "status": "completed"
    },
    "tags": []
   },
   "outputs": [],
   "source": [
    "mkdir train"
   ]
  },
  {
   "cell_type": "code",
   "execution_count": 21,
   "id": "2ad22f90",
   "metadata": {
    "execution": {
     "iopub.execute_input": "2024-03-01T13:06:21.155336Z",
     "iopub.status.busy": "2024-03-01T13:06:21.154771Z",
     "iopub.status.idle": "2024-03-01T13:06:39.354314Z",
     "shell.execute_reply": "2024-03-01T13:06:39.352936Z"
    },
    "papermill": {
     "duration": 18.225621,
     "end_time": "2024-03-01T13:06:39.357431",
     "exception": false,
     "start_time": "2024-03-01T13:06:21.131810",
     "status": "completed"
    },
    "tags": []
   },
   "outputs": [],
   "source": [
    "df_base.to_parquet('train/train_base.parquet')\n",
    "df_static.to_parquet('train/train_static.parquet')\n",
    "df_static_cb.to_parquet('train/train_static_cb.parquet')"
   ]
  },
  {
   "cell_type": "code",
   "execution_count": null,
   "id": "c42a6e57",
   "metadata": {
    "papermill": {
     "duration": 0.019993,
     "end_time": "2024-03-01T13:06:39.398205",
     "exception": false,
     "start_time": "2024-03-01T13:06:39.378212",
     "status": "completed"
    },
    "tags": []
   },
   "outputs": [],
   "source": []
  },
  {
   "cell_type": "markdown",
   "id": "a0ec4080",
   "metadata": {
    "papermill": {
     "duration": 0.019578,
     "end_time": "2024-03-01T13:06:39.437843",
     "exception": false,
     "start_time": "2024-03-01T13:06:39.418265",
     "status": "completed"
    },
    "tags": []
   },
   "source": [
    "### Datasets with Depth 1"
   ]
  },
  {
   "cell_type": "code",
   "execution_count": 22,
   "id": "a4d9a31e",
   "metadata": {
    "execution": {
     "iopub.execute_input": "2024-03-01T13:06:39.480674Z",
     "iopub.status.busy": "2024-03-01T13:06:39.480215Z",
     "iopub.status.idle": "2024-03-01T13:07:50.013523Z",
     "shell.execute_reply": "2024-03-01T13:07:50.011496Z"
    },
    "papermill": {
     "duration": 70.558851,
     "end_time": "2024-03-01T13:07:50.016728",
     "exception": false,
     "start_time": "2024-03-01T13:06:39.457877",
     "status": "completed"
    },
    "tags": []
   },
   "outputs": [],
   "source": [
    "df_applprev_1_0 = pd.read_csv(\"/kaggle/input/home-credit-credit-risk-model-stability/csv_files/train/train_applprev_1_0.csv\")\n",
    "\n",
    "df_applprev_1_1 = pd.read_csv(\"/kaggle/input/home-credit-credit-risk-model-stability/csv_files/train/train_applprev_1_1.csv\")\n",
    "\n",
    "df_applprev = pd.concat([df_applprev_1_0,df_applprev_1_1],ignore_index=True)"
   ]
  },
  {
   "cell_type": "code",
   "execution_count": 23,
   "id": "c7253148",
   "metadata": {
    "execution": {
     "iopub.execute_input": "2024-03-01T13:07:50.061891Z",
     "iopub.status.busy": "2024-03-01T13:07:50.061423Z",
     "iopub.status.idle": "2024-03-01T13:08:15.957354Z",
     "shell.execute_reply": "2024-03-01T13:08:15.955888Z"
    },
    "papermill": {
     "duration": 25.921846,
     "end_time": "2024-03-01T13:08:15.960279",
     "exception": false,
     "start_time": "2024-03-01T13:07:50.038433",
     "status": "completed"
    },
    "tags": []
   },
   "outputs": [
    {
     "name": "stdout",
     "output_type": "stream",
     "text": [
      "Memory usage of dataframe is 2041.36 MB\n",
      "Memory usage after optimization is: 592.79 MB\n",
      "Decreased by 71.0%\n"
     ]
    }
   ],
   "source": [
    "df_applprev = reduce_mem_usage(df_applprev)"
   ]
  },
  {
   "cell_type": "code",
   "execution_count": 24,
   "id": "058e4797",
   "metadata": {
    "execution": {
     "iopub.execute_input": "2024-03-01T13:08:16.003972Z",
     "iopub.status.busy": "2024-03-01T13:08:16.003234Z",
     "iopub.status.idle": "2024-03-01T13:08:30.447467Z",
     "shell.execute_reply": "2024-03-01T13:08:30.446361Z"
    },
    "papermill": {
     "duration": 14.469755,
     "end_time": "2024-03-01T13:08:30.450519",
     "exception": false,
     "start_time": "2024-03-01T13:08:15.980764",
     "status": "completed"
    },
    "tags": []
   },
   "outputs": [],
   "source": [
    "df_applprev.to_parquet('/kaggle/working/train/train_applprev.parquet')"
   ]
  },
  {
   "cell_type": "code",
   "execution_count": 25,
   "id": "5329e7e5",
   "metadata": {
    "execution": {
     "iopub.execute_input": "2024-03-01T13:08:30.495255Z",
     "iopub.status.busy": "2024-03-01T13:08:30.494492Z",
     "iopub.status.idle": "2024-03-01T13:08:30.572146Z",
     "shell.execute_reply": "2024-03-01T13:08:30.570968Z"
    },
    "papermill": {
     "duration": 0.102495,
     "end_time": "2024-03-01T13:08:30.574971",
     "exception": false,
     "start_time": "2024-03-01T13:08:30.472476",
     "status": "completed"
    },
    "tags": []
   },
   "outputs": [],
   "source": [
    "df_other = pd.read_csv(\"/kaggle/input/home-credit-credit-risk-model-stability/csv_files/train/train_other_1.csv\")"
   ]
  },
  {
   "cell_type": "code",
   "execution_count": 26,
   "id": "f5eeaac3",
   "metadata": {
    "execution": {
     "iopub.execute_input": "2024-03-01T13:08:30.618611Z",
     "iopub.status.busy": "2024-03-01T13:08:30.618130Z",
     "iopub.status.idle": "2024-03-01T13:08:30.635001Z",
     "shell.execute_reply": "2024-03-01T13:08:30.633727Z"
    },
    "papermill": {
     "duration": 0.042052,
     "end_time": "2024-03-01T13:08:30.637715",
     "exception": false,
     "start_time": "2024-03-01T13:08:30.595663",
     "status": "completed"
    },
    "tags": []
   },
   "outputs": [
    {
     "name": "stdout",
     "output_type": "stream",
     "text": [
      "Memory usage of dataframe is 2.73 MB\n",
      "Memory usage after optimization is: 1.22 MB\n",
      "Decreased by 55.4%\n"
     ]
    }
   ],
   "source": [
    "df_other = reduce_mem_usage(df_other)"
   ]
  },
  {
   "cell_type": "code",
   "execution_count": 27,
   "id": "e2df80c8",
   "metadata": {
    "execution": {
     "iopub.execute_input": "2024-03-01T13:08:30.682093Z",
     "iopub.status.busy": "2024-03-01T13:08:30.681652Z",
     "iopub.status.idle": "2024-03-01T13:08:30.714170Z",
     "shell.execute_reply": "2024-03-01T13:08:30.712767Z"
    },
    "papermill": {
     "duration": 0.05834,
     "end_time": "2024-03-01T13:08:30.717240",
     "exception": false,
     "start_time": "2024-03-01T13:08:30.658900",
     "status": "completed"
    },
    "tags": []
   },
   "outputs": [],
   "source": [
    "df_other.to_parquet('/kaggle/working/train/train_other.parquet')"
   ]
  },
  {
   "cell_type": "code",
   "execution_count": 28,
   "id": "85d9e21c",
   "metadata": {
    "execution": {
     "iopub.execute_input": "2024-03-01T13:08:30.760845Z",
     "iopub.status.busy": "2024-03-01T13:08:30.760381Z",
     "iopub.status.idle": "2024-03-01T13:08:34.944944Z",
     "shell.execute_reply": "2024-03-01T13:08:34.943550Z"
    },
    "papermill": {
     "duration": 4.209795,
     "end_time": "2024-03-01T13:08:34.948063",
     "exception": false,
     "start_time": "2024-03-01T13:08:30.738268",
     "status": "completed"
    },
    "tags": []
   },
   "outputs": [],
   "source": [
    "df_tax = pd.read_csv(\"/kaggle/input/home-credit-credit-risk-model-stability/csv_files/train/train_tax_registry_a_1.csv\")"
   ]
  },
  {
   "cell_type": "code",
   "execution_count": 29,
   "id": "3a75748d",
   "metadata": {
    "execution": {
     "iopub.execute_input": "2024-03-01T13:08:34.992994Z",
     "iopub.status.busy": "2024-03-01T13:08:34.992536Z",
     "iopub.status.idle": "2024-03-01T13:08:36.509977Z",
     "shell.execute_reply": "2024-03-01T13:08:36.508738Z"
    },
    "papermill": {
     "duration": 1.544049,
     "end_time": "2024-03-01T13:08:36.513593",
     "exception": false,
     "start_time": "2024-03-01T13:08:34.969544",
     "status": "completed"
    },
    "tags": []
   },
   "outputs": [
    {
     "name": "stdout",
     "output_type": "stream",
     "text": [
      "Memory usage of dataframe is 124.96 MB\n",
      "Memory usage after optimization is: 52.03 MB\n",
      "Decreased by 58.4%\n"
     ]
    }
   ],
   "source": [
    "df_tax = reduce_mem_usage(df_tax)"
   ]
  },
  {
   "cell_type": "code",
   "execution_count": 30,
   "id": "ee45a020",
   "metadata": {
    "execution": {
     "iopub.execute_input": "2024-03-01T13:08:36.556946Z",
     "iopub.status.busy": "2024-03-01T13:08:36.556505Z",
     "iopub.status.idle": "2024-03-01T13:08:36.581858Z",
     "shell.execute_reply": "2024-03-01T13:08:36.580604Z"
    },
    "papermill": {
     "duration": 0.050136,
     "end_time": "2024-03-01T13:08:36.584418",
     "exception": false,
     "start_time": "2024-03-01T13:08:36.534282",
     "status": "completed"
    },
    "tags": []
   },
   "outputs": [
    {
     "data": {
      "text/html": [
       "<div>\n",
       "<style scoped>\n",
       "    .dataframe tbody tr th:only-of-type {\n",
       "        vertical-align: middle;\n",
       "    }\n",
       "\n",
       "    .dataframe tbody tr th {\n",
       "        vertical-align: top;\n",
       "    }\n",
       "\n",
       "    .dataframe thead th {\n",
       "        text-align: right;\n",
       "    }\n",
       "</style>\n",
       "<table border=\"1\" class=\"dataframe\">\n",
       "  <thead>\n",
       "    <tr style=\"text-align: right;\">\n",
       "      <th></th>\n",
       "      <th>case_id</th>\n",
       "      <th>amount_4527230A</th>\n",
       "      <th>name_4527232M</th>\n",
       "      <th>num_group1</th>\n",
       "      <th>recorddate_4527225D</th>\n",
       "    </tr>\n",
       "  </thead>\n",
       "  <tbody>\n",
       "    <tr>\n",
       "      <th>0</th>\n",
       "      <td>28631</td>\n",
       "      <td>1946.000000</td>\n",
       "      <td>f980a1ea</td>\n",
       "      <td>2</td>\n",
       "      <td>2019-09-13</td>\n",
       "    </tr>\n",
       "    <tr>\n",
       "      <th>1</th>\n",
       "      <td>28631</td>\n",
       "      <td>711.000000</td>\n",
       "      <td>f980a1ea</td>\n",
       "      <td>3</td>\n",
       "      <td>2019-09-13</td>\n",
       "    </tr>\n",
       "    <tr>\n",
       "      <th>2</th>\n",
       "      <td>28631</td>\n",
       "      <td>3616.400146</td>\n",
       "      <td>f980a1ea</td>\n",
       "      <td>0</td>\n",
       "      <td>2019-09-13</td>\n",
       "    </tr>\n",
       "    <tr>\n",
       "      <th>3</th>\n",
       "      <td>28631</td>\n",
       "      <td>2600.000000</td>\n",
       "      <td>f980a1ea</td>\n",
       "      <td>1</td>\n",
       "      <td>2019-09-13</td>\n",
       "    </tr>\n",
       "  </tbody>\n",
       "</table>\n",
       "</div>"
      ],
      "text/plain": [
       "   case_id  amount_4527230A name_4527232M  num_group1 recorddate_4527225D\n",
       "0    28631      1946.000000      f980a1ea           2          2019-09-13\n",
       "1    28631       711.000000      f980a1ea           3          2019-09-13\n",
       "2    28631      3616.400146      f980a1ea           0          2019-09-13\n",
       "3    28631      2600.000000      f980a1ea           1          2019-09-13"
      ]
     },
     "execution_count": 30,
     "metadata": {},
     "output_type": "execute_result"
    }
   ],
   "source": [
    "df_tax[df_tax['case_id'] == 28631]"
   ]
  },
  {
   "cell_type": "code",
   "execution_count": 31,
   "id": "d7be408e",
   "metadata": {
    "execution": {
     "iopub.execute_input": "2024-03-01T13:08:36.628918Z",
     "iopub.status.busy": "2024-03-01T13:08:36.627865Z",
     "iopub.status.idle": "2024-03-01T13:08:37.837235Z",
     "shell.execute_reply": "2024-03-01T13:08:37.835854Z"
    },
    "papermill": {
     "duration": 1.23507,
     "end_time": "2024-03-01T13:08:37.840354",
     "exception": false,
     "start_time": "2024-03-01T13:08:36.605284",
     "status": "completed"
    },
    "tags": []
   },
   "outputs": [],
   "source": [
    "df_tax.to_parquet('/kaggle/working/train/train_tax.parquet')"
   ]
  },
  {
   "cell_type": "code",
   "execution_count": null,
   "id": "89ce5033",
   "metadata": {
    "papermill": {
     "duration": 0.020466,
     "end_time": "2024-03-01T13:08:37.881793",
     "exception": false,
     "start_time": "2024-03-01T13:08:37.861327",
     "status": "completed"
    },
    "tags": []
   },
   "outputs": [],
   "source": []
  },
  {
   "cell_type": "code",
   "execution_count": 32,
   "id": "a9315a9e",
   "metadata": {
    "execution": {
     "iopub.execute_input": "2024-03-01T13:08:37.925765Z",
     "iopub.status.busy": "2024-03-01T13:08:37.925313Z",
     "iopub.status.idle": "2024-03-01T13:08:40.895095Z",
     "shell.execute_reply": "2024-03-01T13:08:40.893592Z"
    },
    "papermill": {
     "duration": 2.995848,
     "end_time": "2024-03-01T13:08:40.898485",
     "exception": false,
     "start_time": "2024-03-01T13:08:37.902637",
     "status": "completed"
    },
    "tags": []
   },
   "outputs": [],
   "source": [
    "df_tax_registry = pd.read_csv(input_path+'train_tax_registry_a_1.csv')"
   ]
  },
  {
   "cell_type": "code",
   "execution_count": 33,
   "id": "202e496c",
   "metadata": {
    "execution": {
     "iopub.execute_input": "2024-03-01T13:08:40.943817Z",
     "iopub.status.busy": "2024-03-01T13:08:40.942885Z",
     "iopub.status.idle": "2024-03-01T13:08:42.487037Z",
     "shell.execute_reply": "2024-03-01T13:08:42.485825Z"
    },
    "papermill": {
     "duration": 1.569682,
     "end_time": "2024-03-01T13:08:42.489639",
     "exception": false,
     "start_time": "2024-03-01T13:08:40.919957",
     "status": "completed"
    },
    "tags": []
   },
   "outputs": [
    {
     "name": "stdout",
     "output_type": "stream",
     "text": [
      "Memory usage of dataframe is 124.96 MB\n",
      "Memory usage after optimization is: 52.03 MB\n",
      "Decreased by 58.4%\n"
     ]
    }
   ],
   "source": [
    "df_tax_registry = reduce_mem_usage(df_tax_registry)"
   ]
  },
  {
   "cell_type": "code",
   "execution_count": 34,
   "id": "241c491c",
   "metadata": {
    "execution": {
     "iopub.execute_input": "2024-03-01T13:08:42.534126Z",
     "iopub.status.busy": "2024-03-01T13:08:42.533655Z",
     "iopub.status.idle": "2024-03-01T13:08:43.710584Z",
     "shell.execute_reply": "2024-03-01T13:08:43.709232Z"
    },
    "papermill": {
     "duration": 1.203583,
     "end_time": "2024-03-01T13:08:43.714655",
     "exception": false,
     "start_time": "2024-03-01T13:08:42.511072",
     "status": "completed"
    },
    "tags": []
   },
   "outputs": [],
   "source": [
    "df_tax_registry.to_parquet(output_path+\"train_tax_registry.parquet\")"
   ]
  },
  {
   "cell_type": "code",
   "execution_count": null,
   "id": "cca4171e",
   "metadata": {
    "papermill": {
     "duration": 0.020768,
     "end_time": "2024-03-01T13:08:43.756693",
     "exception": false,
     "start_time": "2024-03-01T13:08:43.735925",
     "status": "completed"
    },
    "tags": []
   },
   "outputs": [],
   "source": []
  },
  {
   "cell_type": "code",
   "execution_count": 35,
   "id": "01491fd0",
   "metadata": {
    "execution": {
     "iopub.execute_input": "2024-03-01T13:08:43.800654Z",
     "iopub.status.busy": "2024-03-01T13:08:43.800147Z",
     "iopub.status.idle": "2024-03-01T13:08:45.059824Z",
     "shell.execute_reply": "2024-03-01T13:08:45.058494Z"
    },
    "papermill": {
     "duration": 1.28554,
     "end_time": "2024-03-01T13:08:45.063269",
     "exception": false,
     "start_time": "2024-03-01T13:08:43.777729",
     "status": "completed"
    },
    "tags": []
   },
   "outputs": [],
   "source": [
    "df_tax_registry_b = pd.read_csv(input_path+\"train_tax_registry_b_1.csv\")"
   ]
  },
  {
   "cell_type": "code",
   "execution_count": 36,
   "id": "b2f283ca",
   "metadata": {
    "execution": {
     "iopub.execute_input": "2024-03-01T13:08:45.107846Z",
     "iopub.status.busy": "2024-03-01T13:08:45.107348Z",
     "iopub.status.idle": "2024-03-01T13:08:45.365048Z",
     "shell.execute_reply": "2024-03-01T13:08:45.363653Z"
    },
    "papermill": {
     "duration": 0.283533,
     "end_time": "2024-03-01T13:08:45.368156",
     "exception": false,
     "start_time": "2024-03-01T13:08:45.084623",
     "status": "completed"
    },
    "tags": []
   },
   "outputs": [
    {
     "name": "stdout",
     "output_type": "stream",
     "text": [
      "<class 'pandas.core.frame.DataFrame'>\n",
      "RangeIndex: 1107933 entries, 0 to 1107932\n",
      "Data columns (total 5 columns):\n",
      " #   Column                  Non-Null Count    Dtype  \n",
      "---  ------                  --------------    -----  \n",
      " 0   case_id                 1107933 non-null  int64  \n",
      " 1   amount_4917619A         1107933 non-null  float64\n",
      " 2   deductiondate_4917603D  1107933 non-null  object \n",
      " 3   name_4917606M           1107933 non-null  object \n",
      " 4   num_group1              1107933 non-null  int64  \n",
      "dtypes: float64(1), int64(2), object(2)\n",
      "memory usage: 42.3+ MB\n"
     ]
    }
   ],
   "source": [
    "df_tax_registry_b.info()"
   ]
  },
  {
   "cell_type": "code",
   "execution_count": 37,
   "id": "385d3ceb",
   "metadata": {
    "execution": {
     "iopub.execute_input": "2024-03-01T13:08:45.412783Z",
     "iopub.status.busy": "2024-03-01T13:08:45.412340Z",
     "iopub.status.idle": "2024-03-01T13:08:45.863920Z",
     "shell.execute_reply": "2024-03-01T13:08:45.862551Z"
    },
    "papermill": {
     "duration": 0.477067,
     "end_time": "2024-03-01T13:08:45.866561",
     "exception": false,
     "start_time": "2024-03-01T13:08:45.389494",
     "status": "completed"
    },
    "tags": []
   },
   "outputs": [
    {
     "name": "stdout",
     "output_type": "stream",
     "text": [
      "Memory usage of dataframe is 42.26 MB\n",
      "Memory usage after optimization is: 18.30 MB\n",
      "Decreased by 56.7%\n"
     ]
    }
   ],
   "source": [
    "df_tax_registry_b = reduce_mem_usage(df_tax_registry_b)"
   ]
  },
  {
   "cell_type": "code",
   "execution_count": 38,
   "id": "35bcbce9",
   "metadata": {
    "execution": {
     "iopub.execute_input": "2024-03-01T13:08:45.911776Z",
     "iopub.status.busy": "2024-03-01T13:08:45.910849Z",
     "iopub.status.idle": "2024-03-01T13:08:46.306879Z",
     "shell.execute_reply": "2024-03-01T13:08:46.305326Z"
    },
    "papermill": {
     "duration": 0.422156,
     "end_time": "2024-03-01T13:08:46.310155",
     "exception": false,
     "start_time": "2024-03-01T13:08:45.887999",
     "status": "completed"
    },
    "tags": []
   },
   "outputs": [],
   "source": [
    "df_tax_registry_b.to_parquet(output_path+\"train_tax_registry_b.parquet\")"
   ]
  },
  {
   "cell_type": "code",
   "execution_count": null,
   "id": "3ae89071",
   "metadata": {
    "papermill": {
     "duration": 0.02087,
     "end_time": "2024-03-01T13:08:46.352715",
     "exception": false,
     "start_time": "2024-03-01T13:08:46.331845",
     "status": "completed"
    },
    "tags": []
   },
   "outputs": [],
   "source": []
  }
 ],
 "metadata": {
  "kaggle": {
   "accelerator": "none",
   "dataSources": [
    {
     "databundleVersionId": 7602123,
     "sourceId": 50160,
     "sourceType": "competition"
    },
    {
     "sourceId": 164800459,
     "sourceType": "kernelVersion"
    },
    {
     "sourceId": 165005636,
     "sourceType": "kernelVersion"
    }
   ],
   "dockerImageVersionId": 30646,
   "isGpuEnabled": false,
   "isInternetEnabled": true,
   "language": "python",
   "sourceType": "notebook"
  },
  "kernelspec": {
   "display_name": "Python 3",
   "language": "python",
   "name": "python3"
  },
  "language_info": {
   "codemirror_mode": {
    "name": "ipython",
    "version": 3
   },
   "file_extension": ".py",
   "mimetype": "text/x-python",
   "name": "python",
   "nbconvert_exporter": "python",
   "pygments_lexer": "ipython3",
   "version": "3.10.13"
  },
  "papermill": {
   "default_parameters": {},
   "duration": 254.348208,
   "end_time": "2024-03-01T13:08:48.102195",
   "environment_variables": {},
   "exception": null,
   "input_path": "__notebook__.ipynb",
   "output_path": "__notebook__.ipynb",
   "parameters": {},
   "start_time": "2024-03-01T13:04:33.753987",
   "version": "2.5.0"
  }
 },
 "nbformat": 4,
 "nbformat_minor": 5
}
